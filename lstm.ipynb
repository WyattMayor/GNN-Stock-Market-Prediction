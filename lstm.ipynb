{
 "cells": [
  {
   "cell_type": "code",
   "execution_count": 1,
   "metadata": {},
   "outputs": [],
   "source": [
    "import torch\n",
    "import torch.nn as nn\n",
    "import torch.optim as optim\n",
    "from torch.utils.data import DataLoader, Dataset\n",
    "import numpy as np\n",
    "import pandas as pd\n",
    "import os\n",
    "from typing import Optional\n",
    "from sklearn.preprocessing import MinMaxScaler\n",
    "from dataset.data import *\n",
    "from torch.optim.lr_scheduler import ReduceLROnPlateau\n",
    "import torch.nn.functional as F"
   ]
  },
  {
   "cell_type": "code",
   "execution_count": 2,
   "metadata": {},
   "outputs": [
    {
     "name": "stdout",
     "output_type": "stream",
     "text": [
      "Using device: cuda\n"
     ]
    }
   ],
   "source": [
    "device = torch.device(\"cuda\" if torch.cuda.is_available() else \"cpu\")\n",
    "print(f\"Using device: {device}\")"
   ]
  },
  {
   "cell_type": "code",
   "execution_count": 3,
   "metadata": {},
   "outputs": [],
   "source": [
    "class StockDataset(Dataset):\n",
    "    def __init__(self, stock_data, sequence_length=30):\n",
    "        \"\"\"\n",
    "        Args:\n",
    "            stock_data (list): List of dictionaries containing 'history' and 'target'.\n",
    "            sequence_length (int): Number of historical days used as input.\n",
    "        \"\"\"\n",
    "        self.data = stock_data\n",
    "        self.sequence_length = sequence_length\n",
    "\n",
    "    def __len__(self):\n",
    "        return len(self.data)\n",
    "\n",
    "    def __getitem__(self, idx):\n",
    "        x = torch.tensor(self.data[idx]['history'], dtype=torch.float32).unsqueeze(-1)\n",
    "        y = torch.tensor(self.data[idx]['target'], dtype=torch.float32)\n",
    "        return x, y"
   ]
  },
  {
   "cell_type": "code",
   "execution_count": 4,
   "metadata": {},
   "outputs": [],
   "source": [
    "class LSTMModel(nn.Module):\n",
    "    def __init__(self, input_size: int, hidden_size: int, num_layers: int, output_size: int, dropout: float = 0.2):\n",
    "        \"\"\"\n",
    "        LSTM-based model for time series prediction.\n",
    "\n",
    "        Args:\n",
    "            input_size (int): Number of features per time step.\n",
    "            hidden_size (int): Number of hidden units in LSTM layers.\n",
    "            num_layers (int): Number of LSTM layers.\n",
    "            output_size (int): Number of output features.\n",
    "            dropout (float): Dropout rate.\n",
    "        \"\"\"\n",
    "        super(LSTMModel, self).__init__()\n",
    "        self.lstm = nn.LSTM(input_size, hidden_size, num_layers, batch_first=True, dropout=dropout)\n",
    "        self.fc = nn.Linear(hidden_size, output_size)\n",
    "\n",
    "    def forward(self, x):\n",
    "        out, _ = self.lstm(x)\n",
    "        out = self.fc(out[:, -1, :])  # Use the last hidden state\n",
    "        return out"
   ]
  },
  {
   "cell_type": "code",
   "execution_count": 5,
   "metadata": {},
   "outputs": [],
   "source": [
    "def eval_lstm(model, test_loader, device):\n",
    "    \"\"\"\n",
    "    Evaluate the LSTM model.\n",
    "    \"\"\"\n",
    "    model.eval()  # Set model to evaluation mode\n",
    "    total_mape = 0\n",
    "\n",
    "    with torch.no_grad():\n",
    "        for inputs, targets in test_loader:\n",
    "            inputs, targets = inputs.to(device), targets.to(device)\n",
    "\n",
    "            out = model(inputs)\n",
    "            mape = torch.mean(torch.abs((targets - out.squeeze()) / (targets + 1e-7)))\n",
    "            total_mape += mape.item()\n",
    "\n",
    "    return total_mape / len(test_loader)"
   ]
  },
  {
   "cell_type": "code",
   "execution_count": 6,
   "metadata": {},
   "outputs": [],
   "source": [
    "def train_lstm(model, optimizer, train_loader, test_loader, num_epochs, device):\n",
    "    \"\"\"\n",
    "    Train the LSTM model with proper mode management.\n",
    "    \"\"\"\n",
    "    model.train()  # Ensure the model starts in training mode\n",
    "    average_train_loss = []\n",
    "    average_test_mape = []\n",
    "\n",
    "    for epoch in tqdm(range(num_epochs)):\n",
    "        total_train_loss = 0\n",
    "\n",
    "        # Training loop\n",
    "        model.train()  # Set model to training mode\n",
    "        for inputs, targets in train_loader:\n",
    "            inputs, targets = inputs.to(device), targets.to(device)\n",
    "\n",
    "            optimizer.zero_grad()\n",
    "            out = model(inputs)\n",
    "\n",
    "            loss = F.mse_loss(out.squeeze(), targets)\n",
    "            loss.backward()\n",
    "            optimizer.step()\n",
    "\n",
    "            total_train_loss += loss.item()\n",
    "\n",
    "        average_loss = total_train_loss / len(train_loader)\n",
    "        average_train_loss.append(average_loss)\n",
    "\n",
    "        # Evaluation loop\n",
    "        test_mape = eval_lstm(model, test_loader, device)\n",
    "        average_test_mape.append(test_mape)\n",
    "\n",
    "        if epoch % 10 == 0:\n",
    "            print(f\"Epoch {epoch:03d}, Train Loss: {average_loss:.4f}, Val MAPE: {test_mape:.4f}\")\n",
    "\n",
    "    return average_train_loss, average_test_mape"
   ]
  },
  {
   "cell_type": "code",
   "execution_count": 7,
   "metadata": {},
   "outputs": [],
   "source": [
    "def prepare_stock_data(dataset, sequence_length=30):\n",
    "    \"\"\"\n",
    "    Prepares the stock data for LSTM training directly from the dataset.\n",
    "\n",
    "    Args:\n",
    "        dataset (NASDAQDataset): The initialized and processed NASDAQDataset object.\n",
    "        sequence_length (int): Number of historical days to use as input.\n",
    "\n",
    "    Returns:\n",
    "        list: A list of dictionaries with 'history' and 'target'.\n",
    "    \"\"\"\n",
    "    stock_data = []\n",
    "\n",
    "    for stock in dataset.filtered_stock_list:\n",
    "        stock_df = dataset.data[stock]\n",
    "\n",
    "        for i in range(sequence_length, len(stock_df) - 1):  # Ensure enough data for history and target\n",
    "            history = stock_df['Adj Close'].iloc[i - sequence_length:i].values\n",
    "            target = stock_df['Adj Close'].iloc[i + 1]\n",
    "            stock_data.append({\n",
    "                \"history\": history.tolist(),\n",
    "                \"target\": target\n",
    "            })\n",
    "\n",
    "    return stock_data"
   ]
  },
  {
   "cell_type": "code",
   "execution_count": null,
   "metadata": {},
   "outputs": [],
   "source": [
    "import matplotlib.pyplot as plt\n",
    "\n",
    "def main():\n",
    "    # Initialize dataset\n",
    "    stocks_path = \"dataset\\\\dataset\\\\stocks\"\n",
    "    meta_path = \"dataset\\\\dataset\\\\symbols_valid_meta.csv\"\n",
    "    nasdaq_100_path = \"dataset\\\\LSTMStock.csv\"\n",
    "    start_date = \"2014-01-01\"\n",
    "\n",
    "    dataset = NASDAQDataset(stocks_path, meta_path, nasdaq_100_path, start_date)\n",
    "\n",
    "    dataset.read_data()\n",
    "\n",
    "    # Prepare stock data for LSTM\n",
    "    sequence_length = 50\n",
    "    stock_data = prepare_stock_data(dataset, sequence_length)\n",
    "\n",
    "    # Normalize stock data\n",
    "    scaler = MinMaxScaler(feature_range=(0, 1))\n",
    "    for stock in dataset.filtered_stock_list:\n",
    "        dataset.data[stock]['Adj Close'] = scaler.fit_transform(dataset.data[stock]['Adj Close'].values.reshape(-1, 1))\n",
    "\n",
    "    # Split into train and test sets\n",
    "    train_size = 1000\n",
    "    train_data = stock_data[:train_size]\n",
    "    test_data = stock_data[train_size:]\n",
    "\n",
    "    train_dataset = StockDataset(train_data, sequence_length)\n",
    "    test_dataset = StockDataset(test_data, sequence_length)\n",
    "\n",
    "    print(f\"Training samples: {len(train_data)}\")\n",
    "    print(f\"Testing samples: {len(test_data)}\")\n",
    "\n",
    "    train_loader = DataLoader(train_dataset, batch_size=16, shuffle=True)\n",
    "    test_loader = DataLoader(test_dataset, batch_size=16, shuffle=False)\n",
    "\n",
    "    # Initialize LSTM model\n",
    "    input_size = 1  # Historical closing prices\n",
    "    hidden_size = 128\n",
    "    num_layers = 3\n",
    "    output_size = 1\n",
    "\n",
    "    device = torch.device(\"cuda\" if torch.cuda.is_available() else \"cpu\")\n",
    "    model = LSTMModel(input_size, hidden_size, num_layers, output_size, dropout=0.3).to(device)\n",
    "    optimizer = optim.Adam(model.parameters(), lr=0.0001, weight_decay=1e-5)\n",
    "    scheduler = ReduceLROnPlateau(optimizer, mode='min', factor=0.5, patience=5, verbose=True)\n",
    "\n",
    "    # Train the model\n",
    "    epochs = 500\n",
    "    average_train_loss, average_test_mape = train_lstm(\n",
    "        model, optimizer, train_loader, test_loader, epochs, device\n",
    "    )\n",
    "\n",
    "    # Save the model\n",
    "    model_save_path = \"lstm_stock_model.pth\"\n",
    "    torch.save(model.state_dict(), model_save_path)\n",
    "    print(f\"Model saved at {model_save_path}.\")\n",
    "\n",
    "    # Plot validation MAPE\n",
    "    plt.title('Validation MAPE')\n",
    "    plt.plot(average_test_mape, label='LSTM')\n",
    "    plt.legend()\n",
    "    plt.xlabel('Epochs')\n",
    "    plt.ylabel('Mean Absolute Percentage Error')\n",
    "    plt.show()\n",
    "\n",
    "    # Print final metrics\n",
    "    print(f\"Final Train Loss: {average_train_loss[-1]:.4f}, Final Test MAPE: {average_test_mape[-1]:.4f}\")"
   ]
  },
  {
   "cell_type": "code",
   "execution_count": 11,
   "metadata": {},
   "outputs": [
    {
     "name": "stderr",
     "output_type": "stream",
     "text": [
      "100%|██████████| 1/1 [00:00<00:00, 64.37it/s]\n",
      "c:\\Users\\wyatt\\.conda\\envs\\Python38\\lib\\site-packages\\torch\\optim\\lr_scheduler.py:60: UserWarning: The verbose parameter is deprecated. Please use get_last_lr() to access the learning rate.\n",
      "  warnings.warn(\n"
     ]
    },
    {
     "name": "stdout",
     "output_type": "stream",
     "text": [
      "{'MSFT': {Timestamp('2018-12-26 00:00:00'), Timestamp('2016-09-12 00:00:00'), Timestamp('2014-08-27 00:00:00'), Timestamp('2016-04-06 00:00:00'), Timestamp('2017-08-04 00:00:00'), Timestamp('2014-06-27 00:00:00'), Timestamp('2014-10-22 00:00:00'), Timestamp('2016-09-27 00:00:00'), Timestamp('2019-06-21 00:00:00'), Timestamp('2017-08-07 00:00:00'), Timestamp('2020-01-28 00:00:00'), Timestamp('2015-04-17 00:00:00'), Timestamp('2019-06-18 00:00:00'), Timestamp('2016-02-29 00:00:00'), Timestamp('2017-06-27 00:00:00'), Timestamp('2016-08-26 00:00:00'), Timestamp('2019-01-07 00:00:00'), Timestamp('2016-09-29 00:00:00'), Timestamp('2018-12-24 00:00:00'), Timestamp('2015-08-26 00:00:00'), Timestamp('2014-03-31 00:00:00'), Timestamp('2020-01-13 00:00:00'), Timestamp('2015-12-08 00:00:00'), Timestamp('2019-09-06 00:00:00'), Timestamp('2019-03-18 00:00:00'), Timestamp('2019-04-22 00:00:00'), Timestamp('2019-03-12 00:00:00'), Timestamp('2015-07-06 00:00:00'), Timestamp('2019-12-23 00:00:00'), Timestamp('2019-11-14 00:00:00'), Timestamp('2017-02-09 00:00:00'), Timestamp('2020-03-03 00:00:00'), Timestamp('2014-04-30 00:00:00'), Timestamp('2015-04-15 00:00:00'), Timestamp('2017-11-22 00:00:00'), Timestamp('2014-07-30 00:00:00'), Timestamp('2019-06-24 00:00:00'), Timestamp('2014-01-13 00:00:00'), Timestamp('2018-08-10 00:00:00'), Timestamp('2014-01-16 00:00:00'), Timestamp('2016-02-25 00:00:00'), Timestamp('2016-04-28 00:00:00'), Timestamp('2016-10-10 00:00:00'), Timestamp('2015-09-21 00:00:00'), Timestamp('2017-08-23 00:00:00'), Timestamp('2019-03-26 00:00:00'), Timestamp('2019-04-30 00:00:00'), Timestamp('2016-11-09 00:00:00'), Timestamp('2018-02-16 00:00:00'), Timestamp('2018-11-08 00:00:00'), Timestamp('2018-08-09 00:00:00'), Timestamp('2015-03-18 00:00:00'), Timestamp('2017-12-18 00:00:00'), Timestamp('2014-09-18 00:00:00'), Timestamp('2016-06-27 00:00:00'), Timestamp('2015-12-29 00:00:00'), Timestamp('2019-05-03 00:00:00'), Timestamp('2016-06-28 00:00:00'), Timestamp('2016-02-09 00:00:00'), Timestamp('2015-07-16 00:00:00'), Timestamp('2018-02-06 00:00:00'), Timestamp('2019-01-31 00:00:00'), Timestamp('2018-02-15 00:00:00'), Timestamp('2016-07-22 00:00:00'), Timestamp('2018-09-12 00:00:00'), Timestamp('2019-09-23 00:00:00'), Timestamp('2016-03-11 00:00:00'), Timestamp('2019-04-05 00:00:00'), Timestamp('2019-04-12 00:00:00'), Timestamp('2014-08-20 00:00:00'), Timestamp('2019-09-12 00:00:00'), Timestamp('2015-07-30 00:00:00'), Timestamp('2016-12-19 00:00:00'), Timestamp('2018-08-31 00:00:00'), Timestamp('2017-10-04 00:00:00'), Timestamp('2016-01-07 00:00:00'), Timestamp('2016-10-03 00:00:00'), Timestamp('2016-11-08 00:00:00'), Timestamp('2016-12-01 00:00:00'), Timestamp('2015-10-12 00:00:00'), Timestamp('2016-08-19 00:00:00'), Timestamp('2018-06-28 00:00:00'), Timestamp('2019-07-19 00:00:00'), Timestamp('2015-05-08 00:00:00'), Timestamp('2014-11-18 00:00:00'), Timestamp('2014-07-18 00:00:00'), Timestamp('2016-06-01 00:00:00'), Timestamp('2016-01-19 00:00:00'), Timestamp('2018-10-03 00:00:00'), Timestamp('2019-01-17 00:00:00'), Timestamp('2017-10-17 00:00:00'), Timestamp('2015-05-21 00:00:00'), Timestamp('2014-12-24 00:00:00'), Timestamp('2019-07-08 00:00:00'), Timestamp('2014-12-29 00:00:00'), Timestamp('2018-10-12 00:00:00'), Timestamp('2015-01-30 00:00:00'), Timestamp('2018-07-25 00:00:00'), Timestamp('2018-02-09 00:00:00'), Timestamp('2015-08-14 00:00:00'), Timestamp('2016-10-19 00:00:00'), Timestamp('2015-07-13 00:00:00'), Timestamp('2016-02-11 00:00:00'), Timestamp('2018-04-09 00:00:00'), Timestamp('2016-03-14 00:00:00'), Timestamp('2015-11-19 00:00:00'), Timestamp('2019-07-10 00:00:00'), Timestamp('2015-08-12 00:00:00'), Timestamp('2016-11-10 00:00:00'), Timestamp('2014-10-16 00:00:00'), Timestamp('2018-03-06 00:00:00'), Timestamp('2018-12-07 00:00:00'), Timestamp('2017-09-26 00:00:00'), Timestamp('2016-01-29 00:00:00'), Timestamp('2016-12-22 00:00:00'), Timestamp('2016-04-14 00:00:00'), Timestamp('2018-03-05 00:00:00'), Timestamp('2016-05-18 00:00:00'), Timestamp('2016-11-18 00:00:00'), Timestamp('2015-09-17 00:00:00'), Timestamp('2015-04-08 00:00:00'), Timestamp('2017-05-08 00:00:00'), Timestamp('2014-06-04 00:00:00'), Timestamp('2016-06-20 00:00:00'), Timestamp('2020-01-02 00:00:00'), Timestamp('2016-02-05 00:00:00'), Timestamp('2018-08-06 00:00:00'), Timestamp('2015-10-27 00:00:00'), Timestamp('2015-07-08 00:00:00'), Timestamp('2018-06-04 00:00:00'), Timestamp('2018-05-04 00:00:00'), Timestamp('2017-03-10 00:00:00'), Timestamp('2019-11-20 00:00:00'), Timestamp('2016-09-08 00:00:00'), Timestamp('2017-04-17 00:00:00'), Timestamp('2014-12-18 00:00:00'), Timestamp('2018-09-05 00:00:00'), Timestamp('2017-03-08 00:00:00'), Timestamp('2017-06-19 00:00:00'), Timestamp('2016-06-13 00:00:00'), Timestamp('2018-10-25 00:00:00'), Timestamp('2016-12-06 00:00:00'), Timestamp('2017-10-06 00:00:00'), Timestamp('2019-11-18 00:00:00'), Timestamp('2017-02-03 00:00:00'), Timestamp('2018-10-22 00:00:00'), Timestamp('2020-03-17 00:00:00'), Timestamp('2014-12-01 00:00:00'), Timestamp('2019-01-25 00:00:00'), Timestamp('2016-02-17 00:00:00'), Timestamp('2018-12-14 00:00:00'), Timestamp('2015-10-26 00:00:00'), Timestamp('2015-04-24 00:00:00'), Timestamp('2019-05-30 00:00:00'), Timestamp('2017-08-22 00:00:00'), Timestamp('2019-09-03 00:00:00'), Timestamp('2014-12-23 00:00:00'), Timestamp('2016-12-23 00:00:00'), Timestamp('2018-05-29 00:00:00'), Timestamp('2014-02-18 00:00:00'), Timestamp('2018-10-02 00:00:00'), Timestamp('2019-09-05 00:00:00'), Timestamp('2015-04-22 00:00:00'), Timestamp('2018-02-05 00:00:00'), Timestamp('2015-10-02 00:00:00'), Timestamp('2018-04-03 00:00:00'), Timestamp('2015-05-04 00:00:00'), Timestamp('2014-01-30 00:00:00'), Timestamp('2017-11-15 00:00:00'), Timestamp('2019-08-05 00:00:00'), Timestamp('2019-03-07 00:00:00'), Timestamp('2015-03-03 00:00:00'), Timestamp('2014-10-29 00:00:00'), Timestamp('2015-09-02 00:00:00'), Timestamp('2019-10-18 00:00:00'), Timestamp('2017-04-13 00:00:00'), Timestamp('2017-06-28 00:00:00'), Timestamp('2018-04-24 00:00:00'), Timestamp('2018-10-15 00:00:00'), Timestamp('2018-09-11 00:00:00'), Timestamp('2016-02-24 00:00:00'), Timestamp('2016-08-02 00:00:00'), Timestamp('2015-06-02 00:00:00'), Timestamp('2019-09-16 00:00:00'), Timestamp('2016-10-13 00:00:00'), Timestamp('2016-08-08 00:00:00'), Timestamp('2015-09-24 00:00:00'), Timestamp('2014-11-07 00:00:00'), Timestamp('2019-08-21 00:00:00'), Timestamp('2015-03-10 00:00:00'), Timestamp('2017-11-10 00:00:00'), Timestamp('2016-09-19 00:00:00'), Timestamp('2014-10-10 00:00:00'), Timestamp('2014-12-19 00:00:00'), Timestamp('2017-06-12 00:00:00'), Timestamp('2014-08-08 00:00:00'), Timestamp('2017-12-08 00:00:00'), Timestamp('2016-06-21 00:00:00'), Timestamp('2016-07-14 00:00:00'), Timestamp('2017-07-25 00:00:00'), Timestamp('2018-11-05 00:00:00'), Timestamp('2018-01-24 00:00:00'), Timestamp('2015-04-14 00:00:00'), Timestamp('2014-06-23 00:00:00'), Timestamp('2016-09-20 00:00:00'), Timestamp('2016-02-12 00:00:00'), Timestamp('2017-08-25 00:00:00'), Timestamp('2016-10-05 00:00:00'), Timestamp('2018-08-22 00:00:00'), Timestamp('2015-10-19 00:00:00'), Timestamp('2017-01-09 00:00:00'), Timestamp('2014-03-12 00:00:00'), Timestamp('2018-06-06 00:00:00'), Timestamp('2016-04-22 00:00:00'), Timestamp('2016-03-30 00:00:00'), Timestamp('2018-11-26 00:00:00'), Timestamp('2017-05-19 00:00:00'), Timestamp('2016-08-01 00:00:00'), Timestamp('2019-07-22 00:00:00'), Timestamp('2020-02-14 00:00:00'), Timestamp('2014-10-08 00:00:00'), Timestamp('2015-03-26 00:00:00'), Timestamp('2018-07-17 00:00:00'), Timestamp('2014-06-30 00:00:00'), Timestamp('2016-12-29 00:00:00'), Timestamp('2017-10-20 00:00:00'), Timestamp('2015-06-05 00:00:00'), Timestamp('2018-10-30 00:00:00'), Timestamp('2015-04-27 00:00:00'), Timestamp('2014-10-14 00:00:00'), Timestamp('2014-05-22 00:00:00'), Timestamp('2020-01-29 00:00:00'), Timestamp('2015-08-18 00:00:00'), Timestamp('2016-08-15 00:00:00'), Timestamp('2017-09-05 00:00:00'), Timestamp('2019-02-26 00:00:00'), Timestamp('2018-02-08 00:00:00'), Timestamp('2016-06-02 00:00:00'), Timestamp('2016-06-22 00:00:00'), Timestamp('2014-11-19 00:00:00'), Timestamp('2019-05-17 00:00:00'), Timestamp('2018-09-28 00:00:00'), Timestamp('2020-01-14 00:00:00'), Timestamp('2016-04-18 00:00:00'), Timestamp('2016-02-04 00:00:00'), Timestamp('2016-12-08 00:00:00'), Timestamp('2014-12-03 00:00:00'), Timestamp('2015-03-31 00:00:00'), Timestamp('2016-01-06 00:00:00'), Timestamp('2018-09-10 00:00:00'), Timestamp('2015-12-21 00:00:00'), Timestamp('2015-11-03 00:00:00'), Timestamp('2014-03-24 00:00:00'), Timestamp('2015-12-14 00:00:00'), Timestamp('2015-03-12 00:00:00'), Timestamp('2019-02-25 00:00:00'), Timestamp('2018-04-18 00:00:00'), Timestamp('2019-04-11 00:00:00'), Timestamp('2015-07-31 00:00:00'), Timestamp('2019-05-13 00:00:00'), Timestamp('2017-11-13 00:00:00'), Timestamp('2017-12-29 00:00:00'), Timestamp('2015-05-19 00:00:00'), Timestamp('2017-05-17 00:00:00'), Timestamp('2014-12-22 00:00:00'), Timestamp('2016-08-23 00:00:00'), Timestamp('2015-06-08 00:00:00'), Timestamp('2020-01-06 00:00:00'), Timestamp('2015-01-16 00:00:00'), Timestamp('2019-10-23 00:00:00'), Timestamp('2014-03-26 00:00:00'), Timestamp('2017-01-17 00:00:00'), Timestamp('2014-10-15 00:00:00'), Timestamp('2017-08-03 00:00:00'), Timestamp('2018-04-30 00:00:00'), Timestamp('2018-02-07 00:00:00'), Timestamp('2014-03-21 00:00:00'), Timestamp('2016-10-14 00:00:00'), Timestamp('2014-02-26 00:00:00'), Timestamp('2016-07-12 00:00:00'), Timestamp('2016-08-05 00:00:00'), Timestamp('2017-03-23 00:00:00'), Timestamp('2018-12-20 00:00:00'), Timestamp('2018-08-23 00:00:00'), Timestamp('2016-06-14 00:00:00'), Timestamp('2015-08-07 00:00:00'), Timestamp('2014-08-26 00:00:00'), Timestamp('2018-01-18 00:00:00'), Timestamp('2019-02-12 00:00:00'), Timestamp('2017-11-06 00:00:00'), Timestamp('2019-08-16 00:00:00'), Timestamp('2017-02-13 00:00:00'), Timestamp('2015-12-02 00:00:00'), Timestamp('2018-01-17 00:00:00'), Timestamp('2014-12-05 00:00:00'), Timestamp('2017-06-02 00:00:00'), Timestamp('2017-09-20 00:00:00'), Timestamp('2019-07-17 00:00:00'), Timestamp('2020-02-18 00:00:00'), Timestamp('2015-06-26 00:00:00'), Timestamp('2018-12-28 00:00:00'), Timestamp('2016-09-15 00:00:00'), Timestamp('2019-10-21 00:00:00'), Timestamp('2018-06-19 00:00:00'), Timestamp('2018-12-12 00:00:00'), Timestamp('2015-12-16 00:00:00'), Timestamp('2016-01-25 00:00:00'), Timestamp('2015-02-02 00:00:00'), Timestamp('2015-10-28 00:00:00'), Timestamp('2018-07-06 00:00:00'), Timestamp('2017-11-20 00:00:00'), Timestamp('2019-11-22 00:00:00'), Timestamp('2017-03-07 00:00:00'), Timestamp('2016-03-04 00:00:00'), Timestamp('2016-05-02 00:00:00'), Timestamp('2015-01-07 00:00:00'), Timestamp('2016-02-08 00:00:00'), Timestamp('2018-04-02 00:00:00'), Timestamp('2017-12-22 00:00:00'), Timestamp('2015-10-23 00:00:00'), Timestamp('2015-06-30 00:00:00'), Timestamp('2016-04-04 00:00:00'), Timestamp('2018-02-12 00:00:00'), Timestamp('2015-10-07 00:00:00'), Timestamp('2014-05-15 00:00:00'), Timestamp('2018-06-12 00:00:00'), Timestamp('2014-05-30 00:00:00'), Timestamp('2015-10-08 00:00:00'), Timestamp('2017-02-14 00:00:00'), Timestamp('2016-04-11 00:00:00'), Timestamp('2014-03-17 00:00:00'), Timestamp('2016-01-27 00:00:00'), Timestamp('2014-08-25 00:00:00'), Timestamp('2016-10-27 00:00:00'), Timestamp('2017-04-10 00:00:00'), Timestamp('2015-03-06 00:00:00'), Timestamp('2020-01-15 00:00:00'), Timestamp('2014-12-08 00:00:00'), Timestamp('2015-03-11 00:00:00'), Timestamp('2016-08-09 00:00:00'), Timestamp('2018-05-25 00:00:00'), Timestamp('2015-12-17 00:00:00'), Timestamp('2019-08-27 00:00:00'), Timestamp('2019-11-15 00:00:00'), Timestamp('2015-01-13 00:00:00'), Timestamp('2015-12-28 00:00:00'), Timestamp('2014-12-09 00:00:00'), Timestamp('2015-07-02 00:00:00'), Timestamp('2018-03-07 00:00:00'), Timestamp('2015-01-08 00:00:00'), Timestamp('2017-09-28 00:00:00'), Timestamp('2014-02-25 00:00:00'), Timestamp('2015-09-04 00:00:00'), Timestamp('2018-08-24 00:00:00'), Timestamp('2019-01-04 00:00:00'), Timestamp('2015-09-15 00:00:00'), Timestamp('2016-01-20 00:00:00'), Timestamp('2015-05-22 00:00:00'), Timestamp('2018-01-04 00:00:00'), Timestamp('2019-05-21 00:00:00'), Timestamp('2016-12-27 00:00:00'), Timestamp('2019-01-10 00:00:00'), Timestamp('2016-10-11 00:00:00'), Timestamp('2019-01-28 00:00:00'), Timestamp('2019-03-11 00:00:00'), Timestamp('2017-09-27 00:00:00'), Timestamp('2016-11-02 00:00:00'), Timestamp('2014-06-17 00:00:00'), Timestamp('2017-04-11 00:00:00'), Timestamp('2016-06-16 00:00:00'), Timestamp('2019-08-06 00:00:00'), Timestamp('2017-05-11 00:00:00'), Timestamp('2019-06-12 00:00:00'), Timestamp('2017-12-20 00:00:00'), Timestamp('2019-11-21 00:00:00'), Timestamp('2016-01-22 00:00:00'), Timestamp('2019-01-29 00:00:00'), Timestamp('2018-08-02 00:00:00'), Timestamp('2020-03-05 00:00:00'), Timestamp('2015-04-16 00:00:00'), Timestamp('2016-07-19 00:00:00'), Timestamp('2014-04-22 00:00:00'), Timestamp('2015-02-05 00:00:00'), Timestamp('2014-10-02 00:00:00'), Timestamp('2014-05-27 00:00:00'), Timestamp('2015-12-15 00:00:00'), Timestamp('2017-07-24 00:00:00'), Timestamp('2018-07-03 00:00:00'), Timestamp('2020-01-10 00:00:00'), Timestamp('2014-02-24 00:00:00'), Timestamp('2016-01-12 00:00:00'), Timestamp('2019-10-07 00:00:00'), Timestamp('2016-04-13 00:00:00'), Timestamp('2018-10-08 00:00:00'), Timestamp('2015-06-17 00:00:00'), Timestamp('2014-11-13 00:00:00'), Timestamp('2018-08-14 00:00:00'), Timestamp('2019-05-01 00:00:00'), Timestamp('2019-11-27 00:00:00'), Timestamp('2015-04-09 00:00:00'), Timestamp('2019-12-13 00:00:00'), Timestamp('2016-08-31 00:00:00'), Timestamp('2016-02-03 00:00:00'), Timestamp('2018-01-03 00:00:00'), Timestamp('2016-04-26 00:00:00'), Timestamp('2020-02-21 00:00:00'), Timestamp('2019-05-06 00:00:00'), Timestamp('2019-10-22 00:00:00'), Timestamp('2018-06-14 00:00:00'), Timestamp('2014-08-11 00:00:00'), Timestamp('2016-03-02 00:00:00'), Timestamp('2017-11-28 00:00:00'), Timestamp('2016-02-19 00:00:00'), Timestamp('2018-07-10 00:00:00'), Timestamp('2016-09-23 00:00:00'), Timestamp('2019-11-06 00:00:00'), Timestamp('2016-05-06 00:00:00'), Timestamp('2016-01-13 00:00:00'), Timestamp('2016-11-29 00:00:00'), Timestamp('2018-04-27 00:00:00'), Timestamp('2016-12-30 00:00:00'), Timestamp('2017-01-20 00:00:00'), Timestamp('2014-10-01 00:00:00'), Timestamp('2017-12-01 00:00:00'), Timestamp('2017-04-05 00:00:00'), Timestamp('2015-06-04 00:00:00'), Timestamp('2017-08-18 00:00:00'), Timestamp('2018-12-18 00:00:00'), Timestamp('2016-09-28 00:00:00'), Timestamp('2015-09-14 00:00:00'), Timestamp('2020-03-09 00:00:00'), Timestamp('2014-12-31 00:00:00'), Timestamp('2015-07-07 00:00:00'), Timestamp('2020-01-30 00:00:00'), Timestamp('2015-11-13 00:00:00'), Timestamp('2019-09-19 00:00:00'), Timestamp('2014-09-11 00:00:00'), Timestamp('2017-02-10 00:00:00'), Timestamp('2014-12-30 00:00:00'), Timestamp('2017-04-21 00:00:00'), Timestamp('2018-07-26 00:00:00'), Timestamp('2018-05-15 00:00:00'), Timestamp('2019-01-16 00:00:00'), Timestamp('2019-10-31 00:00:00'), Timestamp('2014-09-25 00:00:00'), Timestamp('2020-02-12 00:00:00'), Timestamp('2015-01-14 00:00:00'), Timestamp('2017-06-22 00:00:00'), Timestamp('2019-02-15 00:00:00'), Timestamp('2019-04-02 00:00:00'), Timestamp('2014-10-24 00:00:00'), Timestamp('2018-06-21 00:00:00'), Timestamp('2019-01-14 00:00:00'), Timestamp('2019-05-02 00:00:00'), Timestamp('2018-11-07 00:00:00'), Timestamp('2016-12-12 00:00:00'), Timestamp('2017-02-07 00:00:00'), Timestamp('2014-10-20 00:00:00'), Timestamp('2016-07-27 00:00:00'), Timestamp('2019-04-15 00:00:00'), Timestamp('2019-10-17 00:00:00'), Timestamp('2015-09-09 00:00:00'), Timestamp('2015-04-10 00:00:00'), Timestamp('2019-04-23 00:00:00'), Timestamp('2017-12-27 00:00:00'), Timestamp('2019-01-22 00:00:00'), Timestamp('2015-12-31 00:00:00'), Timestamp('2016-03-31 00:00:00'), Timestamp('2017-08-30 00:00:00'), Timestamp('2018-08-03 00:00:00'), Timestamp('2017-02-28 00:00:00'), Timestamp('2019-12-20 00:00:00'), Timestamp('2016-05-16 00:00:00'), Timestamp('2014-07-29 00:00:00'), Timestamp('2016-10-25 00:00:00'), Timestamp('2018-10-23 00:00:00'), Timestamp('2014-01-08 00:00:00'), Timestamp('2015-09-16 00:00:00'), Timestamp('2014-08-15 00:00:00'), Timestamp('2014-08-22 00:00:00'), Timestamp('2017-05-23 00:00:00'), Timestamp('2018-10-24 00:00:00'), Timestamp('2018-12-13 00:00:00'), Timestamp('2017-06-08 00:00:00'), Timestamp('2018-07-09 00:00:00'), Timestamp('2018-12-17 00:00:00'), Timestamp('2016-09-22 00:00:00'), Timestamp('2019-11-08 00:00:00'), Timestamp('2015-10-20 00:00:00'), Timestamp('2016-08-17 00:00:00'), Timestamp('2019-06-28 00:00:00'), Timestamp('2016-06-06 00:00:00'), Timestamp('2016-09-21 00:00:00'), Timestamp('2019-11-07 00:00:00'), Timestamp('2018-01-02 00:00:00'), Timestamp('2015-03-05 00:00:00'), Timestamp('2018-06-15 00:00:00'), Timestamp('2017-10-31 00:00:00'), Timestamp('2014-09-23 00:00:00'), Timestamp('2016-09-16 00:00:00'), Timestamp('2014-02-13 00:00:00'), Timestamp('2020-01-24 00:00:00'), Timestamp('2019-09-30 00:00:00'), Timestamp('2014-01-24 00:00:00'), Timestamp('2016-04-20 00:00:00'), Timestamp('2016-06-23 00:00:00'), Timestamp('2014-11-03 00:00:00'), Timestamp('2017-03-20 00:00:00'), Timestamp('2015-04-01 00:00:00'), Timestamp('2015-08-20 00:00:00'), Timestamp('2014-10-27 00:00:00'), Timestamp('2017-10-03 00:00:00'), Timestamp('2018-08-07 00:00:00'), Timestamp('2015-08-03 00:00:00'), Timestamp('2017-06-16 00:00:00'), Timestamp('2015-06-01 00:00:00'), Timestamp('2016-05-23 00:00:00'), Timestamp('2019-06-20 00:00:00'), Timestamp('2020-02-26 00:00:00'), Timestamp('2016-03-29 00:00:00'), Timestamp('2014-03-28 00:00:00'), Timestamp('2014-09-15 00:00:00'), Timestamp('2018-08-08 00:00:00'), Timestamp('2015-08-21 00:00:00'), Timestamp('2017-04-18 00:00:00'), Timestamp('2015-10-13 00:00:00'), Timestamp('2018-05-08 00:00:00'), Timestamp('2018-05-10 00:00:00'), Timestamp('2015-01-12 00:00:00'), Timestamp('2019-05-16 00:00:00'), Timestamp('2018-01-05 00:00:00'), Timestamp('2015-01-26 00:00:00'), Timestamp('2017-06-06 00:00:00'), Timestamp('2014-06-13 00:00:00'), Timestamp('2017-11-17 00:00:00'), Timestamp('2015-06-23 00:00:00'), Timestamp('2017-01-19 00:00:00'), Timestamp('2017-05-24 00:00:00'), Timestamp('2016-05-17 00:00:00'), Timestamp('2016-07-20 00:00:00'), Timestamp('2017-10-10 00:00:00'), Timestamp('2014-10-28 00:00:00'), Timestamp('2019-10-03 00:00:00'), Timestamp('2018-11-02 00:00:00'), Timestamp('2017-10-24 00:00:00'), Timestamp('2015-04-21 00:00:00'), Timestamp('2014-11-24 00:00:00'), Timestamp('2016-04-12 00:00:00'), Timestamp('2019-03-29 00:00:00'), Timestamp('2017-05-02 00:00:00'), Timestamp('2014-09-29 00:00:00'), Timestamp('2017-04-27 00:00:00'), Timestamp('2018-05-09 00:00:00'), Timestamp('2016-10-24 00:00:00'), Timestamp('2017-12-13 00:00:00'), Timestamp('2017-08-31 00:00:00'), Timestamp('2015-05-15 00:00:00'), Timestamp('2017-02-15 00:00:00'), Timestamp('2014-06-26 00:00:00'), Timestamp('2017-06-15 00:00:00'), Timestamp('2015-05-20 00:00:00'), Timestamp('2015-02-09 00:00:00'), Timestamp('2016-02-02 00:00:00'), Timestamp('2016-08-18 00:00:00'), Timestamp('2014-02-27 00:00:00'), Timestamp('2018-10-18 00:00:00'), Timestamp('2019-02-21 00:00:00'), Timestamp('2020-01-09 00:00:00'), Timestamp('2016-09-09 00:00:00'), Timestamp('2018-09-24 00:00:00'), Timestamp('2017-05-22 00:00:00'), Timestamp('2015-01-05 00:00:00'), Timestamp('2017-12-26 00:00:00'), Timestamp('2015-12-07 00:00:00'), Timestamp('2016-12-07 00:00:00'), Timestamp('2019-11-19 00:00:00'), Timestamp('2020-03-10 00:00:00'), Timestamp('2017-01-13 00:00:00'), Timestamp('2017-03-09 00:00:00'), Timestamp('2017-07-10 00:00:00'), Timestamp('2019-09-10 00:00:00'), Timestamp('2016-05-25 00:00:00'), Timestamp('2017-06-01 00:00:00'), Timestamp('2015-11-06 00:00:00'), Timestamp('2018-10-04 00:00:00'), Timestamp('2014-02-11 00:00:00'), Timestamp('2016-07-26 00:00:00'), Timestamp('2014-04-28 00:00:00'), Timestamp('2015-08-10 00:00:00'), Timestamp('2018-07-13 00:00:00'), Timestamp('2014-11-20 00:00:00'), Timestamp('2014-02-07 00:00:00'), Timestamp('2015-05-13 00:00:00'), Timestamp('2017-07-07 00:00:00'), Timestamp('2017-03-17 00:00:00'), Timestamp('2015-06-11 00:00:00'), Timestamp('2017-11-24 00:00:00'), Timestamp('2016-05-27 00:00:00'), Timestamp('2016-10-06 00:00:00'), Timestamp('2018-11-29 00:00:00'), Timestamp('2018-08-30 00:00:00'), Timestamp('2019-05-09 00:00:00'), Timestamp('2019-09-25 00:00:00'), Timestamp('2019-08-14 00:00:00'), Timestamp('2014-11-14 00:00:00'), Timestamp('2017-11-08 00:00:00'), Timestamp('2017-09-25 00:00:00'), Timestamp('2018-04-20 00:00:00'), Timestamp('2015-06-19 00:00:00'), Timestamp('2019-10-10 00:00:00'), Timestamp('2015-09-08 00:00:00'), Timestamp('2019-10-02 00:00:00'), Timestamp('2019-02-11 00:00:00'), Timestamp('2016-10-20 00:00:00'), Timestamp('2019-12-18 00:00:00'), Timestamp('2018-10-17 00:00:00'), Timestamp('2014-11-04 00:00:00'), Timestamp('2014-11-05 00:00:00'), Timestamp('2016-11-25 00:00:00'), Timestamp('2015-02-20 00:00:00'), Timestamp('2019-10-28 00:00:00'), Timestamp('2019-01-23 00:00:00'), Timestamp('2014-08-21 00:00:00'), Timestamp('2019-07-16 00:00:00'), Timestamp('2015-09-18 00:00:00'), Timestamp('2017-06-05 00:00:00'), Timestamp('2014-01-27 00:00:00'), Timestamp('2015-08-04 00:00:00'), Timestamp('2020-02-03 00:00:00'), Timestamp('2019-05-10 00:00:00'), Timestamp('2019-04-04 00:00:00'), Timestamp('2017-01-27 00:00:00'), Timestamp('2015-02-17 00:00:00'), Timestamp('2014-01-06 00:00:00'), Timestamp('2014-09-02 00:00:00'), Timestamp('2017-05-31 00:00:00'), Timestamp('2019-03-15 00:00:00'), Timestamp('2014-03-06 00:00:00'), Timestamp('2019-08-12 00:00:00'), Timestamp('2016-11-15 00:00:00'), Timestamp('2016-09-06 00:00:00'), Timestamp('2015-12-03 00:00:00'), Timestamp('2017-10-11 00:00:00'), Timestamp('2016-05-31 00:00:00'), Timestamp('2020-02-24 00:00:00'), Timestamp('2019-06-27 00:00:00'), Timestamp('2015-07-01 00:00:00'), Timestamp('2018-03-29 00:00:00'), Timestamp('2018-04-13 00:00:00'), Timestamp('2015-02-27 00:00:00'), Timestamp('2015-07-23 00:00:00'), Timestamp('2016-09-02 00:00:00'), Timestamp('2015-09-10 00:00:00'), Timestamp('2016-11-03 00:00:00'), Timestamp('2018-02-22 00:00:00'), Timestamp('2017-08-15 00:00:00'), Timestamp('2016-11-16 00:00:00'), Timestamp('2018-04-16 00:00:00'), Timestamp('2014-06-19 00:00:00'), Timestamp('2014-09-08 00:00:00'), Timestamp('2018-02-01 00:00:00'), Timestamp('2014-06-10 00:00:00'), Timestamp('2019-05-20 00:00:00'), Timestamp('2015-02-25 00:00:00'), Timestamp('2019-11-11 00:00:00'), Timestamp('2018-08-13 00:00:00'), Timestamp('2019-01-24 00:00:00'), Timestamp('2014-09-16 00:00:00'), Timestamp('2015-01-29 00:00:00'), Timestamp('2017-12-04 00:00:00'), Timestamp('2015-11-27 00:00:00'), Timestamp('2014-04-15 00:00:00'), Timestamp('2015-08-06 00:00:00'), Timestamp('2015-02-23 00:00:00'), Timestamp('2014-03-27 00:00:00'), Timestamp('2015-06-16 00:00:00'), Timestamp('2015-04-29 00:00:00'), Timestamp('2016-02-18 00:00:00'), Timestamp('2014-04-29 00:00:00'), Timestamp('2014-11-17 00:00:00'), Timestamp('2019-12-05 00:00:00'), Timestamp('2018-02-27 00:00:00'), Timestamp('2016-05-20 00:00:00'), Timestamp('2018-01-31 00:00:00'), Timestamp('2014-07-22 00:00:00'), Timestamp('2018-12-11 00:00:00'), Timestamp('2017-06-14 00:00:00'), Timestamp('2015-11-25 00:00:00'), Timestamp('2017-12-07 00:00:00'), Timestamp('2018-12-06 00:00:00'), Timestamp('2015-03-16 00:00:00'), Timestamp('2019-06-05 00:00:00'), Timestamp('2016-12-05 00:00:00'), Timestamp('2019-05-29 00:00:00'), Timestamp('2015-01-15 00:00:00'), Timestamp('2019-11-25 00:00:00'), Timestamp('2018-03-21 00:00:00'), Timestamp('2017-09-29 00:00:00'), Timestamp('2019-07-30 00:00:00'), Timestamp('2015-01-20 00:00:00'), Timestamp('2014-01-15 00:00:00'), Timestamp('2016-08-03 00:00:00'), Timestamp('2018-01-12 00:00:00'), Timestamp('2017-04-06 00:00:00'), Timestamp('2014-03-18 00:00:00'), Timestamp('2014-02-05 00:00:00'), Timestamp('2016-08-16 00:00:00'), Timestamp('2017-04-26 00:00:00'), Timestamp('2017-01-25 00:00:00'), Timestamp('2018-09-14 00:00:00'), Timestamp('2019-09-04 00:00:00'), Timestamp('2016-09-14 00:00:00'), Timestamp('2014-10-09 00:00:00'), Timestamp('2016-08-22 00:00:00'), Timestamp('2019-09-17 00:00:00'), Timestamp('2018-06-13 00:00:00'), Timestamp('2016-12-14 00:00:00'), Timestamp('2014-10-17 00:00:00'), Timestamp('2019-12-06 00:00:00'), Timestamp('2017-09-01 00:00:00'), Timestamp('2018-07-16 00:00:00'), Timestamp('2016-11-22 00:00:00'), Timestamp('2020-02-28 00:00:00'), Timestamp('2017-07-21 00:00:00'), Timestamp('2019-05-14 00:00:00'), Timestamp('2015-08-11 00:00:00'), Timestamp('2018-12-19 00:00:00'), Timestamp('2015-05-26 00:00:00'), Timestamp('2015-02-24 00:00:00'), Timestamp('2016-08-29 00:00:00'), Timestamp('2014-10-03 00:00:00'), Timestamp('2019-04-10 00:00:00'), Timestamp('2018-05-31 00:00:00'), Timestamp('2017-03-31 00:00:00'), Timestamp('2017-08-24 00:00:00'), Timestamp('2019-09-27 00:00:00'), Timestamp('2019-06-13 00:00:00'), Timestamp('2015-10-09 00:00:00'), Timestamp('2019-12-24 00:00:00'), Timestamp('2014-08-13 00:00:00'), Timestamp('2014-02-03 00:00:00'), Timestamp('2014-03-04 00:00:00'), Timestamp('2015-05-11 00:00:00'), Timestamp('2018-08-21 00:00:00'), Timestamp('2020-03-11 00:00:00'), Timestamp('2014-04-21 00:00:00'), Timestamp('2019-01-03 00:00:00'), Timestamp('2017-09-12 00:00:00'), Timestamp('2019-10-11 00:00:00'), Timestamp('2019-07-23 00:00:00'), Timestamp('2017-02-21 00:00:00'), Timestamp('2017-12-28 00:00:00'), Timestamp('2014-01-28 00:00:00'), Timestamp('2014-04-09 00:00:00'), Timestamp('2014-03-25 00:00:00'), Timestamp('2014-08-07 00:00:00'), Timestamp('2020-03-23 00:00:00'), Timestamp('2014-06-09 00:00:00'), Timestamp('2015-07-15 00:00:00'), Timestamp('2017-04-24 00:00:00'), Timestamp('2015-12-23 00:00:00'), Timestamp('2015-01-27 00:00:00'), Timestamp('2016-08-10 00:00:00'), Timestamp('2014-01-21 00:00:00'), Timestamp('2016-07-08 00:00:00'), Timestamp('2019-01-18 00:00:00'), Timestamp('2019-08-07 00:00:00'), Timestamp('2018-03-02 00:00:00'), Timestamp('2019-03-22 00:00:00'), Timestamp('2018-11-20 00:00:00'), Timestamp('2015-10-21 00:00:00'), Timestamp('2017-01-24 00:00:00'), Timestamp('2018-10-09 00:00:00'), Timestamp('2014-08-14 00:00:00'), Timestamp('2019-03-08 00:00:00'), Timestamp('2014-12-26 00:00:00'), Timestamp('2018-01-10 00:00:00'), Timestamp('2014-07-23 00:00:00'), Timestamp('2017-02-22 00:00:00'), Timestamp('2016-01-26 00:00:00'), Timestamp('2019-01-30 00:00:00'), Timestamp('2015-02-26 00:00:00'), Timestamp('2016-06-30 00:00:00'), Timestamp('2014-06-03 00:00:00'), Timestamp('2017-08-08 00:00:00'), Timestamp('2015-01-09 00:00:00'), Timestamp('2016-11-04 00:00:00'), Timestamp('2014-05-16 00:00:00'), Timestamp('2018-01-23 00:00:00'), Timestamp('2020-02-06 00:00:00'), Timestamp('2019-02-20 00:00:00'), Timestamp('2018-02-21 00:00:00'), Timestamp('2018-11-16 00:00:00'), Timestamp('2017-07-31 00:00:00'), Timestamp('2019-09-24 00:00:00'), Timestamp('2016-06-10 00:00:00'), Timestamp('2018-11-06 00:00:00'), Timestamp('2015-08-25 00:00:00'), Timestamp('2016-06-15 00:00:00'), Timestamp('2018-09-27 00:00:00'), Timestamp('2019-03-05 00:00:00'), Timestamp('2015-03-09 00:00:00'), Timestamp('2019-02-04 00:00:00'), Timestamp('2019-04-29 00:00:00'), Timestamp('2020-03-26 00:00:00'), Timestamp('2020-04-01 00:00:00'), Timestamp('2019-07-12 00:00:00'), Timestamp('2014-11-06 00:00:00'), Timestamp('2017-09-22 00:00:00'), Timestamp('2019-12-12 00:00:00'), Timestamp('2018-11-30 00:00:00'), Timestamp('2017-07-20 00:00:00'), Timestamp('2014-05-08 00:00:00'), Timestamp('2019-03-25 00:00:00'), Timestamp('2014-03-07 00:00:00'), Timestamp('2016-10-17 00:00:00'), Timestamp('2017-05-15 00:00:00'), Timestamp('2016-07-13 00:00:00'), Timestamp('2016-07-01 00:00:00'), Timestamp('2014-04-07 00:00:00'), Timestamp('2018-03-12 00:00:00'), Timestamp('2018-07-02 00:00:00'), Timestamp('2016-07-25 00:00:00'), Timestamp('2018-09-26 00:00:00'), Timestamp('2020-03-30 00:00:00'), Timestamp('2014-07-15 00:00:00'), Timestamp('2016-05-05 00:00:00'), Timestamp('2014-12-11 00:00:00'), Timestamp('2017-07-28 00:00:00'), Timestamp('2015-08-27 00:00:00'), Timestamp('2018-07-12 00:00:00'), Timestamp('2019-10-15 00:00:00'), Timestamp('2018-07-24 00:00:00'), Timestamp('2014-07-21 00:00:00'), Timestamp('2014-07-11 00:00:00'), Timestamp('2019-01-02 00:00:00'), Timestamp('2019-04-16 00:00:00'), Timestamp('2018-08-15 00:00:00'), Timestamp('2018-03-15 00:00:00'), Timestamp('2014-07-16 00:00:00'), Timestamp('2014-09-10 00:00:00'), Timestamp('2014-04-25 00:00:00'), Timestamp('2016-03-22 00:00:00'), Timestamp('2017-09-13 00:00:00'), Timestamp('2014-04-14 00:00:00'), Timestamp('2017-06-30 00:00:00'), Timestamp('2017-03-27 00:00:00'), Timestamp('2014-05-23 00:00:00'), Timestamp('2015-07-27 00:00:00'), Timestamp('2019-05-24 00:00:00'), Timestamp('2017-11-01 00:00:00'), Timestamp('2018-08-16 00:00:00'), Timestamp('2017-04-19 00:00:00'), Timestamp('2019-06-04 00:00:00'), Timestamp('2018-10-05 00:00:00'), Timestamp('2017-11-21 00:00:00'), Timestamp('2019-09-09 00:00:00'), Timestamp('2018-08-29 00:00:00'), Timestamp('2019-07-09 00:00:00'), Timestamp('2014-12-10 00:00:00'), Timestamp('2018-11-23 00:00:00'), Timestamp('2015-09-03 00:00:00'), Timestamp('2014-09-03 00:00:00'), Timestamp('2018-07-05 00:00:00'), Timestamp('2014-02-04 00:00:00'), Timestamp('2018-08-28 00:00:00'), Timestamp('2019-06-11 00:00:00'), Timestamp('2016-06-07 00:00:00'), Timestamp('2014-10-30 00:00:00'), Timestamp('2016-07-28 00:00:00'), Timestamp('2014-02-19 00:00:00'), Timestamp('2016-03-08 00:00:00'), Timestamp('2017-09-14 00:00:00'), Timestamp('2019-07-05 00:00:00'), Timestamp('2020-03-20 00:00:00'), Timestamp('2017-11-14 00:00:00'), Timestamp('2017-11-09 00:00:00'), Timestamp('2017-03-02 00:00:00'), Timestamp('2018-04-12 00:00:00'), Timestamp('2014-01-29 00:00:00'), Timestamp('2015-01-02 00:00:00'), Timestamp('2019-12-27 00:00:00'), Timestamp('2019-12-31 00:00:00'), Timestamp('2014-05-07 00:00:00'), Timestamp('2015-01-06 00:00:00'), Timestamp('2015-11-23 00:00:00'), Timestamp('2018-03-22 00:00:00'), Timestamp('2018-05-16 00:00:00'), Timestamp('2017-03-30 00:00:00'), Timestamp('2016-12-16 00:00:00'), Timestamp('2019-08-29 00:00:00'), Timestamp('2018-05-11 00:00:00'), Timestamp('2014-07-17 00:00:00'), Timestamp('2017-12-05 00:00:00'), Timestamp('2014-10-13 00:00:00'), Timestamp('2019-03-13 00:00:00'), Timestamp('2018-10-19 00:00:00'), Timestamp('2018-04-05 00:00:00'), Timestamp('2014-08-12 00:00:00'), Timestamp('2017-01-10 00:00:00'), Timestamp('2014-08-18 00:00:00'), Timestamp('2015-04-02 00:00:00'), Timestamp('2016-11-23 00:00:00'), Timestamp('2019-10-25 00:00:00'), Timestamp('2020-03-25 00:00:00'), Timestamp('2017-08-11 00:00:00'), Timestamp('2018-01-09 00:00:00'), Timestamp('2015-01-23 00:00:00'), Timestamp('2015-12-11 00:00:00'), Timestamp('2015-03-17 00:00:00'), Timestamp('2016-03-10 00:00:00'), Timestamp('2017-08-09 00:00:00'), Timestamp('2017-01-12 00:00:00'), Timestamp('2015-11-02 00:00:00'), Timestamp('2014-06-06 00:00:00'), Timestamp('2015-03-24 00:00:00'), Timestamp('2019-02-28 00:00:00'), Timestamp('2018-06-22 00:00:00'), Timestamp('2018-02-28 00:00:00'), Timestamp('2015-10-22 00:00:00'), Timestamp('2020-01-17 00:00:00'), Timestamp('2016-09-13 00:00:00'), Timestamp('2018-03-08 00:00:00'), Timestamp('2019-07-18 00:00:00'), Timestamp('2014-05-05 00:00:00'), Timestamp('2015-07-28 00:00:00'), Timestamp('2017-02-17 00:00:00'), Timestamp('2015-11-10 00:00:00'), Timestamp('2014-01-31 00:00:00'), Timestamp('2017-10-26 00:00:00'), Timestamp('2015-12-30 00:00:00'), Timestamp('2017-05-03 00:00:00'), Timestamp('2018-05-24 00:00:00'), Timestamp('2020-01-27 00:00:00'), Timestamp('2014-09-12 00:00:00'), Timestamp('2017-12-15 00:00:00'), Timestamp('2018-10-01 00:00:00'), Timestamp('2015-12-24 00:00:00'), Timestamp('2014-11-25 00:00:00'), Timestamp('2018-06-11 00:00:00'), Timestamp('2015-02-19 00:00:00'), Timestamp('2015-11-30 00:00:00'), Timestamp('2017-07-19 00:00:00'), Timestamp('2016-09-07 00:00:00'), Timestamp('2019-06-03 00:00:00'), Timestamp('2015-03-30 00:00:00'), Timestamp('2019-11-26 00:00:00'), Timestamp('2019-02-08 00:00:00'), Timestamp('2016-07-15 00:00:00'), Timestamp('2019-11-13 00:00:00'), Timestamp('2015-09-25 00:00:00'), Timestamp('2019-07-03 00:00:00'), Timestamp('2017-07-05 00:00:00'), Timestamp('2018-05-23 00:00:00'), Timestamp('2016-07-11 00:00:00'), Timestamp('2015-09-29 00:00:00'), Timestamp('2014-05-13 00:00:00'), Timestamp('2015-07-29 00:00:00'), Timestamp('2019-04-08 00:00:00'), Timestamp('2020-03-19 00:00:00'), Timestamp('2017-01-11 00:00:00'), Timestamp('2014-04-23 00:00:00'), Timestamp('2019-03-01 00:00:00'), Timestamp('2016-09-26 00:00:00'), Timestamp('2017-10-30 00:00:00'), Timestamp('2014-08-19 00:00:00'), Timestamp('2016-05-11 00:00:00'), Timestamp('2018-05-18 00:00:00'), Timestamp('2016-04-01 00:00:00'), Timestamp('2016-04-05 00:00:00'), Timestamp('2016-01-14 00:00:00'), Timestamp('2015-11-12 00:00:00'), Timestamp('2015-04-23 00:00:00'), Timestamp('2020-01-22 00:00:00'), Timestamp('2016-08-30 00:00:00'), Timestamp('2016-03-17 00:00:00'), Timestamp('2014-10-21 00:00:00'), Timestamp('2015-05-29 00:00:00'), Timestamp('2020-03-06 00:00:00'), Timestamp('2016-09-30 00:00:00'), Timestamp('2017-02-27 00:00:00'), Timestamp('2019-03-28 00:00:00'), Timestamp('2014-12-04 00:00:00'), Timestamp('2016-07-18 00:00:00'), Timestamp('2014-05-02 00:00:00'), Timestamp('2019-02-07 00:00:00'), Timestamp('2017-03-03 00:00:00'), Timestamp('2017-08-29 00:00:00'), Timestamp('2015-06-25 00:00:00'), Timestamp('2016-07-07 00:00:00'), Timestamp('2016-01-15 00:00:00'), Timestamp('2018-09-25 00:00:00'), Timestamp('2019-11-05 00:00:00'), Timestamp('2018-08-17 00:00:00'), Timestamp('2018-07-20 00:00:00'), Timestamp('2019-12-04 00:00:00'), Timestamp('2015-07-20 00:00:00'), Timestamp('2014-06-20 00:00:00'), Timestamp('2016-03-24 00:00:00'), Timestamp('2019-11-01 00:00:00'), Timestamp('2017-07-14 00:00:00'), Timestamp('2019-09-13 00:00:00'), Timestamp('2016-03-09 00:00:00'), Timestamp('2016-07-06 00:00:00'), Timestamp('2018-07-31 00:00:00'), Timestamp('2020-01-16 00:00:00'), Timestamp('2017-03-06 00:00:00'), Timestamp('2014-06-02 00:00:00'), Timestamp('2018-07-18 00:00:00'), Timestamp('2015-03-19 00:00:00'), Timestamp('2018-06-20 00:00:00'), Timestamp('2019-04-17 00:00:00'), Timestamp('2016-07-21 00:00:00'), Timestamp('2015-07-22 00:00:00'), Timestamp('2018-09-17 00:00:00'), Timestamp('2015-01-22 00:00:00'), Timestamp('2014-07-07 00:00:00'), Timestamp('2014-12-16 00:00:00'), Timestamp('2015-12-04 00:00:00'), Timestamp('2015-08-19 00:00:00'), Timestamp('2019-05-22 00:00:00'), Timestamp('2019-12-10 00:00:00'), Timestamp('2014-08-29 00:00:00'), Timestamp('2018-10-16 00:00:00'), Timestamp('2015-02-03 00:00:00'), Timestamp('2015-05-28 00:00:00'), Timestamp('2017-09-06 00:00:00'), Timestamp('2018-01-08 00:00:00'), Timestamp('2014-06-16 00:00:00'), Timestamp('2018-03-26 00:00:00'), Timestamp('2017-12-12 00:00:00'), Timestamp('2020-03-31 00:00:00'), Timestamp('2014-04-11 00:00:00'), Timestamp('2014-04-03 00:00:00'), Timestamp('2014-05-28 00:00:00'), Timestamp('2014-09-04 00:00:00'), Timestamp('2017-03-22 00:00:00'), Timestamp('2016-03-21 00:00:00'), Timestamp('2017-04-07 00:00:00'), Timestamp('2014-01-07 00:00:00'), Timestamp('2019-03-19 00:00:00'), Timestamp('2015-03-13 00:00:00'), Timestamp('2019-01-08 00:00:00'), Timestamp('2016-10-28 00:00:00'), Timestamp('2018-01-30 00:00:00'), Timestamp('2018-02-23 00:00:00'), Timestamp('2017-02-16 00:00:00'), Timestamp('2019-10-29 00:00:00'), Timestamp('2015-11-17 00:00:00'), Timestamp('2014-04-08 00:00:00'), Timestamp('2014-05-01 00:00:00'), Timestamp('2015-11-20 00:00:00'), Timestamp('2019-12-03 00:00:00'), Timestamp('2014-02-14 00:00:00'), Timestamp('2019-07-01 00:00:00'), Timestamp('2014-03-11 00:00:00'), Timestamp('2017-01-06 00:00:00'), Timestamp('2017-07-26 00:00:00'), Timestamp('2017-07-11 00:00:00'), Timestamp('2016-05-13 00:00:00'), Timestamp('2018-05-21 00:00:00'), Timestamp('2020-02-11 00:00:00'), Timestamp('2015-07-17 00:00:00'), Timestamp('2016-11-11 00:00:00'), Timestamp('2019-06-10 00:00:00'), Timestamp('2016-12-02 00:00:00'), Timestamp('2018-01-29 00:00:00'), Timestamp('2014-12-17 00:00:00'), Timestamp('2016-08-24 00:00:00'), Timestamp('2018-11-01 00:00:00'), Timestamp('2015-02-18 00:00:00'), Timestamp('2015-05-07 00:00:00'), Timestamp('2018-12-03 00:00:00'), Timestamp('2019-01-15 00:00:00'), Timestamp('2018-09-19 00:00:00'), Timestamp('2019-03-27 00:00:00'), Timestamp('2019-07-24 00:00:00'), Timestamp('2014-08-06 00:00:00'), Timestamp('2018-06-25 00:00:00'), Timestamp('2018-11-14 00:00:00'), Timestamp('2015-06-10 00:00:00'), Timestamp('2019-03-20 00:00:00'), Timestamp('2019-05-28 00:00:00'), Timestamp('2015-05-12 00:00:00'), Timestamp('2014-04-04 00:00:00'), Timestamp('2016-03-28 00:00:00'), Timestamp('2015-11-05 00:00:00'), Timestamp('2017-03-01 00:00:00'), Timestamp('2016-04-07 00:00:00'), Timestamp('2019-05-08 00:00:00'), Timestamp('2015-08-24 00:00:00'), Timestamp('2017-10-23 00:00:00'), Timestamp('2014-09-09 00:00:00'), Timestamp('2017-09-18 00:00:00'), Timestamp('2014-12-15 00:00:00'), Timestamp('2019-03-04 00:00:00'), Timestamp('2014-06-11 00:00:00'), Timestamp('2015-01-21 00:00:00'), Timestamp('2014-12-12 00:00:00'), Timestamp('2020-02-13 00:00:00'), Timestamp('2017-06-07 00:00:00'), Timestamp('2017-08-17 00:00:00'), Timestamp('2017-10-02 00:00:00'), Timestamp('2020-02-27 00:00:00'), Timestamp('2018-04-23 00:00:00'), Timestamp('2018-04-10 00:00:00'), Timestamp('2018-12-21 00:00:00'), Timestamp('2017-01-18 00:00:00'), Timestamp('2018-12-27 00:00:00'), Timestamp('2017-08-21 00:00:00'), Timestamp('2019-04-24 00:00:00'), Timestamp('2018-11-27 00:00:00'), Timestamp('2016-06-09 00:00:00'), Timestamp('2016-06-03 00:00:00'), Timestamp('2018-07-30 00:00:00'), Timestamp('2014-06-24 00:00:00'), Timestamp('2014-08-04 00:00:00'), Timestamp('2014-09-30 00:00:00'), Timestamp('2017-06-13 00:00:00'), Timestamp('2017-12-11 00:00:00'), Timestamp('2014-12-02 00:00:00'), Timestamp('2018-05-03 00:00:00'), Timestamp('2016-05-04 00:00:00'), Timestamp('2018-03-09 00:00:00'), Timestamp('2015-09-30 00:00:00'), Timestamp('2017-01-03 00:00:00'), Timestamp('2017-07-18 00:00:00'), Timestamp('2014-03-05 00:00:00'), Timestamp('2019-07-02 00:00:00'), Timestamp('2016-03-03 00:00:00'), Timestamp('2018-05-30 00:00:00'), Timestamp('2018-12-10 00:00:00'), Timestamp('2016-04-08 00:00:00'), Timestamp('2018-12-04 00:00:00'), Timestamp('2016-01-04 00:00:00'), Timestamp('2016-05-12 00:00:00'), Timestamp('2017-01-23 00:00:00'), Timestamp('2015-11-09 00:00:00'), Timestamp('2016-10-18 00:00:00'), Timestamp('2018-05-17 00:00:00'), Timestamp('2017-02-08 00:00:00'), Timestamp('2017-04-25 00:00:00'), Timestamp('2017-06-20 00:00:00'), Timestamp('2014-01-23 00:00:00'), Timestamp('2017-10-09 00:00:00'), Timestamp('2018-03-28 00:00:00'), Timestamp('2019-06-06 00:00:00'), Timestamp('2019-06-14 00:00:00'), Timestamp('2018-10-26 00:00:00'), Timestamp('2020-01-08 00:00:00'), Timestamp('2018-06-08 00:00:00'), Timestamp('2016-08-04 00:00:00'), Timestamp('2014-06-18 00:00:00'), Timestamp('2019-08-13 00:00:00'), Timestamp('2018-06-27 00:00:00'), Timestamp('2015-06-12 00:00:00'), Timestamp('2019-07-31 00:00:00'), Timestamp('2016-07-29 00:00:00'), Timestamp('2016-11-07 00:00:00'), Timestamp('2018-03-14 00:00:00'), Timestamp('2015-05-27 00:00:00'), Timestamp('2018-01-11 00:00:00'), Timestamp('2014-05-06 00:00:00'), Timestamp('2015-03-20 00:00:00'), Timestamp('2016-04-19 00:00:00'), Timestamp('2015-03-23 00:00:00'), Timestamp('2019-12-30 00:00:00'), Timestamp('2014-02-20 00:00:00'), Timestamp('2014-09-22 00:00:00'), Timestamp('2017-10-18 00:00:00'), Timestamp('2015-10-29 00:00:00'), Timestamp('2019-12-02 00:00:00'), Timestamp('2019-08-30 00:00:00'), Timestamp('2017-09-19 00:00:00'), Timestamp('2019-11-04 00:00:00'), Timestamp('2015-10-14 00:00:00'), Timestamp('2015-08-13 00:00:00'), Timestamp('2016-02-26 00:00:00'), Timestamp('2014-02-28 00:00:00'), Timestamp('2015-02-10 00:00:00'), Timestamp('2018-11-12 00:00:00'), Timestamp('2017-05-05 00:00:00'), Timestamp('2014-01-22 00:00:00'), Timestamp('2014-11-11 00:00:00'), Timestamp('2017-05-01 00:00:00'), Timestamp('2020-03-12 00:00:00'), Timestamp('2019-10-14 00:00:00'), Timestamp('2020-03-04 00:00:00'), Timestamp('2014-10-06 00:00:00'), Timestamp('2014-07-08 00:00:00'), Timestamp('2015-07-09 00:00:00'), Timestamp('2019-12-26 00:00:00'), Timestamp('2016-12-28 00:00:00'), Timestamp('2019-08-08 00:00:00'), Timestamp('2018-10-31 00:00:00'), Timestamp('2018-05-07 00:00:00'), Timestamp('2016-12-09 00:00:00'), Timestamp('2014-07-24 00:00:00'), Timestamp('2018-11-15 00:00:00'), Timestamp('2014-03-13 00:00:00'), Timestamp('2017-07-27 00:00:00'), Timestamp('2014-11-28 00:00:00'), Timestamp('2016-04-15 00:00:00'), Timestamp('2017-08-14 00:00:00'), Timestamp('2018-06-05 00:00:00'), Timestamp('2019-06-25 00:00:00'), Timestamp('2019-07-29 00:00:00'), Timestamp('2016-12-13 00:00:00'), Timestamp('2019-10-24 00:00:00'), Timestamp('2018-03-19 00:00:00'), Timestamp('2015-10-05 00:00:00'), Timestamp('2014-06-12 00:00:00'), Timestamp('2016-03-18 00:00:00'), Timestamp('2014-05-19 00:00:00'), Timestamp('2020-02-05 00:00:00'), Timestamp('2020-02-19 00:00:00'), Timestamp('2017-06-23 00:00:00'), Timestamp('2014-08-05 00:00:00'), Timestamp('2015-02-13 00:00:00'), Timestamp('2015-08-17 00:00:00'), Timestamp('2016-02-01 00:00:00'), Timestamp('2017-11-03 00:00:00'), Timestamp('2020-03-24 00:00:00'), Timestamp('2014-09-17 00:00:00'), Timestamp('2016-02-22 00:00:00'), Timestamp('2014-03-19 00:00:00'), Timestamp('2014-09-19 00:00:00'), Timestamp('2017-11-29 00:00:00'), Timestamp('2015-10-01 00:00:00'), Timestamp('2018-05-02 00:00:00'), Timestamp('2019-11-12 00:00:00'), Timestamp('2014-01-09 00:00:00'), Timestamp('2017-02-06 00:00:00'), Timestamp('2019-08-20 00:00:00'), Timestamp('2017-10-12 00:00:00'), Timestamp('2019-08-02 00:00:00'), Timestamp('2017-10-27 00:00:00'), Timestamp('2016-10-07 00:00:00'), Timestamp('2016-05-26 00:00:00'), Timestamp('2017-03-24 00:00:00'), Timestamp('2017-08-01 00:00:00'), Timestamp('2018-09-06 00:00:00'), Timestamp('2015-07-14 00:00:00'), Timestamp('2019-04-18 00:00:00'), Timestamp('2018-03-20 00:00:00'), Timestamp('2017-05-25 00:00:00'), Timestamp('2015-03-04 00:00:00'), Timestamp('2017-09-21 00:00:00'), Timestamp('2016-05-24 00:00:00'), Timestamp('2019-02-01 00:00:00'), Timestamp('2014-02-06 00:00:00'), Timestamp('2018-03-01 00:00:00'), Timestamp('2015-08-31 00:00:00'), Timestamp('2015-08-28 00:00:00'), Timestamp('2014-11-21 00:00:00'), Timestamp('2016-11-14 00:00:00'), Timestamp('2014-01-17 00:00:00'), Timestamp('2019-08-01 00:00:00'), Timestamp('2018-04-11 00:00:00'), Timestamp('2018-12-31 00:00:00'), Timestamp('2019-02-05 00:00:00'), Timestamp('2019-10-16 00:00:00'), Timestamp('2015-04-28 00:00:00'), Timestamp('2017-07-12 00:00:00'), Timestamp('2018-06-01 00:00:00'), Timestamp('2016-01-08 00:00:00'), Timestamp('2020-02-10 00:00:00'), Timestamp('2018-11-28 00:00:00'), Timestamp('2017-03-13 00:00:00'), Timestamp('2019-09-11 00:00:00'), Timestamp('2016-04-25 00:00:00'), Timestamp('2019-08-19 00:00:00'), Timestamp('2019-06-19 00:00:00'), Timestamp('2016-06-24 00:00:00'), Timestamp('2018-02-20 00:00:00'), Timestamp('2018-10-11 00:00:00'), Timestamp('2014-11-12 00:00:00'), Timestamp('2016-09-01 00:00:00'), Timestamp('2017-11-27 00:00:00'), Timestamp('2017-10-05 00:00:00'), Timestamp('2014-09-24 00:00:00'), Timestamp('2015-08-05 00:00:00'), Timestamp('2015-11-04 00:00:00'), Timestamp('2016-10-04 00:00:00'), Timestamp('2014-05-21 00:00:00'), Timestamp('2018-10-29 00:00:00'), Timestamp('2019-04-26 00:00:00'), Timestamp('2017-12-14 00:00:00'), Timestamp('2019-12-19 00:00:00'), Timestamp('2015-05-18 00:00:00'), Timestamp('2014-03-20 00:00:00'), Timestamp('2015-02-11 00:00:00'), Timestamp('2017-09-08 00:00:00'), Timestamp('2017-05-26 00:00:00'), Timestamp('2016-05-03 00:00:00'), Timestamp('2015-10-15 00:00:00'), Timestamp('2017-11-16 00:00:00'), Timestamp('2019-09-20 00:00:00'), Timestamp('2017-09-15 00:00:00'), Timestamp('2018-04-26 00:00:00'), Timestamp('2016-04-29 00:00:00'), Timestamp('2017-08-16 00:00:00'), Timestamp('2019-01-11 00:00:00'), Timestamp('2014-07-03 00:00:00'), Timestamp('2014-04-10 00:00:00'), Timestamp('2019-04-01 00:00:00'), Timestamp('2018-09-07 00:00:00'), Timestamp('2017-04-04 00:00:00'), Timestamp('2018-02-02 00:00:00'), Timestamp('2015-10-30 00:00:00'), Timestamp('2018-01-19 00:00:00'), Timestamp('2017-01-04 00:00:00'), Timestamp('2014-02-12 00:00:00'), Timestamp('2015-09-01 00:00:00'), Timestamp('2015-07-10 00:00:00'), Timestamp('2017-02-23 00:00:00'), Timestamp('2015-12-10 00:00:00'), Timestamp('2016-12-21 00:00:00'), Timestamp('2016-11-28 00:00:00'), Timestamp('2014-10-07 00:00:00'), Timestamp('2014-04-01 00:00:00'), Timestamp('2014-01-14 00:00:00'), Timestamp('2020-03-27 00:00:00'), Timestamp('2014-03-10 00:00:00'), Timestamp('2017-03-14 00:00:00'), Timestamp('2016-07-05 00:00:00'), Timestamp('2019-10-04 00:00:00'), Timestamp('2020-01-21 00:00:00'), Timestamp('2017-05-16 00:00:00'), Timestamp('2014-07-02 00:00:00'), Timestamp('2017-03-16 00:00:00'), Timestamp('2015-04-07 00:00:00'), Timestamp('2019-02-14 00:00:00'), Timestamp('2019-08-22 00:00:00'), Timestamp('2018-04-06 00:00:00'), Timestamp('2017-02-02 00:00:00'), Timestamp('2019-04-09 00:00:00'), Timestamp('2014-07-01 00:00:00'), Timestamp('2014-10-31 00:00:00'), Timestamp('2019-07-26 00:00:00'), Timestamp('2015-02-04 00:00:00'), Timestamp('2017-09-07 00:00:00'), Timestamp('2018-04-19 00:00:00'), Timestamp('2018-01-16 00:00:00'), Timestamp('2018-04-17 00:00:00'), Timestamp('2016-11-01 00:00:00'), Timestamp('2017-05-12 00:00:00'), Timestamp('2017-08-28 00:00:00'), Timestamp('2016-10-31 00:00:00'), Timestamp('2018-07-23 00:00:00'), Timestamp('2014-05-14 00:00:00'), Timestamp('2015-04-30 00:00:00'), Timestamp('2019-08-26 00:00:00'), Timestamp('2018-08-01 00:00:00'), Timestamp('2016-12-15 00:00:00'), Timestamp('2017-10-13 00:00:00'), Timestamp('2020-03-16 00:00:00'), Timestamp('2017-05-10 00:00:00'), Timestamp('2019-02-13 00:00:00'), Timestamp('2018-11-19 00:00:00'), Timestamp('2016-04-21 00:00:00'), Timestamp('2016-03-15 00:00:00'), Timestamp('2017-04-12 00:00:00'), Timestamp('2014-05-20 00:00:00'), Timestamp('2016-02-16 00:00:00'), Timestamp('2019-05-23 00:00:00'), Timestamp('2017-07-13 00:00:00'), Timestamp('2015-02-06 00:00:00'), Timestamp('2016-08-12 00:00:00'), Timestamp('2017-11-02 00:00:00'), Timestamp('2014-10-23 00:00:00'), Timestamp('2018-07-27 00:00:00'), Timestamp('2019-07-11 00:00:00'), Timestamp('2017-10-25 00:00:00'), Timestamp('2019-09-26 00:00:00'), Timestamp('2017-04-20 00:00:00'), Timestamp('2015-12-22 00:00:00'), Timestamp('2016-01-05 00:00:00'), Timestamp('2017-08-02 00:00:00'), Timestamp('2019-03-21 00:00:00'), Timestamp('2018-05-01 00:00:00'), Timestamp('2020-01-23 00:00:00'), Timestamp('2015-10-06 00:00:00'), Timestamp('2019-05-07 00:00:00'), Timestamp('2019-12-16 00:00:00'), Timestamp('2014-07-31 00:00:00'), Timestamp('2015-11-24 00:00:00'), Timestamp('2018-08-20 00:00:00'), Timestamp('2019-07-25 00:00:00'), Timestamp('2019-04-25 00:00:00'), Timestamp('2018-10-10 00:00:00'), Timestamp('2016-06-17 00:00:00'), Timestamp('2014-05-09 00:00:00'), Timestamp('2015-06-15 00:00:00'), Timestamp('2016-06-08 00:00:00'), Timestamp('2018-11-13 00:00:00'), Timestamp('2015-02-12 00:00:00'), Timestamp('2017-06-09 00:00:00'), Timestamp('2019-08-28 00:00:00'), Timestamp('2019-12-17 00:00:00'), Timestamp('2014-11-26 00:00:00'), Timestamp('2015-05-06 00:00:00'), Timestamp('2018-06-29 00:00:00'), Timestamp('2015-05-01 00:00:00'), Timestamp('2015-06-09 00:00:00'), Timestamp('2018-02-26 00:00:00'), Timestamp('2018-01-22 00:00:00'), Timestamp('2019-10-01 00:00:00'), Timestamp('2014-11-10 00:00:00'), Timestamp('2018-02-14 00:00:00'), Timestamp('2014-04-17 00:00:00'), Timestamp('2017-05-30 00:00:00'), Timestamp('2016-12-20 00:00:00'), Timestamp('2019-11-29 00:00:00'), Timestamp('2014-07-25 00:00:00'), Timestamp('2019-12-11 00:00:00'), Timestamp('2016-05-09 00:00:00'), Timestamp('2017-01-05 00:00:00'), Timestamp('2015-12-01 00:00:00'), Timestamp('2014-03-14 00:00:00'), Timestamp('2020-02-20 00:00:00'), Timestamp('2017-07-17 00:00:00'), Timestamp('2016-05-19 00:00:00'), Timestamp('2016-10-12 00:00:00'), Timestamp('2017-07-03 00:00:00'), Timestamp('2019-04-03 00:00:00'), Timestamp('2017-06-21 00:00:00'), Timestamp('2017-02-24 00:00:00'), Timestamp('2014-07-09 00:00:00'), Timestamp('2016-01-11 00:00:00'), Timestamp('2014-04-24 00:00:00'), Timestamp('2016-03-01 00:00:00'), Timestamp('2018-01-26 00:00:00'), Timestamp('2018-09-20 00:00:00'), Timestamp('2014-02-21 00:00:00'), Timestamp('2015-12-09 00:00:00'), Timestamp('2014-09-05 00:00:00'), Timestamp('2020-02-07 00:00:00'), Timestamp('2016-03-23 00:00:00'), Timestamp('2015-12-18 00:00:00'), Timestamp('2018-09-13 00:00:00'), Timestamp('2016-11-21 00:00:00'), Timestamp('2017-06-29 00:00:00'), Timestamp('2018-02-13 00:00:00'), Timestamp('2019-10-08 00:00:00'), Timestamp('2019-02-19 00:00:00'), Timestamp('2020-03-18 00:00:00'), Timestamp('2016-01-21 00:00:00'), Timestamp('2015-03-27 00:00:00'), Timestamp('2017-04-28 00:00:00'), Timestamp('2018-09-04 00:00:00'), Timestamp('2019-05-31 00:00:00'), Timestamp('2017-05-04 00:00:00'), Timestamp('2017-10-19 00:00:00'), Timestamp('2015-09-23 00:00:00'), Timestamp('2015-03-25 00:00:00'), Timestamp('2020-01-31 00:00:00'), Timestamp('2017-11-07 00:00:00'), Timestamp('2019-02-06 00:00:00'), Timestamp('2017-01-26 00:00:00'), Timestamp('2017-12-19 00:00:00'), Timestamp('2015-06-03 00:00:00'), Timestamp('2019-06-26 00:00:00'), Timestamp('2020-03-02 00:00:00'), Timestamp('2019-03-06 00:00:00'), Timestamp('2018-07-11 00:00:00'), Timestamp('2015-11-11 00:00:00'), Timestamp('2014-01-10 00:00:00'), Timestamp('2018-09-21 00:00:00'), Timestamp('2015-11-18 00:00:00'), Timestamp('2015-05-14 00:00:00'), Timestamp('2015-04-13 00:00:00'), Timestamp('2017-10-16 00:00:00'), Timestamp('2018-09-18 00:00:00'), Timestamp('2019-03-14 00:00:00'), Timestamp('2018-05-22 00:00:00'), Timestamp('2019-10-09 00:00:00'), Timestamp('2015-09-22 00:00:00'), Timestamp('2016-01-28 00:00:00'), Timestamp('2018-04-25 00:00:00'), Timestamp('2018-08-27 00:00:00'), Timestamp('2018-06-07 00:00:00'), Timestamp('2017-03-21 00:00:00'), Timestamp('2017-11-30 00:00:00'), Timestamp('2016-11-30 00:00:00'), Timestamp('2018-11-09 00:00:00'), Timestamp('2015-07-24 00:00:00'), Timestamp('2015-01-28 00:00:00'), Timestamp('2015-09-28 00:00:00'), Timestamp('2015-10-16 00:00:00'), Timestamp('2017-03-29 00:00:00'), Timestamp('2018-03-16 00:00:00'), Timestamp('2019-08-23 00:00:00'), Timestamp('2016-10-21 00:00:00'), Timestamp('2018-06-18 00:00:00'), Timestamp('2017-03-15 00:00:00'), Timestamp('2016-02-23 00:00:00'), Timestamp('2017-05-18 00:00:00'), Timestamp('2014-01-02 00:00:00'), Timestamp('2017-04-03 00:00:00'), Timestamp('2020-01-07 00:00:00'), Timestamp('2016-05-10 00:00:00'), Timestamp('2015-06-22 00:00:00'), Timestamp('2017-12-21 00:00:00'), Timestamp('2018-04-04 00:00:00'), Timestamp('2015-05-05 00:00:00'), Timestamp('2018-03-13 00:00:00'), Timestamp('2019-06-07 00:00:00'), Timestamp('2014-02-10 00:00:00'), Timestamp('2019-02-27 00:00:00'), Timestamp('2014-06-25 00:00:00'), Timestamp('2015-03-02 00:00:00'), Timestamp('2017-01-30 00:00:00'), Timestamp('2014-04-02 00:00:00'), Timestamp('2016-03-16 00:00:00'), Timestamp('2014-07-14 00:00:00'), Timestamp('2017-05-09 00:00:00'), Timestamp('2016-08-11 00:00:00'), Timestamp('2018-11-21 00:00:00'), Timestamp('2014-09-26 00:00:00'), Timestamp('2020-02-25 00:00:00'), Timestamp('2019-06-17 00:00:00'), Timestamp('2014-08-28 00:00:00'), Timestamp('2016-04-27 00:00:00'), Timestamp('2015-07-21 00:00:00'), Timestamp('2018-01-25 00:00:00'), Timestamp('2020-01-03 00:00:00'), Timestamp('2015-04-20 00:00:00'), Timestamp('2018-05-14 00:00:00'), Timestamp('2015-04-06 00:00:00'), Timestamp('2016-08-25 00:00:00'), Timestamp('2018-06-26 00:00:00'), Timestamp('2016-06-29 00:00:00'), Timestamp('2014-04-16 00:00:00'), Timestamp('2017-06-26 00:00:00'), Timestamp('2014-03-03 00:00:00'), Timestamp('2018-03-23 00:00:00'), Timestamp('2017-09-11 00:00:00'), Timestamp('2018-07-19 00:00:00'), Timestamp('2019-07-15 00:00:00'), Timestamp('2014-05-12 00:00:00'), Timestamp('2015-06-24 00:00:00'), Timestamp('2015-11-16 00:00:00'), Timestamp('2016-02-10 00:00:00'), Timestamp('2018-03-27 00:00:00'), Timestamp('2019-02-22 00:00:00'), Timestamp('2017-12-06 00:00:00'), Timestamp('2016-10-26 00:00:00'), Timestamp('2019-01-09 00:00:00'), Timestamp('2019-05-15 00:00:00'), Timestamp('2019-08-09 00:00:00'), Timestamp('2017-03-28 00:00:00'), Timestamp('2014-01-03 00:00:00'), Timestamp('2014-07-28 00:00:00'), Timestamp('2014-08-01 00:00:00'), Timestamp('2014-05-29 00:00:00'), Timestamp('2014-06-05 00:00:00'), Timestamp('2015-06-29 00:00:00'), Timestamp('2019-09-18 00:00:00'), Timestamp('2015-06-18 00:00:00'), Timestamp('2015-09-11 00:00:00'), Timestamp('2019-10-30 00:00:00'), Timestamp('2019-08-15 00:00:00'), Timestamp('2017-02-01 00:00:00'), Timestamp('2014-07-10 00:00:00'), Timestamp('2017-07-06 00:00:00'), Timestamp('2020-03-13 00:00:00'), Timestamp('2017-08-10 00:00:00'), Timestamp('2019-12-09 00:00:00'), Timestamp('2016-03-07 00:00:00'), Timestamp('2020-02-04 00:00:00'), Timestamp('2017-01-31 00:00:00'), Timestamp('2016-11-17 00:00:00')}}\n",
      "Training samples: 1000\n",
      "Testing samples: 521\n"
     ]
    },
    {
     "name": "stderr",
     "output_type": "stream",
     "text": [
      "  0%|          | 1/500 [00:00<03:19,  2.50it/s]"
     ]
    },
    {
     "name": "stdout",
     "output_type": "stream",
     "text": [
      "Epoch 000, Train Loss: 2883.2306, Val MAPE: 0.9716\n"
     ]
    },
    {
     "name": "stderr",
     "output_type": "stream",
     "text": [
      "  2%|▏         | 11/500 [00:02<01:57,  4.18it/s]"
     ]
    },
    {
     "name": "stdout",
     "output_type": "stream",
     "text": [
      "Epoch 010, Train Loss: 1683.8368, Val MAPE: 0.8760\n"
     ]
    },
    {
     "name": "stderr",
     "output_type": "stream",
     "text": [
      "  4%|▍         | 21/500 [00:05<01:55,  4.15it/s]"
     ]
    },
    {
     "name": "stdout",
     "output_type": "stream",
     "text": [
      "Epoch 020, Train Loss: 1175.6958, Val MAPE: 0.8141\n"
     ]
    },
    {
     "name": "stderr",
     "output_type": "stream",
     "text": [
      "  6%|▌         | 31/500 [00:07<01:56,  4.04it/s]"
     ]
    },
    {
     "name": "stdout",
     "output_type": "stream",
     "text": [
      "Epoch 030, Train Loss: 815.1348, Val MAPE: 0.7588\n"
     ]
    },
    {
     "name": "stderr",
     "output_type": "stream",
     "text": [
      "  8%|▊         | 41/500 [00:09<01:47,  4.28it/s]"
     ]
    },
    {
     "name": "stdout",
     "output_type": "stream",
     "text": [
      "Epoch 040, Train Loss: 554.1352, Val MAPE: 0.7090\n"
     ]
    },
    {
     "name": "stderr",
     "output_type": "stream",
     "text": [
      " 10%|█         | 51/500 [00:12<01:45,  4.28it/s]"
     ]
    },
    {
     "name": "stdout",
     "output_type": "stream",
     "text": [
      "Epoch 050, Train Loss: 388.5993, Val MAPE: 0.6651\n"
     ]
    },
    {
     "name": "stderr",
     "output_type": "stream",
     "text": [
      " 12%|█▏        | 61/500 [00:14<01:38,  4.47it/s]"
     ]
    },
    {
     "name": "stdout",
     "output_type": "stream",
     "text": [
      "Epoch 060, Train Loss: 289.3642, Val MAPE: 0.6278\n"
     ]
    },
    {
     "name": "stderr",
     "output_type": "stream",
     "text": [
      " 14%|█▍        | 71/500 [00:16<01:35,  4.50it/s]"
     ]
    },
    {
     "name": "stdout",
     "output_type": "stream",
     "text": [
      "Epoch 070, Train Loss: 237.2702, Val MAPE: 0.5980\n"
     ]
    },
    {
     "name": "stderr",
     "output_type": "stream",
     "text": [
      " 16%|█▌        | 81/500 [00:19<01:33,  4.49it/s]"
     ]
    },
    {
     "name": "stdout",
     "output_type": "stream",
     "text": [
      "Epoch 080, Train Loss: 149.9638, Val MAPE: 0.5603\n"
     ]
    },
    {
     "name": "stderr",
     "output_type": "stream",
     "text": [
      " 18%|█▊        | 91/500 [00:21<01:32,  4.43it/s]"
     ]
    },
    {
     "name": "stdout",
     "output_type": "stream",
     "text": [
      "Epoch 090, Train Loss: 101.3582, Val MAPE: 0.5243\n"
     ]
    },
    {
     "name": "stderr",
     "output_type": "stream",
     "text": [
      " 20%|██        | 101/500 [00:23<01:31,  4.34it/s]"
     ]
    },
    {
     "name": "stdout",
     "output_type": "stream",
     "text": [
      "Epoch 100, Train Loss: 70.7998, Val MAPE: 0.4910\n"
     ]
    },
    {
     "name": "stderr",
     "output_type": "stream",
     "text": [
      " 22%|██▏       | 111/500 [00:25<01:28,  4.40it/s]"
     ]
    },
    {
     "name": "stdout",
     "output_type": "stream",
     "text": [
      "Epoch 110, Train Loss: 47.9346, Val MAPE: 0.4602\n"
     ]
    },
    {
     "name": "stderr",
     "output_type": "stream",
     "text": [
      " 24%|██▍       | 121/500 [00:28<01:27,  4.35it/s]"
     ]
    },
    {
     "name": "stdout",
     "output_type": "stream",
     "text": [
      "Epoch 120, Train Loss: 32.0633, Val MAPE: 0.4314\n"
     ]
    },
    {
     "name": "stderr",
     "output_type": "stream",
     "text": [
      " 26%|██▌       | 131/500 [00:30<01:23,  4.43it/s]"
     ]
    },
    {
     "name": "stdout",
     "output_type": "stream",
     "text": [
      "Epoch 130, Train Loss: 22.0343, Val MAPE: 0.4053\n"
     ]
    },
    {
     "name": "stderr",
     "output_type": "stream",
     "text": [
      " 28%|██▊       | 141/500 [00:32<01:20,  4.48it/s]"
     ]
    },
    {
     "name": "stdout",
     "output_type": "stream",
     "text": [
      "Epoch 140, Train Loss: 14.7135, Val MAPE: 0.3804\n"
     ]
    },
    {
     "name": "stderr",
     "output_type": "stream",
     "text": [
      " 30%|███       | 151/500 [00:34<01:17,  4.51it/s]"
     ]
    },
    {
     "name": "stdout",
     "output_type": "stream",
     "text": [
      "Epoch 150, Train Loss: 9.8962, Val MAPE: 0.3566\n"
     ]
    },
    {
     "name": "stderr",
     "output_type": "stream",
     "text": [
      " 32%|███▏      | 161/500 [00:37<01:15,  4.50it/s]"
     ]
    },
    {
     "name": "stdout",
     "output_type": "stream",
     "text": [
      "Epoch 160, Train Loss: 6.2664, Val MAPE: 0.3352\n"
     ]
    },
    {
     "name": "stderr",
     "output_type": "stream",
     "text": [
      " 34%|███▍      | 171/500 [00:39<01:14,  4.44it/s]"
     ]
    },
    {
     "name": "stdout",
     "output_type": "stream",
     "text": [
      "Epoch 170, Train Loss: 4.0331, Val MAPE: 0.3161\n"
     ]
    },
    {
     "name": "stderr",
     "output_type": "stream",
     "text": [
      " 36%|███▌      | 181/500 [00:41<01:12,  4.42it/s]"
     ]
    },
    {
     "name": "stdout",
     "output_type": "stream",
     "text": [
      "Epoch 180, Train Loss: 3.4159, Val MAPE: 0.3013\n"
     ]
    },
    {
     "name": "stderr",
     "output_type": "stream",
     "text": [
      " 38%|███▊      | 191/500 [00:43<01:09,  4.42it/s]"
     ]
    },
    {
     "name": "stdout",
     "output_type": "stream",
     "text": [
      "Epoch 190, Train Loss: 2.7026, Val MAPE: 0.2899\n"
     ]
    },
    {
     "name": "stderr",
     "output_type": "stream",
     "text": [
      " 40%|████      | 201/500 [00:46<01:09,  4.31it/s]"
     ]
    },
    {
     "name": "stdout",
     "output_type": "stream",
     "text": [
      "Epoch 200, Train Loss: 1.9836, Val MAPE: 0.2782\n"
     ]
    },
    {
     "name": "stderr",
     "output_type": "stream",
     "text": [
      " 42%|████▏     | 211/500 [00:48<01:07,  4.28it/s]"
     ]
    },
    {
     "name": "stdout",
     "output_type": "stream",
     "text": [
      "Epoch 210, Train Loss: 1.8263, Val MAPE: 0.2692\n"
     ]
    },
    {
     "name": "stderr",
     "output_type": "stream",
     "text": [
      " 44%|████▍     | 221/500 [00:50<01:04,  4.34it/s]"
     ]
    },
    {
     "name": "stdout",
     "output_type": "stream",
     "text": [
      "Epoch 220, Train Loss: 1.5385, Val MAPE: 0.2622\n"
     ]
    },
    {
     "name": "stderr",
     "output_type": "stream",
     "text": [
      " 46%|████▌     | 231/500 [00:53<01:01,  4.36it/s]"
     ]
    },
    {
     "name": "stdout",
     "output_type": "stream",
     "text": [
      "Epoch 230, Train Loss: 1.6926, Val MAPE: 0.2575\n"
     ]
    },
    {
     "name": "stderr",
     "output_type": "stream",
     "text": [
      " 48%|████▊     | 241/500 [00:55<00:59,  4.37it/s]"
     ]
    },
    {
     "name": "stdout",
     "output_type": "stream",
     "text": [
      "Epoch 240, Train Loss: 1.4778, Val MAPE: 0.2538\n"
     ]
    },
    {
     "name": "stderr",
     "output_type": "stream",
     "text": [
      " 50%|█████     | 251/500 [00:57<00:56,  4.44it/s]"
     ]
    },
    {
     "name": "stdout",
     "output_type": "stream",
     "text": [
      "Epoch 250, Train Loss: 1.3423, Val MAPE: 0.2515\n"
     ]
    },
    {
     "name": "stderr",
     "output_type": "stream",
     "text": [
      " 52%|█████▏    | 261/500 [01:00<00:53,  4.45it/s]"
     ]
    },
    {
     "name": "stdout",
     "output_type": "stream",
     "text": [
      "Epoch 260, Train Loss: 1.1925, Val MAPE: 0.2496\n"
     ]
    },
    {
     "name": "stderr",
     "output_type": "stream",
     "text": [
      " 54%|█████▍    | 271/500 [01:02<00:50,  4.53it/s]"
     ]
    },
    {
     "name": "stdout",
     "output_type": "stream",
     "text": [
      "Epoch 270, Train Loss: 1.2321, Val MAPE: 0.2486\n"
     ]
    },
    {
     "name": "stderr",
     "output_type": "stream",
     "text": [
      " 56%|█████▌    | 281/500 [01:04<00:48,  4.51it/s]"
     ]
    },
    {
     "name": "stdout",
     "output_type": "stream",
     "text": [
      "Epoch 280, Train Loss: 1.2603, Val MAPE: 0.2477\n"
     ]
    },
    {
     "name": "stderr",
     "output_type": "stream",
     "text": [
      " 58%|█████▊    | 291/500 [01:06<00:46,  4.47it/s]"
     ]
    },
    {
     "name": "stdout",
     "output_type": "stream",
     "text": [
      "Epoch 290, Train Loss: 1.4515, Val MAPE: 0.2473\n"
     ]
    },
    {
     "name": "stderr",
     "output_type": "stream",
     "text": [
      " 60%|██████    | 301/500 [01:08<00:45,  4.40it/s]"
     ]
    },
    {
     "name": "stdout",
     "output_type": "stream",
     "text": [
      "Epoch 300, Train Loss: 1.2906, Val MAPE: 0.2466\n"
     ]
    },
    {
     "name": "stderr",
     "output_type": "stream",
     "text": [
      " 62%|██████▏   | 311/500 [01:11<00:43,  4.34it/s]"
     ]
    },
    {
     "name": "stdout",
     "output_type": "stream",
     "text": [
      "Epoch 310, Train Loss: 1.2816, Val MAPE: 0.2464\n"
     ]
    },
    {
     "name": "stderr",
     "output_type": "stream",
     "text": [
      " 64%|██████▍   | 321/500 [01:13<00:41,  4.34it/s]"
     ]
    },
    {
     "name": "stdout",
     "output_type": "stream",
     "text": [
      "Epoch 320, Train Loss: 1.1897, Val MAPE: 0.2465\n"
     ]
    },
    {
     "name": "stderr",
     "output_type": "stream",
     "text": [
      " 66%|██████▌   | 331/500 [01:15<00:38,  4.42it/s]"
     ]
    },
    {
     "name": "stdout",
     "output_type": "stream",
     "text": [
      "Epoch 330, Train Loss: 1.2248, Val MAPE: 0.2466\n"
     ]
    },
    {
     "name": "stderr",
     "output_type": "stream",
     "text": [
      " 68%|██████▊   | 341/500 [01:18<00:35,  4.44it/s]"
     ]
    },
    {
     "name": "stdout",
     "output_type": "stream",
     "text": [
      "Epoch 340, Train Loss: 1.2274, Val MAPE: 0.2464\n"
     ]
    },
    {
     "name": "stderr",
     "output_type": "stream",
     "text": [
      " 70%|███████   | 351/500 [01:20<00:33,  4.41it/s]"
     ]
    },
    {
     "name": "stdout",
     "output_type": "stream",
     "text": [
      "Epoch 350, Train Loss: 1.2347, Val MAPE: 0.2458\n"
     ]
    },
    {
     "name": "stderr",
     "output_type": "stream",
     "text": [
      " 72%|███████▏  | 361/500 [01:22<00:31,  4.47it/s]"
     ]
    },
    {
     "name": "stdout",
     "output_type": "stream",
     "text": [
      "Epoch 360, Train Loss: 1.3024, Val MAPE: 0.2460\n"
     ]
    },
    {
     "name": "stderr",
     "output_type": "stream",
     "text": [
      " 74%|███████▍  | 371/500 [01:24<00:29,  4.41it/s]"
     ]
    },
    {
     "name": "stdout",
     "output_type": "stream",
     "text": [
      "Epoch 370, Train Loss: 1.2525, Val MAPE: 0.2458\n"
     ]
    },
    {
     "name": "stderr",
     "output_type": "stream",
     "text": [
      " 76%|███████▌  | 381/500 [01:27<00:26,  4.44it/s]"
     ]
    },
    {
     "name": "stdout",
     "output_type": "stream",
     "text": [
      "Epoch 380, Train Loss: 1.2281, Val MAPE: 0.2460\n"
     ]
    },
    {
     "name": "stderr",
     "output_type": "stream",
     "text": [
      " 78%|███████▊  | 391/500 [01:29<00:24,  4.47it/s]"
     ]
    },
    {
     "name": "stdout",
     "output_type": "stream",
     "text": [
      "Epoch 390, Train Loss: 1.1357, Val MAPE: 0.2458\n"
     ]
    },
    {
     "name": "stderr",
     "output_type": "stream",
     "text": [
      " 80%|████████  | 401/500 [01:31<00:22,  4.47it/s]"
     ]
    },
    {
     "name": "stdout",
     "output_type": "stream",
     "text": [
      "Epoch 400, Train Loss: 1.1912, Val MAPE: 0.2454\n"
     ]
    },
    {
     "name": "stderr",
     "output_type": "stream",
     "text": [
      " 82%|████████▏ | 411/500 [01:33<00:19,  4.47it/s]"
     ]
    },
    {
     "name": "stdout",
     "output_type": "stream",
     "text": [
      "Epoch 410, Train Loss: 1.2698, Val MAPE: 0.2454\n"
     ]
    },
    {
     "name": "stderr",
     "output_type": "stream",
     "text": [
      " 84%|████████▍ | 421/500 [01:36<00:17,  4.46it/s]"
     ]
    },
    {
     "name": "stdout",
     "output_type": "stream",
     "text": [
      "Epoch 420, Train Loss: 1.0691, Val MAPE: 0.2457\n"
     ]
    },
    {
     "name": "stderr",
     "output_type": "stream",
     "text": [
      " 86%|████████▌ | 431/500 [01:38<00:15,  4.39it/s]"
     ]
    },
    {
     "name": "stdout",
     "output_type": "stream",
     "text": [
      "Epoch 430, Train Loss: 1.1846, Val MAPE: 0.2460\n"
     ]
    },
    {
     "name": "stderr",
     "output_type": "stream",
     "text": [
      " 88%|████████▊ | 441/500 [01:40<00:13,  4.37it/s]"
     ]
    },
    {
     "name": "stdout",
     "output_type": "stream",
     "text": [
      "Epoch 440, Train Loss: 1.0940, Val MAPE: 0.2453\n"
     ]
    },
    {
     "name": "stderr",
     "output_type": "stream",
     "text": [
      " 90%|█████████ | 451/500 [01:43<00:11,  4.41it/s]"
     ]
    },
    {
     "name": "stdout",
     "output_type": "stream",
     "text": [
      "Epoch 450, Train Loss: 1.1425, Val MAPE: 0.2453\n"
     ]
    },
    {
     "name": "stderr",
     "output_type": "stream",
     "text": [
      " 92%|█████████▏| 461/500 [01:45<00:09,  4.30it/s]"
     ]
    },
    {
     "name": "stdout",
     "output_type": "stream",
     "text": [
      "Epoch 460, Train Loss: 1.0463, Val MAPE: 0.2454\n"
     ]
    },
    {
     "name": "stderr",
     "output_type": "stream",
     "text": [
      " 94%|█████████▍| 471/500 [01:47<00:06,  4.34it/s]"
     ]
    },
    {
     "name": "stdout",
     "output_type": "stream",
     "text": [
      "Epoch 470, Train Loss: 1.0235, Val MAPE: 0.2454\n"
     ]
    },
    {
     "name": "stderr",
     "output_type": "stream",
     "text": [
      " 96%|█████████▌| 481/500 [01:49<00:04,  4.45it/s]"
     ]
    },
    {
     "name": "stdout",
     "output_type": "stream",
     "text": [
      "Epoch 480, Train Loss: 1.1499, Val MAPE: 0.2454\n"
     ]
    },
    {
     "name": "stderr",
     "output_type": "stream",
     "text": [
      " 98%|█████████▊| 491/500 [01:52<00:01,  4.53it/s]"
     ]
    },
    {
     "name": "stdout",
     "output_type": "stream",
     "text": [
      "Epoch 490, Train Loss: 1.1037, Val MAPE: 0.2451\n"
     ]
    },
    {
     "name": "stderr",
     "output_type": "stream",
     "text": [
      "100%|██████████| 500/500 [01:54<00:00,  4.38it/s]"
     ]
    },
    {
     "name": "stdout",
     "output_type": "stream",
     "text": [
      "Model saved at lstm_stock_model.pth.\n"
     ]
    },
    {
     "name": "stderr",
     "output_type": "stream",
     "text": [
      "\n"
     ]
    },
    {
     "data": {
      "image/png": "[encoded data removed]",
      "text/plain": [
       "<Figure size 640x480 with 1 Axes>"
      ]
     },
     "metadata": {},
     "output_type": "display_data"
    },
    {
     "name": "stdout",
     "output_type": "stream",
     "text": [
      "Final Train Loss: 1.0075, Final Test MAPE: 0.2451\n"
     ]
    }
   ],
   "source": [
    "main()"
   ]
  }
 ],
 "metadata": {
  "kernelspec": {
   "display_name": "Python38",
   "language": "python",
   "name": "python3"
  },
  "language_info": {
   "codemirror_mode": {
    "name": "ipython",
    "version": 3
   },
   "file_extension": ".py",
   "mimetype": "text/x-python",
   "name": "python",
   "nbconvert_exporter": "python",
   "pygments_lexer": "ipython3",
   "version": "3.8.19"
  }
 },
 "nbformat": 4,
 "nbformat_minor": 2
}
