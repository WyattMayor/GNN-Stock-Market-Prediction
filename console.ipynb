{
 "cells": [
  {
   "cell_type": "markdown",
   "metadata": {},
   "source": [
    "### Stock Market Prediction using Graph Neural Networks"
   ]
  },
  {
   "cell_type": "code",
   "execution_count": 1,
   "metadata": {},
   "outputs": [],
   "source": [
    "from dataset.data import *\n",
    "from models.gnn import *\n",
    "from datetime import datetime"
   ]
  },
  {
   "cell_type": "markdown",
   "metadata": {},
   "source": [
    "### Data Collection"
   ]
  },
  {
   "cell_type": "code",
   "execution_count": 2,
   "metadata": {},
   "outputs": [
    {
     "name": "stderr",
     "output_type": "stream",
     "text": [
      "  9%|▉         | 9/101 [00:00<00:01, 76.45it/s]"
     ]
    },
    {
     "name": "stdout",
     "output_type": "stream",
     "text": [
      "Data for APP is missing!\n",
      "Data for ARM is missing!\n"
     ]
    },
    {
     "name": "stderr",
     "output_type": "stream",
     "text": [
      " 39%|███▊      | 39/101 [00:00<00:00, 63.31it/s]"
     ]
    },
    {
     "name": "stdout",
     "output_type": "stream",
     "text": [
      "Data for GFS is missing!\n",
      "Data for META is missing!\n"
     ]
    },
    {
     "name": "stderr",
     "output_type": "stream",
     "text": [
      " 67%|██████▋   | 68/101 [00:01<00:00, 66.42it/s]"
     ]
    },
    {
     "name": "stdout",
     "output_type": "stream",
     "text": [
      "Data for GRAL is missing!\n"
     ]
    },
    {
     "name": "stderr",
     "output_type": "stream",
     "text": [
      " 90%|█████████ | 91/101 [00:01<00:00, 68.59it/s]"
     ]
    },
    {
     "name": "stdout",
     "output_type": "stream",
     "text": [
      "Data for WBD is missing!\n",
      "Data for ABNB is missing!\n",
      "Data for CEG is missing!\n",
      "Data for DASH is missing!\n"
     ]
    },
    {
     "name": "stderr",
     "output_type": "stream",
     "text": [
      "100%|██████████| 101/101 [00:01<00:00, 67.83it/s]\n"
     ]
    },
    {
     "name": "stdout",
     "output_type": "stream",
     "text": [
      "Data for GEHC is missing!\n"
     ]
    },
    {
     "name": "stderr",
     "output_type": "stream",
     "text": [
      "  0%|          | 3/1542 [00:00<00:56, 27.46it/s]"
     ]
    },
    {
     "name": "stdout",
     "output_type": "stream",
     "text": [
      "Graph for 2014-02-18 already exists!\n",
      "Graph for 2014-02-19 already exists!\n",
      "Graph for 2014-02-20 already exists!\n",
      "Graph for 2014-02-21 already exists!\n",
      "Graph for 2014-02-24 already exists!\n",
      "Graph for 2014-02-25 already exists!\n"
     ]
    },
    {
     "name": "stderr",
     "output_type": "stream",
     "text": [
      "  1%|          | 9/1542 [00:00<00:54, 27.99it/s]"
     ]
    },
    {
     "name": "stdout",
     "output_type": "stream",
     "text": [
      "Graph for 2014-02-26 already exists!\n",
      "Graph for 2014-02-27 already exists!\n",
      "Graph for 2014-02-28 already exists!\n",
      "Graph for 2014-03-03 already exists!\n",
      "Graph for 2014-03-04 already exists!\n",
      "Graph for 2014-03-05 already exists!\n"
     ]
    },
    {
     "name": "stderr",
     "output_type": "stream",
     "text": [
      "  1%|          | 18/1542 [00:00<00:53, 28.35it/s]"
     ]
    },
    {
     "name": "stdout",
     "output_type": "stream",
     "text": [
      "Graph for 2014-03-06 already exists!\n",
      "Graph for 2014-03-07 already exists!\n",
      "Graph for 2014-03-10 already exists!\n",
      "Graph for 2014-03-11 already exists!\n",
      "Graph for 2014-03-12 already exists!\n",
      "Graph for 2014-03-13 already exists!\n"
     ]
    },
    {
     "name": "stderr",
     "output_type": "stream",
     "text": [
      "  1%|▏         | 21/1542 [00:00<00:54, 28.11it/s]"
     ]
    },
    {
     "name": "stdout",
     "output_type": "stream",
     "text": [
      "Graph for 2014-03-14 already exists!\n",
      "Graph for 2014-03-17 already exists!\n",
      "Graph for 2014-03-18 already exists!\n",
      "Graph for 2014-03-19 already exists!\n",
      "Graph for 2014-03-20 already exists!\n",
      "Graph for 2014-03-21 already exists!\n"
     ]
    },
    {
     "name": "stderr",
     "output_type": "stream",
     "text": [
      "  2%|▏         | 27/1542 [00:00<00:53, 28.48it/s]"
     ]
    },
    {
     "name": "stdout",
     "output_type": "stream",
     "text": [
      "Graph for 2014-03-24 already exists!\n",
      "Graph for 2014-03-25 already exists!\n",
      "Graph for 2014-03-26 already exists!\n",
      "Graph for 2014-03-27 already exists!\n",
      "Graph for 2014-03-28 already exists!\n",
      "Graph for 2014-03-31 already exists!\n"
     ]
    },
    {
     "name": "stderr",
     "output_type": "stream",
     "text": [
      "  2%|▏         | 36/1542 [00:01<00:53, 28.27it/s]"
     ]
    },
    {
     "name": "stdout",
     "output_type": "stream",
     "text": [
      "Graph for 2014-04-01 already exists!\n",
      "Graph for 2014-04-02 already exists!\n",
      "Graph for 2014-04-03 already exists!\n",
      "Graph for 2014-04-04 already exists!\n",
      "Graph for 2014-04-07 already exists!\n",
      "Graph for 2014-04-08 already exists!\n"
     ]
    },
    {
     "name": "stderr",
     "output_type": "stream",
     "text": [
      "  3%|▎         | 39/1542 [00:01<00:53, 28.06it/s]"
     ]
    },
    {
     "name": "stdout",
     "output_type": "stream",
     "text": [
      "Graph for 2014-04-09 already exists!\n",
      "Graph for 2014-04-10 already exists!\n",
      "Graph for 2014-04-11 already exists!\n",
      "Graph for 2014-04-14 already exists!\n",
      "Graph for 2014-04-15 already exists!\n",
      "Graph for 2014-04-16 already exists!\n"
     ]
    },
    {
     "name": "stderr",
     "output_type": "stream",
     "text": [
      "  3%|▎         | 45/1542 [00:01<00:52, 28.34it/s]"
     ]
    },
    {
     "name": "stdout",
     "output_type": "stream",
     "text": [
      "Graph for 2014-04-17 already exists!\n",
      "Graph for 2014-04-21 already exists!\n",
      "Graph for 2014-04-22 already exists!\n",
      "Graph for 2014-04-23 already exists!\n",
      "Graph for 2014-04-24 already exists!\n",
      "Graph for 2014-04-25 already exists!\n"
     ]
    },
    {
     "name": "stderr",
     "output_type": "stream",
     "text": [
      "  3%|▎         | 51/1542 [00:01<00:53, 28.01it/s]"
     ]
    },
    {
     "name": "stdout",
     "output_type": "stream",
     "text": [
      "Graph for 2014-04-28 already exists!\n",
      "Graph for 2014-04-29 already exists!\n",
      "Graph for 2014-04-30 already exists!\n",
      "Graph for 2014-05-01 already exists!\n",
      "Graph for 2014-05-02 already exists!\n",
      "Graph for 2014-05-05 already exists!\n"
     ]
    },
    {
     "name": "stderr",
     "output_type": "stream",
     "text": [
      "  4%|▎         | 57/1542 [00:02<00:53, 27.70it/s]"
     ]
    },
    {
     "name": "stdout",
     "output_type": "stream",
     "text": [
      "Graph for 2014-05-06 already exists!\n",
      "Graph for 2014-05-07 already exists!\n",
      "Graph for 2014-05-08 already exists!\n",
      "Graph for 2014-05-09 already exists!\n",
      "Graph for 2014-05-12 already exists!\n",
      "Graph for 2014-05-13 already exists!\n"
     ]
    },
    {
     "name": "stderr",
     "output_type": "stream",
     "text": [
      "  4%|▍         | 63/1542 [00:02<00:52, 28.16it/s]"
     ]
    },
    {
     "name": "stdout",
     "output_type": "stream",
     "text": [
      "Graph for 2014-05-14 already exists!\n",
      "Graph for 2014-05-15 already exists!\n",
      "Graph for 2014-05-16 already exists!\n",
      "Graph for 2014-05-19 already exists!\n",
      "Graph for 2014-05-20 already exists!\n",
      "Graph for 2014-05-21 already exists!\n"
     ]
    },
    {
     "name": "stderr",
     "output_type": "stream",
     "text": [
      "  5%|▍         | 72/1542 [00:02<00:51, 28.59it/s]"
     ]
    },
    {
     "name": "stdout",
     "output_type": "stream",
     "text": [
      "Graph for 2014-05-22 already exists!\n",
      "Graph for 2014-05-23 already exists!\n",
      "Graph for 2014-05-27 already exists!\n",
      "Graph for 2014-05-28 already exists!\n",
      "Graph for 2014-05-29 already exists!\n",
      "Graph for 2014-05-30 already exists!\n"
     ]
    },
    {
     "name": "stderr",
     "output_type": "stream",
     "text": [
      "  5%|▍         | 75/1542 [00:02<00:51, 28.65it/s]"
     ]
    },
    {
     "name": "stdout",
     "output_type": "stream",
     "text": [
      "Graph for 2014-06-02 already exists!\n",
      "Graph for 2014-06-03 already exists!\n",
      "Graph for 2014-06-04 already exists!\n",
      "Graph for 2014-06-05 already exists!\n",
      "Graph for 2014-06-06 already exists!\n",
      "Graph for 2014-06-09 already exists!\n"
     ]
    },
    {
     "name": "stderr",
     "output_type": "stream",
     "text": [
      "  5%|▌         | 84/1542 [00:02<00:51, 28.50it/s]"
     ]
    },
    {
     "name": "stdout",
     "output_type": "stream",
     "text": [
      "Graph for 2014-06-10 already exists!\n",
      "Graph for 2014-06-11 already exists!\n",
      "Graph for 2014-06-12 already exists!\n",
      "Graph for 2014-06-13 already exists!\n",
      "Graph for 2014-06-16 already exists!\n",
      "Graph for 2014-06-17 already exists!\n"
     ]
    },
    {
     "name": "stderr",
     "output_type": "stream",
     "text": [
      "  6%|▌         | 87/1542 [00:03<00:51, 28.30it/s]"
     ]
    },
    {
     "name": "stdout",
     "output_type": "stream",
     "text": [
      "Graph for 2014-06-18 already exists!\n",
      "Graph for 2014-06-19 already exists!\n",
      "Graph for 2014-06-20 already exists!\n",
      "Graph for 2014-06-23 already exists!\n",
      "Graph for 2014-06-24 already exists!\n",
      "Graph for 2014-06-25 already exists!\n"
     ]
    },
    {
     "name": "stderr",
     "output_type": "stream",
     "text": [
      "  6%|▌         | 93/1542 [00:03<00:51, 28.12it/s]"
     ]
    },
    {
     "name": "stdout",
     "output_type": "stream",
     "text": [
      "Graph for 2014-06-26 already exists!\n",
      "Graph for 2014-06-27 already exists!\n",
      "Graph for 2014-06-30 already exists!\n",
      "Graph for 2014-07-01 already exists!\n",
      "Graph for 2014-07-02 already exists!\n",
      "Graph for 2014-07-03 already exists!\n"
     ]
    },
    {
     "name": "stderr",
     "output_type": "stream",
     "text": [
      "  7%|▋         | 102/1542 [00:03<00:50, 28.27it/s]"
     ]
    },
    {
     "name": "stdout",
     "output_type": "stream",
     "text": [
      "Graph for 2014-07-07 already exists!\n",
      "Graph for 2014-07-08 already exists!\n",
      "Graph for 2014-07-09 already exists!\n",
      "Graph for 2014-07-10 already exists!\n",
      "Graph for 2014-07-11 already exists!\n",
      "Graph for 2014-07-14 already exists!\n"
     ]
    },
    {
     "name": "stderr",
     "output_type": "stream",
     "text": [
      "  7%|▋         | 105/1542 [00:03<00:50, 28.30it/s]"
     ]
    },
    {
     "name": "stdout",
     "output_type": "stream",
     "text": [
      "Graph for 2014-07-15 already exists!\n",
      "Graph for 2014-07-16 already exists!\n",
      "Graph for 2014-07-17 already exists!\n",
      "Graph for 2014-07-18 already exists!\n",
      "Graph for 2014-07-21 already exists!\n",
      "Graph for 2014-07-22 already exists!\n"
     ]
    },
    {
     "name": "stderr",
     "output_type": "stream",
     "text": [
      "  7%|▋         | 114/1542 [00:04<00:50, 28.31it/s]"
     ]
    },
    {
     "name": "stdout",
     "output_type": "stream",
     "text": [
      "Graph for 2014-07-23 already exists!\n",
      "Graph for 2014-07-24 already exists!\n",
      "Graph for 2014-07-25 already exists!\n",
      "Graph for 2014-07-28 already exists!\n",
      "Graph for 2014-07-29 already exists!\n",
      "Graph for 2014-07-30 already exists!\n"
     ]
    },
    {
     "name": "stderr",
     "output_type": "stream",
     "text": [
      "  8%|▊         | 117/1542 [00:04<00:50, 28.41it/s]"
     ]
    },
    {
     "name": "stdout",
     "output_type": "stream",
     "text": [
      "Graph for 2014-07-31 already exists!\n",
      "Graph for 2014-08-01 already exists!\n",
      "Graph for 2014-08-04 already exists!\n",
      "Graph for 2014-08-05 already exists!\n",
      "Graph for 2014-08-06 already exists!\n",
      "Graph for 2014-08-07 already exists!\n"
     ]
    },
    {
     "name": "stderr",
     "output_type": "stream",
     "text": [
      "  8%|▊         | 126/1542 [00:04<00:50, 27.84it/s]"
     ]
    },
    {
     "name": "stdout",
     "output_type": "stream",
     "text": [
      "Graph for 2014-08-08 already exists!\n",
      "Graph for 2014-08-11 already exists!\n",
      "Graph for 2014-08-12 already exists!\n",
      "Graph for 2014-08-13 already exists!\n",
      "Graph for 2014-08-14 already exists!\n",
      "Graph for 2014-08-15 already exists!\n"
     ]
    },
    {
     "name": "stderr",
     "output_type": "stream",
     "text": [
      "  8%|▊         | 129/1542 [00:04<00:50, 27.97it/s]"
     ]
    },
    {
     "name": "stdout",
     "output_type": "stream",
     "text": [
      "Graph for 2014-08-18 already exists!\n",
      "Graph for 2014-08-19 already exists!\n",
      "Graph for 2014-08-20 already exists!\n",
      "Graph for 2014-08-21 already exists!\n",
      "Graph for 2014-08-22 already exists!\n",
      "Graph for 2014-08-25 already exists!\n"
     ]
    },
    {
     "name": "stderr",
     "output_type": "stream",
     "text": [
      "  9%|▉         | 138/1542 [00:04<00:49, 28.21it/s]"
     ]
    },
    {
     "name": "stdout",
     "output_type": "stream",
     "text": [
      "Graph for 2014-08-26 already exists!\n",
      "Graph for 2014-08-27 already exists!\n",
      "Graph for 2014-08-28 already exists!\n",
      "Graph for 2014-08-29 already exists!\n",
      "Graph for 2014-09-02 already exists!\n",
      "Graph for 2014-09-03 already exists!\n"
     ]
    },
    {
     "name": "stderr",
     "output_type": "stream",
     "text": [
      "  9%|▉         | 141/1542 [00:05<00:49, 28.21it/s]"
     ]
    },
    {
     "name": "stdout",
     "output_type": "stream",
     "text": [
      "Graph for 2014-09-04 already exists!\n",
      "Graph for 2014-09-05 already exists!\n",
      "Graph for 2014-09-08 already exists!\n",
      "Graph for 2014-09-09 already exists!\n",
      "Graph for 2014-09-10 already exists!\n",
      "Graph for 2014-09-11 already exists!\n"
     ]
    },
    {
     "name": "stderr",
     "output_type": "stream",
     "text": [
      " 10%|▉         | 150/1542 [00:05<00:49, 28.17it/s]"
     ]
    },
    {
     "name": "stdout",
     "output_type": "stream",
     "text": [
      "Graph for 2014-09-12 already exists!\n",
      "Graph for 2014-09-15 already exists!\n",
      "Graph for 2014-09-16 already exists!\n",
      "Graph for 2014-09-17 already exists!\n",
      "Graph for 2014-09-18 already exists!\n",
      "Graph for 2014-09-19 already exists!\n"
     ]
    },
    {
     "name": "stderr",
     "output_type": "stream",
     "text": [
      " 10%|▉         | 153/1542 [00:05<00:49, 28.07it/s]"
     ]
    },
    {
     "name": "stdout",
     "output_type": "stream",
     "text": [
      "Graph for 2014-09-22 already exists!\n",
      "Graph for 2014-09-23 already exists!\n",
      "Graph for 2014-09-24 already exists!\n",
      "Graph for 2014-09-25 already exists!\n",
      "Graph for 2014-09-26 already exists!\n",
      "Graph for 2014-09-29 already exists!\n"
     ]
    },
    {
     "name": "stderr",
     "output_type": "stream",
     "text": [
      " 10%|█         | 159/1542 [00:05<00:49, 28.11it/s]"
     ]
    },
    {
     "name": "stdout",
     "output_type": "stream",
     "text": [
      "Graph for 2014-09-30 already exists!\n",
      "Graph for 2014-10-01 already exists!\n",
      "Graph for 2014-10-02 already exists!\n",
      "Graph for 2014-10-03 already exists!\n",
      "Graph for 2014-10-06 already exists!\n",
      "Graph for 2014-10-07 already exists!\n"
     ]
    },
    {
     "name": "stderr",
     "output_type": "stream",
     "text": [
      " 11%|█         | 165/1542 [00:05<00:48, 28.31it/s]"
     ]
    },
    {
     "name": "stdout",
     "output_type": "stream",
     "text": [
      "Graph for 2014-10-08 already exists!\n",
      "Graph for 2014-10-09 already exists!\n",
      "Graph for 2014-10-10 already exists!\n",
      "Graph for 2014-10-13 already exists!\n",
      "Graph for 2014-10-14 already exists!\n",
      "Graph for 2014-10-15 already exists!\n"
     ]
    },
    {
     "name": "stderr",
     "output_type": "stream",
     "text": [
      " 11%|█         | 171/1542 [00:06<00:48, 28.15it/s]"
     ]
    },
    {
     "name": "stdout",
     "output_type": "stream",
     "text": [
      "Graph for 2014-10-16 already exists!\n",
      "Graph for 2014-10-17 already exists!\n",
      "Graph for 2014-10-20 already exists!\n",
      "Graph for 2014-10-21 already exists!\n",
      "Graph for 2014-10-22 already exists!\n",
      "Graph for 2014-10-23 already exists!\n"
     ]
    },
    {
     "name": "stderr",
     "output_type": "stream",
     "text": [
      " 11%|█▏        | 177/1542 [00:06<00:48, 28.17it/s]"
     ]
    },
    {
     "name": "stdout",
     "output_type": "stream",
     "text": [
      "Graph for 2014-10-24 already exists!\n",
      "Graph for 2014-10-27 already exists!\n",
      "Graph for 2014-10-28 already exists!\n",
      "Graph for 2014-10-29 already exists!\n",
      "Graph for 2014-10-30 already exists!\n",
      "Graph for 2014-10-31 already exists!\n"
     ]
    },
    {
     "name": "stderr",
     "output_type": "stream",
     "text": [
      " 12%|█▏        | 183/1542 [00:06<00:48, 28.21it/s]"
     ]
    },
    {
     "name": "stdout",
     "output_type": "stream",
     "text": [
      "Graph for 2014-11-03 already exists!\n",
      "Graph for 2014-11-04 already exists!\n",
      "Graph for 2014-11-05 already exists!\n",
      "Graph for 2014-11-06 already exists!\n",
      "Graph for 2014-11-07 already exists!\n",
      "Graph for 2014-11-10 already exists!\n"
     ]
    },
    {
     "name": "stderr",
     "output_type": "stream",
     "text": [
      " 12%|█▏        | 192/1542 [00:06<00:47, 28.51it/s]"
     ]
    },
    {
     "name": "stdout",
     "output_type": "stream",
     "text": [
      "Graph for 2014-11-11 already exists!\n",
      "Graph for 2014-11-12 already exists!\n",
      "Graph for 2014-11-13 already exists!\n",
      "Graph for 2014-11-14 already exists!\n",
      "Graph for 2014-11-17 already exists!\n",
      "Graph for 2014-11-18 already exists!\n"
     ]
    },
    {
     "name": "stderr",
     "output_type": "stream",
     "text": [
      " 13%|█▎        | 198/1542 [00:07<00:47, 28.45it/s]"
     ]
    },
    {
     "name": "stdout",
     "output_type": "stream",
     "text": [
      "Graph for 2014-11-19 already exists!\n",
      "Graph for 2014-11-20 already exists!\n",
      "Graph for 2014-11-21 already exists!\n",
      "Graph for 2014-11-24 already exists!\n",
      "Graph for 2014-11-25 already exists!\n",
      "Graph for 2014-11-26 already exists!\n"
     ]
    },
    {
     "name": "stderr",
     "output_type": "stream",
     "text": [
      " 13%|█▎        | 201/1542 [00:07<00:47, 28.34it/s]"
     ]
    },
    {
     "name": "stdout",
     "output_type": "stream",
     "text": [
      "Graph for 2014-11-28 already exists!\n",
      "Graph for 2014-12-01 already exists!\n",
      "Graph for 2014-12-02 already exists!\n",
      "Graph for 2014-12-03 already exists!\n",
      "Graph for 2014-12-04 already exists!\n",
      "Graph for 2014-12-05 already exists!\n"
     ]
    },
    {
     "name": "stderr",
     "output_type": "stream",
     "text": [
      " 13%|█▎        | 207/1542 [00:07<00:47, 27.93it/s]"
     ]
    },
    {
     "name": "stdout",
     "output_type": "stream",
     "text": [
      "Graph for 2014-12-08 already exists!\n",
      "Graph for 2014-12-09 already exists!\n",
      "Graph for 2014-12-10 already exists!\n",
      "Graph for 2014-12-11 already exists!\n",
      "Graph for 2014-12-12 already exists!\n",
      "Graph for 2014-12-15 already exists!\n"
     ]
    },
    {
     "name": "stderr",
     "output_type": "stream",
     "text": [
      " 14%|█▍        | 216/1542 [00:07<00:46, 28.38it/s]"
     ]
    },
    {
     "name": "stdout",
     "output_type": "stream",
     "text": [
      "Graph for 2014-12-16 already exists!\n",
      "Graph for 2014-12-17 already exists!\n",
      "Graph for 2014-12-18 already exists!\n",
      "Graph for 2014-12-19 already exists!\n",
      "Graph for 2014-12-22 already exists!\n",
      "Graph for 2014-12-23 already exists!\n"
     ]
    },
    {
     "name": "stderr",
     "output_type": "stream",
     "text": [
      " 14%|█▍        | 219/1542 [00:07<00:46, 28.34it/s]"
     ]
    },
    {
     "name": "stdout",
     "output_type": "stream",
     "text": [
      "Graph for 2014-12-24 already exists!\n",
      "Graph for 2014-12-26 already exists!\n",
      "Graph for 2014-12-29 already exists!\n",
      "Graph for 2014-12-30 already exists!\n",
      "Graph for 2014-12-31 already exists!\n",
      "Graph for 2015-01-02 already exists!\n"
     ]
    },
    {
     "name": "stderr",
     "output_type": "stream",
     "text": [
      " 15%|█▍        | 228/1542 [00:08<00:45, 28.59it/s]"
     ]
    },
    {
     "name": "stdout",
     "output_type": "stream",
     "text": [
      "Graph for 2015-01-05 already exists!\n",
      "Graph for 2015-01-06 already exists!\n",
      "Graph for 2015-01-07 already exists!\n",
      "Graph for 2015-01-08 already exists!\n",
      "Graph for 2015-01-09 already exists!\n",
      "Graph for 2015-01-12 already exists!\n"
     ]
    },
    {
     "name": "stderr",
     "output_type": "stream",
     "text": [
      " 15%|█▍        | 231/1542 [00:08<00:46, 28.37it/s]"
     ]
    },
    {
     "name": "stdout",
     "output_type": "stream",
     "text": [
      "Graph for 2015-01-13 already exists!\n",
      "Graph for 2015-01-14 already exists!\n",
      "Graph for 2015-01-15 already exists!\n",
      "Graph for 2015-01-16 already exists!\n",
      "Graph for 2015-01-20 already exists!\n",
      "Graph for 2015-01-21 already exists!\n"
     ]
    },
    {
     "name": "stderr",
     "output_type": "stream",
     "text": [
      " 16%|█▌        | 240/1542 [00:08<00:45, 28.58it/s]"
     ]
    },
    {
     "name": "stdout",
     "output_type": "stream",
     "text": [
      "Graph for 2015-01-22 already exists!\n",
      "Graph for 2015-01-23 already exists!\n",
      "Graph for 2015-01-26 already exists!\n",
      "Graph for 2015-01-27 already exists!\n",
      "Graph for 2015-01-28 already exists!\n",
      "Graph for 2015-01-29 already exists!\n"
     ]
    },
    {
     "name": "stderr",
     "output_type": "stream",
     "text": [
      " 16%|█▌        | 243/1542 [00:08<00:45, 28.53it/s]"
     ]
    },
    {
     "name": "stdout",
     "output_type": "stream",
     "text": [
      "Graph for 2015-01-30 already exists!\n",
      "Graph for 2015-02-02 already exists!\n",
      "Graph for 2015-02-03 already exists!\n",
      "Graph for 2015-02-04 already exists!\n",
      "Graph for 2015-02-05 already exists!\n",
      "Graph for 2015-02-06 already exists!\n"
     ]
    },
    {
     "name": "stderr",
     "output_type": "stream",
     "text": [
      " 16%|█▌        | 249/1542 [00:08<00:44, 28.74it/s]"
     ]
    },
    {
     "name": "stdout",
     "output_type": "stream",
     "text": [
      "Graph for 2015-02-09 already exists!\n",
      "Graph for 2015-02-10 already exists!\n",
      "Graph for 2015-02-11 already exists!\n",
      "Graph for 2015-02-12 already exists!\n",
      "Graph for 2015-02-13 already exists!\n",
      "Graph for 2015-02-17 already exists!\n"
     ]
    },
    {
     "name": "stderr",
     "output_type": "stream",
     "text": [
      " 17%|█▋        | 258/1542 [00:09<00:44, 28.61it/s]"
     ]
    },
    {
     "name": "stdout",
     "output_type": "stream",
     "text": [
      "Graph for 2015-02-18 already exists!\n",
      "Graph for 2015-02-19 already exists!\n",
      "Graph for 2015-02-20 already exists!\n",
      "Graph for 2015-02-23 already exists!\n",
      "Graph for 2015-02-24 already exists!\n",
      "Graph for 2015-02-25 already exists!\n"
     ]
    },
    {
     "name": "stderr",
     "output_type": "stream",
     "text": [
      " 17%|█▋        | 261/1542 [00:09<00:44, 28.63it/s]"
     ]
    },
    {
     "name": "stdout",
     "output_type": "stream",
     "text": [
      "Graph for 2015-02-26 already exists!\n",
      "Graph for 2015-02-27 already exists!\n",
      "Graph for 2015-03-02 already exists!\n",
      "Graph for 2015-03-03 already exists!\n",
      "Graph for 2015-03-04 already exists!\n",
      "Graph for 2015-03-05 already exists!\n"
     ]
    },
    {
     "name": "stderr",
     "output_type": "stream",
     "text": [
      " 17%|█▋        | 267/1542 [00:09<00:46, 27.51it/s]"
     ]
    },
    {
     "name": "stdout",
     "output_type": "stream",
     "text": [
      "Graph for 2015-03-06 already exists!\n",
      "Graph for 2015-03-09 already exists!\n",
      "Graph for 2015-03-10 already exists!\n",
      "Graph for 2015-03-11 already exists!\n",
      "Graph for 2015-03-12 already exists!\n",
      "Graph for 2015-03-13 already exists!\n"
     ]
    },
    {
     "name": "stderr",
     "output_type": "stream",
     "text": [
      " 18%|█▊        | 273/1542 [00:09<00:45, 27.94it/s]"
     ]
    },
    {
     "name": "stdout",
     "output_type": "stream",
     "text": [
      "Graph for 2015-03-16 already exists!\n",
      "Graph for 2015-03-17 already exists!\n",
      "Graph for 2015-03-18 already exists!\n",
      "Graph for 2015-03-19 already exists!\n",
      "Graph for 2015-03-20 already exists!\n",
      "Graph for 2015-03-23 already exists!\n"
     ]
    },
    {
     "name": "stderr",
     "output_type": "stream",
     "text": [
      " 18%|█▊        | 282/1542 [00:09<00:44, 28.15it/s]"
     ]
    },
    {
     "name": "stdout",
     "output_type": "stream",
     "text": [
      "Graph for 2015-03-24 already exists!\n",
      "Graph for 2015-03-25 already exists!\n",
      "Graph for 2015-03-26 already exists!\n",
      "Graph for 2015-03-27 already exists!\n",
      "Graph for 2015-03-30 already exists!\n",
      "Graph for 2015-03-31 already exists!\n"
     ]
    },
    {
     "name": "stderr",
     "output_type": "stream",
     "text": [
      " 18%|█▊        | 285/1542 [00:10<00:44, 28.19it/s]"
     ]
    },
    {
     "name": "stdout",
     "output_type": "stream",
     "text": [
      "Graph for 2015-04-01 already exists!\n",
      "Graph for 2015-04-02 already exists!\n",
      "Graph for 2015-04-06 already exists!\n",
      "Graph for 2015-04-07 already exists!\n",
      "Graph for 2015-04-08 already exists!\n",
      "Graph for 2015-04-09 already exists!\n"
     ]
    },
    {
     "name": "stderr",
     "output_type": "stream",
     "text": [
      " 19%|█▉        | 291/1542 [00:10<00:44, 28.16it/s]"
     ]
    },
    {
     "name": "stdout",
     "output_type": "stream",
     "text": [
      "Graph for 2015-04-10 already exists!\n",
      "Graph for 2015-04-13 already exists!\n",
      "Graph for 2015-04-14 already exists!\n",
      "Graph for 2015-04-15 already exists!\n",
      "Graph for 2015-04-16 already exists!\n",
      "Graph for 2015-04-17 already exists!\n"
     ]
    },
    {
     "name": "stderr",
     "output_type": "stream",
     "text": [
      " 19%|█▉        | 300/1542 [00:10<00:44, 28.22it/s]"
     ]
    },
    {
     "name": "stdout",
     "output_type": "stream",
     "text": [
      "Graph for 2015-04-20 already exists!\n",
      "Graph for 2015-04-21 already exists!\n",
      "Graph for 2015-04-22 already exists!\n",
      "Graph for 2015-04-23 already exists!\n",
      "Graph for 2015-04-24 already exists!\n",
      "Graph for 2015-04-27 already exists!\n"
     ]
    },
    {
     "name": "stderr",
     "output_type": "stream",
     "text": [
      " 20%|█▉        | 303/1542 [00:10<00:43, 28.27it/s]"
     ]
    },
    {
     "name": "stdout",
     "output_type": "stream",
     "text": [
      "Graph for 2015-04-28 already exists!\n",
      "Graph for 2015-04-29 already exists!\n",
      "Graph for 2015-04-30 already exists!\n",
      "Graph for 2015-05-01 already exists!\n",
      "Graph for 2015-05-04 already exists!\n",
      "Graph for 2015-05-05 already exists!\n"
     ]
    },
    {
     "name": "stderr",
     "output_type": "stream",
     "text": [
      " 20%|██        | 312/1542 [00:11<00:43, 28.17it/s]"
     ]
    },
    {
     "name": "stdout",
     "output_type": "stream",
     "text": [
      "Graph for 2015-05-06 already exists!\n",
      "Graph for 2015-05-07 already exists!\n",
      "Graph for 2015-05-08 already exists!\n",
      "Graph for 2015-05-11 already exists!\n",
      "Graph for 2015-05-12 already exists!\n",
      "Graph for 2015-05-13 already exists!\n"
     ]
    },
    {
     "name": "stderr",
     "output_type": "stream",
     "text": [
      " 20%|██        | 315/1542 [00:11<00:43, 28.12it/s]"
     ]
    },
    {
     "name": "stdout",
     "output_type": "stream",
     "text": [
      "Graph for 2015-05-14 already exists!\n",
      "Graph for 2015-05-15 already exists!\n",
      "Graph for 2015-05-18 already exists!\n",
      "Graph for 2015-05-19 already exists!\n",
      "Graph for 2015-05-20 already exists!\n",
      "Graph for 2015-05-21 already exists!\n"
     ]
    },
    {
     "name": "stderr",
     "output_type": "stream",
     "text": [
      " 21%|██        | 321/1542 [00:11<00:43, 28.14it/s]"
     ]
    },
    {
     "name": "stdout",
     "output_type": "stream",
     "text": [
      "Graph for 2015-05-22 already exists!\n",
      "Graph for 2015-05-26 already exists!\n",
      "Graph for 2015-05-27 already exists!\n",
      "Graph for 2015-05-28 already exists!\n",
      "Graph for 2015-05-29 already exists!\n",
      "Graph for 2015-06-01 already exists!\n"
     ]
    },
    {
     "name": "stderr",
     "output_type": "stream",
     "text": [
      " 21%|██▏       | 330/1542 [00:11<00:43, 28.14it/s]"
     ]
    },
    {
     "name": "stdout",
     "output_type": "stream",
     "text": [
      "Graph for 2015-06-02 already exists!\n",
      "Graph for 2015-06-03 already exists!\n",
      "Graph for 2015-06-04 already exists!\n",
      "Graph for 2015-06-05 already exists!\n",
      "Graph for 2015-06-08 already exists!\n",
      "Graph for 2015-06-09 already exists!\n"
     ]
    },
    {
     "name": "stderr",
     "output_type": "stream",
     "text": [
      " 22%|██▏       | 333/1542 [00:11<00:42, 28.30it/s]"
     ]
    },
    {
     "name": "stdout",
     "output_type": "stream",
     "text": [
      "Graph for 2015-06-10 already exists!\n",
      "Graph for 2015-06-11 already exists!\n",
      "Graph for 2015-06-12 already exists!\n",
      "Graph for 2015-06-15 already exists!\n",
      "Graph for 2015-06-16 already exists!\n",
      "Graph for 2015-06-17 already exists!\n"
     ]
    },
    {
     "name": "stderr",
     "output_type": "stream",
     "text": [
      " 22%|██▏       | 342/1542 [00:12<00:41, 28.63it/s]"
     ]
    },
    {
     "name": "stdout",
     "output_type": "stream",
     "text": [
      "Graph for 2015-06-18 already exists!\n",
      "Graph for 2015-06-19 already exists!\n",
      "Graph for 2015-06-22 already exists!\n",
      "Graph for 2015-06-23 already exists!\n",
      "Graph for 2015-06-24 already exists!\n",
      "Graph for 2015-06-25 already exists!\n"
     ]
    },
    {
     "name": "stderr",
     "output_type": "stream",
     "text": [
      " 22%|██▏       | 345/1542 [00:12<00:41, 28.68it/s]"
     ]
    },
    {
     "name": "stdout",
     "output_type": "stream",
     "text": [
      "Graph for 2015-06-26 already exists!\n",
      "Graph for 2015-06-29 already exists!\n",
      "Graph for 2015-06-30 already exists!\n",
      "Graph for 2015-07-01 already exists!\n",
      "Graph for 2015-07-02 already exists!\n",
      "Graph for 2015-07-06 already exists!\n"
     ]
    },
    {
     "name": "stderr",
     "output_type": "stream",
     "text": [
      " 23%|██▎       | 351/1542 [00:12<00:41, 28.50it/s]"
     ]
    },
    {
     "name": "stdout",
     "output_type": "stream",
     "text": [
      "Graph for 2015-07-07 already exists!\n",
      "Graph for 2015-07-08 already exists!\n",
      "Graph for 2015-07-09 already exists!\n",
      "Graph for 2015-07-10 already exists!\n",
      "Graph for 2015-07-13 already exists!\n",
      "Graph for 2015-07-14 already exists!\n"
     ]
    },
    {
     "name": "stderr",
     "output_type": "stream",
     "text": [
      " 23%|██▎       | 357/1542 [00:12<00:41, 28.65it/s]"
     ]
    },
    {
     "name": "stdout",
     "output_type": "stream",
     "text": [
      "Graph for 2015-07-15 already exists!\n",
      "Graph for 2015-07-16 already exists!\n",
      "Graph for 2015-07-17 already exists!\n",
      "Graph for 2015-07-20 already exists!\n",
      "Graph for 2015-07-21 already exists!\n",
      "Graph for 2015-07-22 already exists!\n"
     ]
    },
    {
     "name": "stderr",
     "output_type": "stream",
     "text": [
      " 24%|██▎       | 363/1542 [00:12<00:41, 28.66it/s]"
     ]
    },
    {
     "name": "stdout",
     "output_type": "stream",
     "text": [
      "Graph for 2015-07-23 already exists!\n",
      "Graph for 2015-07-24 already exists!\n",
      "Graph for 2015-07-27 already exists!\n",
      "Graph for 2015-07-28 already exists!\n",
      "Graph for 2015-07-29 already exists!\n",
      "Graph for 2015-07-30 already exists!\n"
     ]
    },
    {
     "name": "stderr",
     "output_type": "stream",
     "text": [
      " 24%|██▍       | 369/1542 [00:13<00:41, 28.43it/s]"
     ]
    },
    {
     "name": "stdout",
     "output_type": "stream",
     "text": [
      "Graph for 2015-07-31 already exists!\n",
      "Graph for 2015-08-03 already exists!\n",
      "Graph for 2015-08-04 already exists!\n",
      "Graph for 2015-08-05 already exists!\n",
      "Graph for 2015-08-06 already exists!\n",
      "Graph for 2015-08-07 already exists!\n"
     ]
    },
    {
     "name": "stderr",
     "output_type": "stream",
     "text": [
      " 24%|██▍       | 375/1542 [00:13<00:41, 28.42it/s]"
     ]
    },
    {
     "name": "stdout",
     "output_type": "stream",
     "text": [
      "Graph for 2015-08-10 already exists!\n",
      "Graph for 2015-08-11 already exists!\n",
      "Graph for 2015-08-12 already exists!\n",
      "Graph for 2015-08-13 already exists!\n",
      "Graph for 2015-08-14 already exists!\n",
      "Graph for 2015-08-17 already exists!\n"
     ]
    },
    {
     "name": "stderr",
     "output_type": "stream",
     "text": [
      " 25%|██▍       | 381/1542 [00:13<00:41, 28.30it/s]"
     ]
    },
    {
     "name": "stdout",
     "output_type": "stream",
     "text": [
      "Graph for 2015-08-18 already exists!\n",
      "Graph for 2015-08-19 already exists!\n",
      "Graph for 2015-08-20 already exists!\n",
      "Graph for 2015-08-21 already exists!\n",
      "Graph for 2015-08-24 already exists!\n",
      "Graph for 2015-08-25 already exists!\n"
     ]
    },
    {
     "name": "stderr",
     "output_type": "stream",
     "text": [
      " 25%|██▌       | 387/1542 [00:13<00:40, 28.34it/s]"
     ]
    },
    {
     "name": "stdout",
     "output_type": "stream",
     "text": [
      "Graph for 2015-08-26 already exists!\n",
      "Graph for 2015-08-27 already exists!\n",
      "Graph for 2015-08-28 already exists!\n",
      "Graph for 2015-08-31 already exists!\n",
      "Graph for 2015-09-01 already exists!\n",
      "Graph for 2015-09-02 already exists!\n"
     ]
    },
    {
     "name": "stderr",
     "output_type": "stream",
     "text": [
      " 25%|██▌       | 393/1542 [00:13<00:41, 27.75it/s]"
     ]
    },
    {
     "name": "stdout",
     "output_type": "stream",
     "text": [
      "Graph for 2015-09-03 already exists!\n",
      "Graph for 2015-09-04 already exists!\n",
      "Graph for 2015-09-08 already exists!\n",
      "Graph for 2015-09-09 already exists!\n",
      "Graph for 2015-09-10 already exists!\n",
      "Graph for 2015-09-11 already exists!\n"
     ]
    },
    {
     "name": "stderr",
     "output_type": "stream",
     "text": [
      " 26%|██▌       | 399/1542 [00:14<00:41, 27.76it/s]"
     ]
    },
    {
     "name": "stdout",
     "output_type": "stream",
     "text": [
      "Graph for 2015-09-14 already exists!\n",
      "Graph for 2015-09-15 already exists!\n",
      "Graph for 2015-09-16 already exists!\n",
      "Graph for 2015-09-17 already exists!\n",
      "Graph for 2015-09-18 already exists!\n",
      "Graph for 2015-09-21 already exists!\n"
     ]
    },
    {
     "name": "stderr",
     "output_type": "stream",
     "text": [
      " 26%|██▋       | 405/1542 [00:14<00:41, 27.53it/s]"
     ]
    },
    {
     "name": "stdout",
     "output_type": "stream",
     "text": [
      "Graph for 2015-09-22 already exists!\n",
      "Graph for 2015-09-23 already exists!\n",
      "Graph for 2015-09-24 already exists!\n",
      "Graph for 2015-09-25 already exists!\n",
      "Graph for 2015-09-28 already exists!\n",
      "Graph for 2015-09-29 already exists!\n"
     ]
    },
    {
     "name": "stderr",
     "output_type": "stream",
     "text": [
      " 27%|██▋       | 411/1542 [00:14<00:40, 27.60it/s]"
     ]
    },
    {
     "name": "stdout",
     "output_type": "stream",
     "text": [
      "Graph for 2015-09-30 already exists!\n",
      "Graph for 2015-10-01 already exists!\n",
      "Graph for 2015-10-02 already exists!\n",
      "Graph for 2015-10-05 already exists!\n",
      "Graph for 2015-10-06 already exists!\n",
      "Graph for 2015-10-07 already exists!\n"
     ]
    },
    {
     "name": "stderr",
     "output_type": "stream",
     "text": [
      " 27%|██▋       | 420/1542 [00:14<00:40, 27.96it/s]"
     ]
    },
    {
     "name": "stdout",
     "output_type": "stream",
     "text": [
      "Graph for 2015-10-08 already exists!\n",
      "Graph for 2015-10-09 already exists!\n",
      "Graph for 2015-10-12 already exists!\n",
      "Graph for 2015-10-13 already exists!\n",
      "Graph for 2015-10-14 already exists!\n",
      "Graph for 2015-10-15 already exists!\n"
     ]
    },
    {
     "name": "stderr",
     "output_type": "stream",
     "text": [
      " 28%|██▊       | 426/1542 [00:15<00:39, 28.11it/s]"
     ]
    },
    {
     "name": "stdout",
     "output_type": "stream",
     "text": [
      "Graph for 2015-10-16 already exists!\n",
      "Graph for 2015-10-19 already exists!\n",
      "Graph for 2015-10-20 already exists!\n",
      "Graph for 2015-10-21 already exists!\n",
      "Graph for 2015-10-22 already exists!\n",
      "Graph for 2015-10-23 already exists!\n"
     ]
    },
    {
     "name": "stderr",
     "output_type": "stream",
     "text": [
      " 28%|██▊       | 429/1542 [00:15<00:39, 27.87it/s]"
     ]
    },
    {
     "name": "stdout",
     "output_type": "stream",
     "text": [
      "Graph for 2015-10-26 already exists!\n",
      "Graph for 2015-10-27 already exists!\n",
      "Graph for 2015-10-28 already exists!\n",
      "Graph for 2015-10-29 already exists!\n",
      "Graph for 2015-10-30 already exists!\n",
      "Graph for 2015-11-02 already exists!\n"
     ]
    },
    {
     "name": "stderr",
     "output_type": "stream",
     "text": [
      " 28%|██▊       | 435/1542 [00:15<00:39, 27.88it/s]"
     ]
    },
    {
     "name": "stdout",
     "output_type": "stream",
     "text": [
      "Graph for 2015-11-03 already exists!\n",
      "Graph for 2015-11-04 already exists!\n",
      "Graph for 2015-11-05 already exists!\n",
      "Graph for 2015-11-06 already exists!\n",
      "Graph for 2015-11-09 already exists!\n",
      "Graph for 2015-11-10 already exists!\n"
     ]
    },
    {
     "name": "stderr",
     "output_type": "stream",
     "text": [
      " 29%|██▊       | 441/1542 [00:15<00:39, 27.99it/s]"
     ]
    },
    {
     "name": "stdout",
     "output_type": "stream",
     "text": [
      "Graph for 2015-11-11 already exists!\n",
      "Graph for 2015-11-12 already exists!\n",
      "Graph for 2015-11-13 already exists!\n",
      "Graph for 2015-11-16 already exists!\n",
      "Graph for 2015-11-17 already exists!\n",
      "Graph for 2015-11-18 already exists!\n"
     ]
    },
    {
     "name": "stderr",
     "output_type": "stream",
     "text": [
      " 29%|██▉       | 447/1542 [00:15<00:38, 28.37it/s]"
     ]
    },
    {
     "name": "stdout",
     "output_type": "stream",
     "text": [
      "Graph for 2015-11-19 already exists!\n",
      "Graph for 2015-11-20 already exists!\n",
      "Graph for 2015-11-23 already exists!\n",
      "Graph for 2015-11-24 already exists!\n",
      "Graph for 2015-11-25 already exists!\n",
      "Graph for 2015-11-27 already exists!\n"
     ]
    },
    {
     "name": "stderr",
     "output_type": "stream",
     "text": [
      " 29%|██▉       | 453/1542 [00:16<00:38, 28.28it/s]"
     ]
    },
    {
     "name": "stdout",
     "output_type": "stream",
     "text": [
      "Graph for 2015-11-30 already exists!\n",
      "Graph for 2015-12-01 already exists!\n",
      "Graph for 2015-12-02 already exists!\n",
      "Graph for 2015-12-03 already exists!\n",
      "Graph for 2015-12-04 already exists!\n",
      "Graph for 2015-12-07 already exists!\n"
     ]
    },
    {
     "name": "stderr",
     "output_type": "stream",
     "text": [
      " 30%|██▉       | 462/1542 [00:16<00:38, 28.32it/s]"
     ]
    },
    {
     "name": "stdout",
     "output_type": "stream",
     "text": [
      "Graph for 2015-12-08 already exists!\n",
      "Graph for 2015-12-09 already exists!\n",
      "Graph for 2015-12-10 already exists!\n",
      "Graph for 2015-12-11 already exists!\n",
      "Graph for 2015-12-14 already exists!\n",
      "Graph for 2015-12-15 already exists!\n"
     ]
    },
    {
     "name": "stderr",
     "output_type": "stream",
     "text": [
      " 30%|███       | 465/1542 [00:16<00:38, 28.30it/s]"
     ]
    },
    {
     "name": "stdout",
     "output_type": "stream",
     "text": [
      "Graph for 2015-12-16 already exists!\n",
      "Graph for 2015-12-17 already exists!\n",
      "Graph for 2015-12-18 already exists!\n",
      "Graph for 2015-12-21 already exists!\n",
      "Graph for 2015-12-22 already exists!\n",
      "Graph for 2015-12-23 already exists!\n"
     ]
    },
    {
     "name": "stderr",
     "output_type": "stream",
     "text": [
      " 31%|███       | 474/1542 [00:16<00:37, 28.41it/s]"
     ]
    },
    {
     "name": "stdout",
     "output_type": "stream",
     "text": [
      "Graph for 2015-12-24 already exists!\n",
      "Graph for 2015-12-28 already exists!\n",
      "Graph for 2015-12-29 already exists!\n",
      "Graph for 2015-12-30 already exists!\n",
      "Graph for 2015-12-31 already exists!\n",
      "Graph for 2016-01-04 already exists!\n"
     ]
    },
    {
     "name": "stderr",
     "output_type": "stream",
     "text": [
      " 31%|███       | 477/1542 [00:16<00:37, 28.51it/s]"
     ]
    },
    {
     "name": "stdout",
     "output_type": "stream",
     "text": [
      "Graph for 2016-01-05 already exists!\n",
      "Graph for 2016-01-06 already exists!\n",
      "Graph for 2016-01-07 already exists!\n",
      "Graph for 2016-01-08 already exists!\n",
      "Graph for 2016-01-11 already exists!\n",
      "Graph for 2016-01-12 already exists!\n"
     ]
    },
    {
     "name": "stderr",
     "output_type": "stream",
     "text": [
      " 32%|███▏      | 486/1542 [00:17<00:37, 28.49it/s]"
     ]
    },
    {
     "name": "stdout",
     "output_type": "stream",
     "text": [
      "Graph for 2016-01-13 already exists!\n",
      "Graph for 2016-01-14 already exists!\n",
      "Graph for 2016-01-15 already exists!\n",
      "Graph for 2016-01-19 already exists!\n",
      "Graph for 2016-01-20 already exists!\n",
      "Graph for 2016-01-21 already exists!\n"
     ]
    },
    {
     "name": "stderr",
     "output_type": "stream",
     "text": [
      " 32%|███▏      | 489/1542 [00:17<00:36, 28.58it/s]"
     ]
    },
    {
     "name": "stdout",
     "output_type": "stream",
     "text": [
      "Graph for 2016-01-22 already exists!\n",
      "Graph for 2016-01-25 already exists!\n",
      "Graph for 2016-01-26 already exists!\n",
      "Graph for 2016-01-27 already exists!\n",
      "Graph for 2016-01-28 already exists!\n",
      "Graph for 2016-01-29 already exists!\n"
     ]
    },
    {
     "name": "stderr",
     "output_type": "stream",
     "text": [
      " 32%|███▏      | 495/1542 [00:17<00:37, 28.12it/s]"
     ]
    },
    {
     "name": "stdout",
     "output_type": "stream",
     "text": [
      "Graph for 2016-02-01 already exists!\n",
      "Graph for 2016-02-02 already exists!\n",
      "Graph for 2016-02-03 already exists!\n",
      "Graph for 2016-02-04 already exists!\n",
      "Graph for 2016-02-05 already exists!\n",
      "Graph for 2016-02-08 already exists!\n"
     ]
    },
    {
     "name": "stderr",
     "output_type": "stream",
     "text": [
      " 32%|███▏      | 501/1542 [00:17<00:36, 28.29it/s]"
     ]
    },
    {
     "name": "stdout",
     "output_type": "stream",
     "text": [
      "Graph for 2016-02-09 already exists!\n",
      "Graph for 2016-02-10 already exists!\n",
      "Graph for 2016-02-11 already exists!\n",
      "Graph for 2016-02-12 already exists!\n",
      "Graph for 2016-02-16 already exists!\n",
      "Graph for 2016-02-17 already exists!\n"
     ]
    },
    {
     "name": "stderr",
     "output_type": "stream",
     "text": [
      " 33%|███▎      | 507/1542 [00:17<00:36, 28.33it/s]"
     ]
    },
    {
     "name": "stdout",
     "output_type": "stream",
     "text": [
      "Graph for 2016-02-18 already exists!\n",
      "Graph for 2016-02-19 already exists!\n",
      "Graph for 2016-02-22 already exists!\n",
      "Graph for 2016-02-23 already exists!\n",
      "Graph for 2016-02-24 already exists!\n",
      "Graph for 2016-02-25 already exists!\n"
     ]
    },
    {
     "name": "stderr",
     "output_type": "stream",
     "text": [
      " 33%|███▎      | 513/1542 [00:18<00:36, 28.41it/s]"
     ]
    },
    {
     "name": "stdout",
     "output_type": "stream",
     "text": [
      "Graph for 2016-02-26 already exists!\n",
      "Graph for 2016-02-29 already exists!\n",
      "Graph for 2016-03-01 already exists!\n",
      "Graph for 2016-03-02 already exists!\n",
      "Graph for 2016-03-03 already exists!\n",
      "Graph for 2016-03-04 already exists!\n"
     ]
    },
    {
     "name": "stderr",
     "output_type": "stream",
     "text": [
      " 34%|███▎      | 519/1542 [00:18<00:36, 27.95it/s]"
     ]
    },
    {
     "name": "stdout",
     "output_type": "stream",
     "text": [
      "Graph for 2016-03-07 already exists!\n",
      "Graph for 2016-03-08 already exists!\n",
      "Graph for 2016-03-09 already exists!\n",
      "Graph for 2016-03-10 already exists!\n",
      "Graph for 2016-03-11 already exists!\n",
      "Graph for 2016-03-14 already exists!\n"
     ]
    },
    {
     "name": "stderr",
     "output_type": "stream",
     "text": [
      " 34%|███▍      | 528/1542 [00:18<00:36, 28.05it/s]"
     ]
    },
    {
     "name": "stdout",
     "output_type": "stream",
     "text": [
      "Graph for 2016-03-15 already exists!\n",
      "Graph for 2016-03-16 already exists!\n",
      "Graph for 2016-03-17 already exists!\n",
      "Graph for 2016-03-18 already exists!\n",
      "Graph for 2016-03-21 already exists!\n",
      "Graph for 2016-03-22 already exists!\n"
     ]
    },
    {
     "name": "stderr",
     "output_type": "stream",
     "text": [
      " 35%|███▍      | 534/1542 [00:18<00:35, 28.17it/s]"
     ]
    },
    {
     "name": "stdout",
     "output_type": "stream",
     "text": [
      "Graph for 2016-03-23 already exists!\n",
      "Graph for 2016-03-24 already exists!\n",
      "Graph for 2016-03-28 already exists!\n",
      "Graph for 2016-03-29 already exists!\n",
      "Graph for 2016-03-30 already exists!\n",
      "Graph for 2016-03-31 already exists!\n"
     ]
    },
    {
     "name": "stderr",
     "output_type": "stream",
     "text": [
      " 35%|███▌      | 540/1542 [00:19<00:35, 28.43it/s]"
     ]
    },
    {
     "name": "stdout",
     "output_type": "stream",
     "text": [
      "Graph for 2016-04-01 already exists!\n",
      "Graph for 2016-04-04 already exists!\n",
      "Graph for 2016-04-05 already exists!\n",
      "Graph for 2016-04-06 already exists!\n",
      "Graph for 2016-04-07 already exists!\n",
      "Graph for 2016-04-08 already exists!\n"
     ]
    },
    {
     "name": "stderr",
     "output_type": "stream",
     "text": [
      " 35%|███▌      | 546/1542 [00:19<00:35, 28.30it/s]"
     ]
    },
    {
     "name": "stdout",
     "output_type": "stream",
     "text": [
      "Graph for 2016-04-11 already exists!\n",
      "Graph for 2016-04-12 already exists!\n",
      "Graph for 2016-04-13 already exists!\n",
      "Graph for 2016-04-14 already exists!\n",
      "Graph for 2016-04-15 already exists!\n",
      "Graph for 2016-04-18 already exists!\n"
     ]
    },
    {
     "name": "stderr",
     "output_type": "stream",
     "text": [
      " 36%|███▌      | 549/1542 [00:19<00:35, 28.25it/s]"
     ]
    },
    {
     "name": "stdout",
     "output_type": "stream",
     "text": [
      "Graph for 2016-04-19 already exists!\n",
      "Graph for 2016-04-20 already exists!\n",
      "Graph for 2016-04-21 already exists!\n",
      "Graph for 2016-04-22 already exists!\n",
      "Graph for 2016-04-25 already exists!\n",
      "Graph for 2016-04-26 already exists!\n"
     ]
    },
    {
     "name": "stderr",
     "output_type": "stream",
     "text": [
      " 36%|███▌      | 555/1542 [00:19<00:35, 28.14it/s]"
     ]
    },
    {
     "name": "stdout",
     "output_type": "stream",
     "text": [
      "Graph for 2016-04-27 already exists!\n",
      "Graph for 2016-04-28 already exists!\n",
      "Graph for 2016-04-29 already exists!\n",
      "Graph for 2016-05-02 already exists!\n",
      "Graph for 2016-05-03 already exists!\n",
      "Graph for 2016-05-04 already exists!\n"
     ]
    },
    {
     "name": "stderr",
     "output_type": "stream",
     "text": [
      " 37%|███▋      | 564/1542 [00:19<00:34, 28.36it/s]"
     ]
    },
    {
     "name": "stdout",
     "output_type": "stream",
     "text": [
      "Graph for 2016-05-05 already exists!\n",
      "Graph for 2016-05-06 already exists!\n",
      "Graph for 2016-05-09 already exists!\n",
      "Graph for 2016-05-10 already exists!\n",
      "Graph for 2016-05-11 already exists!\n",
      "Graph for 2016-05-12 already exists!\n"
     ]
    },
    {
     "name": "stderr",
     "output_type": "stream",
     "text": [
      " 37%|███▋      | 567/1542 [00:20<00:34, 28.41it/s]"
     ]
    },
    {
     "name": "stdout",
     "output_type": "stream",
     "text": [
      "Graph for 2016-05-13 already exists!\n",
      "Graph for 2016-05-16 already exists!\n",
      "Graph for 2016-05-17 already exists!\n",
      "Graph for 2016-05-18 already exists!\n",
      "Graph for 2016-05-19 already exists!\n",
      "Graph for 2016-05-20 already exists!\n"
     ]
    },
    {
     "name": "stderr",
     "output_type": "stream",
     "text": [
      " 37%|███▋      | 573/1542 [00:20<00:35, 27.62it/s]"
     ]
    },
    {
     "name": "stdout",
     "output_type": "stream",
     "text": [
      "Graph for 2016-05-23 already exists!\n",
      "Graph for 2016-05-24 already exists!\n",
      "Graph for 2016-05-25 already exists!\n",
      "Graph for 2016-05-26 already exists!\n",
      "Graph for 2016-05-27 already exists!\n",
      "Graph for 2016-05-31 already exists!\n"
     ]
    },
    {
     "name": "stderr",
     "output_type": "stream",
     "text": [
      " 38%|███▊      | 579/1542 [00:20<00:34, 27.62it/s]"
     ]
    },
    {
     "name": "stdout",
     "output_type": "stream",
     "text": [
      "Graph for 2016-06-01 already exists!\n",
      "Graph for 2016-06-02 already exists!\n",
      "Graph for 2016-06-03 already exists!\n",
      "Graph for 2016-06-06 already exists!\n",
      "Graph for 2016-06-07 already exists!\n",
      "Graph for 2016-06-08 already exists!\n"
     ]
    },
    {
     "name": "stderr",
     "output_type": "stream",
     "text": [
      " 38%|███▊      | 585/1542 [00:20<00:34, 27.86it/s]"
     ]
    },
    {
     "name": "stdout",
     "output_type": "stream",
     "text": [
      "Graph for 2016-06-09 already exists!\n",
      "Graph for 2016-06-10 already exists!\n",
      "Graph for 2016-06-13 already exists!\n",
      "Graph for 2016-06-14 already exists!\n",
      "Graph for 2016-06-15 already exists!\n",
      "Graph for 2016-06-16 already exists!\n"
     ]
    },
    {
     "name": "stderr",
     "output_type": "stream",
     "text": [
      " 38%|███▊      | 591/1542 [00:20<00:34, 27.94it/s]"
     ]
    },
    {
     "name": "stdout",
     "output_type": "stream",
     "text": [
      "Graph for 2016-06-17 already exists!\n",
      "Graph for 2016-06-20 already exists!\n",
      "Graph for 2016-06-21 already exists!\n",
      "Graph for 2016-06-22 already exists!\n",
      "Graph for 2016-06-23 already exists!\n",
      "Graph for 2016-06-24 already exists!\n"
     ]
    },
    {
     "name": "stderr",
     "output_type": "stream",
     "text": [
      " 39%|███▊      | 597/1542 [00:21<00:33, 28.10it/s]"
     ]
    },
    {
     "name": "stdout",
     "output_type": "stream",
     "text": [
      "Graph for 2016-06-27 already exists!\n",
      "Graph for 2016-06-28 already exists!\n",
      "Graph for 2016-06-29 already exists!\n",
      "Graph for 2016-06-30 already exists!\n",
      "Graph for 2016-07-01 already exists!\n",
      "Graph for 2016-07-05 already exists!\n"
     ]
    },
    {
     "name": "stderr",
     "output_type": "stream",
     "text": [
      " 39%|███▉      | 606/1542 [00:21<00:33, 28.24it/s]"
     ]
    },
    {
     "name": "stdout",
     "output_type": "stream",
     "text": [
      "Graph for 2016-07-06 already exists!\n",
      "Graph for 2016-07-07 already exists!\n",
      "Graph for 2016-07-08 already exists!\n",
      "Graph for 2016-07-11 already exists!\n",
      "Graph for 2016-07-12 already exists!\n",
      "Graph for 2016-07-13 already exists!\n"
     ]
    },
    {
     "name": "stderr",
     "output_type": "stream",
     "text": [
      " 39%|███▉      | 609/1542 [00:21<00:32, 28.37it/s]"
     ]
    },
    {
     "name": "stdout",
     "output_type": "stream",
     "text": [
      "Graph for 2016-07-14 already exists!\n",
      "Graph for 2016-07-15 already exists!\n",
      "Graph for 2016-07-18 already exists!\n",
      "Graph for 2016-07-19 already exists!\n",
      "Graph for 2016-07-20 already exists!\n",
      "Graph for 2016-07-21 already exists!\n"
     ]
    },
    {
     "name": "stderr",
     "output_type": "stream",
     "text": [
      " 40%|████      | 618/1542 [00:21<00:32, 28.04it/s]"
     ]
    },
    {
     "name": "stdout",
     "output_type": "stream",
     "text": [
      "Graph for 2016-07-22 already exists!\n",
      "Graph for 2016-07-25 already exists!\n",
      "Graph for 2016-07-26 already exists!\n",
      "Graph for 2016-07-27 already exists!\n",
      "Graph for 2016-07-28 already exists!\n",
      "Graph for 2016-07-29 already exists!\n"
     ]
    },
    {
     "name": "stderr",
     "output_type": "stream",
     "text": [
      " 40%|████      | 621/1542 [00:22<00:32, 28.12it/s]"
     ]
    },
    {
     "name": "stdout",
     "output_type": "stream",
     "text": [
      "Graph for 2016-08-01 already exists!\n",
      "Graph for 2016-08-02 already exists!\n",
      "Graph for 2016-08-03 already exists!\n",
      "Graph for 2016-08-04 already exists!\n",
      "Graph for 2016-08-05 already exists!\n",
      "Graph for 2016-08-08 already exists!\n"
     ]
    },
    {
     "name": "stderr",
     "output_type": "stream",
     "text": [
      " 41%|████      | 627/1542 [00:22<00:32, 28.26it/s]"
     ]
    },
    {
     "name": "stdout",
     "output_type": "stream",
     "text": [
      "Graph for 2016-08-09 already exists!\n",
      "Graph for 2016-08-10 already exists!\n",
      "Graph for 2016-08-11 already exists!\n",
      "Graph for 2016-08-12 already exists!\n",
      "Graph for 2016-08-15 already exists!\n",
      "Graph for 2016-08-16 already exists!\n"
     ]
    },
    {
     "name": "stderr",
     "output_type": "stream",
     "text": [
      " 41%|████      | 636/1542 [00:22<00:32, 28.17it/s]"
     ]
    },
    {
     "name": "stdout",
     "output_type": "stream",
     "text": [
      "Graph for 2016-08-17 already exists!\n",
      "Graph for 2016-08-18 already exists!\n",
      "Graph for 2016-08-19 already exists!\n",
      "Graph for 2016-08-22 already exists!\n",
      "Graph for 2016-08-23 already exists!\n",
      "Graph for 2016-08-24 already exists!\n"
     ]
    },
    {
     "name": "stderr",
     "output_type": "stream",
     "text": [
      " 41%|████▏     | 639/1542 [00:22<00:32, 28.01it/s]"
     ]
    },
    {
     "name": "stdout",
     "output_type": "stream",
     "text": [
      "Graph for 2016-08-25 already exists!\n",
      "Graph for 2016-08-26 already exists!\n",
      "Graph for 2016-08-29 already exists!\n",
      "Graph for 2016-08-30 already exists!\n",
      "Graph for 2016-08-31 already exists!\n",
      "Graph for 2016-09-01 already exists!\n"
     ]
    },
    {
     "name": "stderr",
     "output_type": "stream",
     "text": [
      " 42%|████▏     | 645/1542 [00:22<00:32, 27.95it/s]"
     ]
    },
    {
     "name": "stdout",
     "output_type": "stream",
     "text": [
      "Graph for 2016-09-02 already exists!\n",
      "Graph for 2016-09-06 already exists!\n",
      "Graph for 2016-09-07 already exists!\n",
      "Graph for 2016-09-08 already exists!\n",
      "Graph for 2016-09-09 already exists!\n",
      "Graph for 2016-09-12 already exists!\n"
     ]
    },
    {
     "name": "stderr",
     "output_type": "stream",
     "text": [
      " 42%|████▏     | 654/1542 [00:23<00:31, 28.43it/s]"
     ]
    },
    {
     "name": "stdout",
     "output_type": "stream",
     "text": [
      "Graph for 2016-09-13 already exists!\n",
      "Graph for 2016-09-14 already exists!\n",
      "Graph for 2016-09-15 already exists!\n",
      "Graph for 2016-09-16 already exists!\n",
      "Graph for 2016-09-19 already exists!\n",
      "Graph for 2016-09-20 already exists!\n"
     ]
    },
    {
     "name": "stderr",
     "output_type": "stream",
     "text": [
      " 43%|████▎     | 657/1542 [00:23<00:31, 28.21it/s]"
     ]
    },
    {
     "name": "stdout",
     "output_type": "stream",
     "text": [
      "Graph for 2016-09-21 already exists!\n",
      "Graph for 2016-09-22 already exists!\n",
      "Graph for 2016-09-23 already exists!\n",
      "Graph for 2016-09-26 already exists!\n",
      "Graph for 2016-09-27 already exists!\n",
      "Graph for 2016-09-28 already exists!\n"
     ]
    },
    {
     "name": "stderr",
     "output_type": "stream",
     "text": [
      " 43%|████▎     | 663/1542 [00:23<00:31, 28.05it/s]"
     ]
    },
    {
     "name": "stdout",
     "output_type": "stream",
     "text": [
      "Graph for 2016-09-29 already exists!\n",
      "Graph for 2016-09-30 already exists!\n",
      "Graph for 2016-10-03 already exists!\n",
      "Graph for 2016-10-04 already exists!\n",
      "Graph for 2016-10-05 already exists!\n",
      "Graph for 2016-10-06 already exists!\n"
     ]
    },
    {
     "name": "stderr",
     "output_type": "stream",
     "text": [
      " 44%|████▎     | 672/1542 [00:23<00:30, 28.35it/s]"
     ]
    },
    {
     "name": "stdout",
     "output_type": "stream",
     "text": [
      "Graph for 2016-10-07 already exists!\n",
      "Graph for 2016-10-10 already exists!\n",
      "Graph for 2016-10-11 already exists!\n",
      "Graph for 2016-10-12 already exists!\n",
      "Graph for 2016-10-13 already exists!\n",
      "Graph for 2016-10-14 already exists!\n"
     ]
    },
    {
     "name": "stderr",
     "output_type": "stream",
     "text": [
      " 44%|████▍     | 675/1542 [00:23<00:30, 28.20it/s]"
     ]
    },
    {
     "name": "stdout",
     "output_type": "stream",
     "text": [
      "Graph for 2016-10-17 already exists!\n",
      "Graph for 2016-10-18 already exists!\n",
      "Graph for 2016-10-19 already exists!\n",
      "Graph for 2016-10-20 already exists!\n",
      "Graph for 2016-10-21 already exists!\n",
      "Graph for 2016-10-24 already exists!\n"
     ]
    },
    {
     "name": "stderr",
     "output_type": "stream",
     "text": [
      " 44%|████▍     | 681/1542 [00:24<00:30, 27.90it/s]"
     ]
    },
    {
     "name": "stdout",
     "output_type": "stream",
     "text": [
      "Graph for 2016-10-25 already exists!\n",
      "Graph for 2016-10-26 already exists!\n",
      "Graph for 2016-10-27 already exists!\n",
      "Graph for 2016-10-28 already exists!\n",
      "Graph for 2016-10-31 already exists!\n",
      "Graph for 2016-11-01 already exists!\n"
     ]
    },
    {
     "name": "stderr",
     "output_type": "stream",
     "text": [
      " 45%|████▍     | 687/1542 [00:24<00:30, 28.09it/s]"
     ]
    },
    {
     "name": "stdout",
     "output_type": "stream",
     "text": [
      "Graph for 2016-11-02 already exists!\n",
      "Graph for 2016-11-03 already exists!\n",
      "Graph for 2016-11-04 already exists!\n",
      "Graph for 2016-11-07 already exists!\n",
      "Graph for 2016-11-08 already exists!\n",
      "Graph for 2016-11-09 already exists!\n"
     ]
    },
    {
     "name": "stderr",
     "output_type": "stream",
     "text": [
      " 45%|████▍     | 693/1542 [00:24<00:30, 28.15it/s]"
     ]
    },
    {
     "name": "stdout",
     "output_type": "stream",
     "text": [
      "Graph for 2016-11-10 already exists!\n",
      "Graph for 2016-11-11 already exists!\n",
      "Graph for 2016-11-14 already exists!\n",
      "Graph for 2016-11-15 already exists!\n",
      "Graph for 2016-11-16 already exists!\n",
      "Graph for 2016-11-17 already exists!\n"
     ]
    },
    {
     "name": "stderr",
     "output_type": "stream",
     "text": [
      " 45%|████▌     | 699/1542 [00:24<00:29, 28.13it/s]"
     ]
    },
    {
     "name": "stdout",
     "output_type": "stream",
     "text": [
      "Graph for 2016-11-18 already exists!\n",
      "Graph for 2016-11-21 already exists!\n",
      "Graph for 2016-11-22 already exists!\n",
      "Graph for 2016-11-23 already exists!\n",
      "Graph for 2016-11-25 already exists!\n",
      "Graph for 2016-11-28 already exists!\n"
     ]
    },
    {
     "name": "stderr",
     "output_type": "stream",
     "text": [
      " 46%|████▌     | 705/1542 [00:25<00:30, 27.88it/s]"
     ]
    },
    {
     "name": "stdout",
     "output_type": "stream",
     "text": [
      "Graph for 2016-11-29 already exists!\n",
      "Graph for 2016-11-30 already exists!\n",
      "Graph for 2016-12-01 already exists!\n",
      "Graph for 2016-12-02 already exists!\n",
      "Graph for 2016-12-05 already exists!\n",
      "Graph for 2016-12-06 already exists!\n"
     ]
    },
    {
     "name": "stderr",
     "output_type": "stream",
     "text": [
      " 46%|████▌     | 711/1542 [00:25<00:29, 28.03it/s]"
     ]
    },
    {
     "name": "stdout",
     "output_type": "stream",
     "text": [
      "Graph for 2016-12-07 already exists!\n",
      "Graph for 2016-12-08 already exists!\n",
      "Graph for 2016-12-09 already exists!\n",
      "Graph for 2016-12-12 already exists!\n",
      "Graph for 2016-12-13 already exists!\n",
      "Graph for 2016-12-14 already exists!\n"
     ]
    },
    {
     "name": "stderr",
     "output_type": "stream",
     "text": [
      " 46%|████▋     | 717/1542 [00:25<00:29, 27.76it/s]"
     ]
    },
    {
     "name": "stdout",
     "output_type": "stream",
     "text": [
      "Graph for 2016-12-15 already exists!\n",
      "Graph for 2016-12-16 already exists!\n",
      "Graph for 2016-12-19 already exists!\n",
      "Graph for 2016-12-20 already exists!\n",
      "Graph for 2016-12-21 already exists!\n",
      "Graph for 2016-12-22 already exists!\n"
     ]
    },
    {
     "name": "stderr",
     "output_type": "stream",
     "text": [
      " 47%|████▋     | 723/1542 [00:25<00:29, 27.97it/s]"
     ]
    },
    {
     "name": "stdout",
     "output_type": "stream",
     "text": [
      "Graph for 2016-12-23 already exists!\n",
      "Graph for 2016-12-27 already exists!\n",
      "Graph for 2016-12-28 already exists!\n",
      "Graph for 2016-12-29 already exists!\n",
      "Graph for 2016-12-30 already exists!\n",
      "Graph for 2017-01-03 already exists!\n"
     ]
    },
    {
     "name": "stderr",
     "output_type": "stream",
     "text": [
      " 47%|████▋     | 729/1542 [00:25<00:29, 28.03it/s]"
     ]
    },
    {
     "name": "stdout",
     "output_type": "stream",
     "text": [
      "Graph for 2017-01-04 already exists!\n",
      "Graph for 2017-01-05 already exists!\n",
      "Graph for 2017-01-06 already exists!\n",
      "Graph for 2017-01-09 already exists!\n",
      "Graph for 2017-01-10 already exists!\n",
      "Graph for 2017-01-11 already exists!\n"
     ]
    },
    {
     "name": "stderr",
     "output_type": "stream",
     "text": [
      " 48%|████▊     | 735/1542 [00:26<00:28, 28.22it/s]"
     ]
    },
    {
     "name": "stdout",
     "output_type": "stream",
     "text": [
      "Graph for 2017-01-12 already exists!\n",
      "Graph for 2017-01-13 already exists!\n",
      "Graph for 2017-01-17 already exists!\n",
      "Graph for 2017-01-18 already exists!\n",
      "Graph for 2017-01-19 already exists!\n",
      "Graph for 2017-01-20 already exists!\n"
     ]
    },
    {
     "name": "stderr",
     "output_type": "stream",
     "text": [
      " 48%|████▊     | 741/1542 [00:26<00:28, 27.96it/s]"
     ]
    },
    {
     "name": "stdout",
     "output_type": "stream",
     "text": [
      "Graph for 2017-01-23 already exists!\n",
      "Graph for 2017-01-24 already exists!\n",
      "Graph for 2017-01-25 already exists!\n",
      "Graph for 2017-01-26 already exists!\n",
      "Graph for 2017-01-27 already exists!\n",
      "Graph for 2017-01-30 already exists!\n"
     ]
    },
    {
     "name": "stderr",
     "output_type": "stream",
     "text": [
      " 48%|████▊     | 747/1542 [00:26<00:28, 28.02it/s]"
     ]
    },
    {
     "name": "stdout",
     "output_type": "stream",
     "text": [
      "Graph for 2017-01-31 already exists!\n",
      "Graph for 2017-02-01 already exists!\n",
      "Graph for 2017-02-02 already exists!\n",
      "Graph for 2017-02-03 already exists!\n",
      "Graph for 2017-02-06 already exists!\n",
      "Graph for 2017-02-07 already exists!\n"
     ]
    },
    {
     "name": "stderr",
     "output_type": "stream",
     "text": [
      " 49%|████▉     | 753/1542 [00:26<00:28, 27.85it/s]"
     ]
    },
    {
     "name": "stdout",
     "output_type": "stream",
     "text": [
      "Graph for 2017-02-08 already exists!\n",
      "Graph for 2017-02-09 already exists!\n",
      "Graph for 2017-02-10 already exists!\n",
      "Graph for 2017-02-13 already exists!\n",
      "Graph for 2017-02-14 already exists!\n",
      "Graph for 2017-02-15 already exists!\n"
     ]
    },
    {
     "name": "stderr",
     "output_type": "stream",
     "text": [
      " 49%|████▉     | 759/1542 [00:26<00:28, 27.89it/s]"
     ]
    },
    {
     "name": "stdout",
     "output_type": "stream",
     "text": [
      "Graph for 2017-02-16 already exists!\n",
      "Graph for 2017-02-17 already exists!\n",
      "Graph for 2017-02-21 already exists!\n",
      "Graph for 2017-02-22 already exists!\n",
      "Graph for 2017-02-23 already exists!\n",
      "Graph for 2017-02-24 already exists!\n"
     ]
    },
    {
     "name": "stderr",
     "output_type": "stream",
     "text": [
      " 50%|████▉     | 765/1542 [00:27<00:27, 27.81it/s]"
     ]
    },
    {
     "name": "stdout",
     "output_type": "stream",
     "text": [
      "Graph for 2017-02-27 already exists!\n",
      "Graph for 2017-02-28 already exists!\n",
      "Graph for 2017-03-01 already exists!\n",
      "Graph for 2017-03-02 already exists!\n",
      "Graph for 2017-03-03 already exists!\n",
      "Graph for 2017-03-06 already exists!\n"
     ]
    },
    {
     "name": "stderr",
     "output_type": "stream",
     "text": [
      " 50%|█████     | 771/1542 [00:27<00:27, 27.88it/s]"
     ]
    },
    {
     "name": "stdout",
     "output_type": "stream",
     "text": [
      "Graph for 2017-03-07 already exists!\n",
      "Graph for 2017-03-08 already exists!\n",
      "Graph for 2017-03-09 already exists!\n",
      "Graph for 2017-03-10 already exists!\n",
      "Graph for 2017-03-13 already exists!\n",
      "Graph for 2017-03-14 already exists!\n"
     ]
    },
    {
     "name": "stderr",
     "output_type": "stream",
     "text": [
      " 50%|█████     | 777/1542 [00:27<00:27, 27.99it/s]"
     ]
    },
    {
     "name": "stdout",
     "output_type": "stream",
     "text": [
      "Graph for 2017-03-15 already exists!\n",
      "Graph for 2017-03-16 already exists!\n",
      "Graph for 2017-03-17 already exists!\n",
      "Graph for 2017-03-20 already exists!\n",
      "Graph for 2017-03-21 already exists!\n",
      "Graph for 2017-03-22 already exists!\n"
     ]
    },
    {
     "name": "stderr",
     "output_type": "stream",
     "text": [
      " 51%|█████     | 786/1542 [00:27<00:26, 28.04it/s]"
     ]
    },
    {
     "name": "stdout",
     "output_type": "stream",
     "text": [
      "Graph for 2017-03-23 already exists!\n",
      "Graph for 2017-03-24 already exists!\n",
      "Graph for 2017-03-27 already exists!\n",
      "Graph for 2017-03-28 already exists!\n",
      "Graph for 2017-03-29 already exists!\n",
      "Graph for 2017-03-30 already exists!\n"
     ]
    },
    {
     "name": "stderr",
     "output_type": "stream",
     "text": [
      " 51%|█████     | 789/1542 [00:28<00:26, 27.95it/s]"
     ]
    },
    {
     "name": "stdout",
     "output_type": "stream",
     "text": [
      "Graph for 2017-03-31 already exists!\n",
      "Graph for 2017-04-03 already exists!\n",
      "Graph for 2017-04-04 already exists!\n",
      "Graph for 2017-04-05 already exists!\n",
      "Graph for 2017-04-06 already exists!\n",
      "Graph for 2017-04-07 already exists!\n"
     ]
    },
    {
     "name": "stderr",
     "output_type": "stream",
     "text": [
      " 52%|█████▏    | 795/1542 [00:28<00:27, 27.23it/s]"
     ]
    },
    {
     "name": "stdout",
     "output_type": "stream",
     "text": [
      "Graph for 2017-04-10 already exists!\n",
      "Graph for 2017-04-11 already exists!\n",
      "Graph for 2017-04-12 already exists!\n",
      "Graph for 2017-04-13 already exists!\n",
      "Graph for 2017-04-17 already exists!\n",
      "Graph for 2017-04-18 already exists!\n"
     ]
    },
    {
     "name": "stderr",
     "output_type": "stream",
     "text": [
      " 52%|█████▏    | 801/1542 [00:28<00:26, 27.72it/s]"
     ]
    },
    {
     "name": "stdout",
     "output_type": "stream",
     "text": [
      "Graph for 2017-04-19 already exists!\n",
      "Graph for 2017-04-20 already exists!\n",
      "Graph for 2017-04-21 already exists!\n",
      "Graph for 2017-04-24 already exists!\n",
      "Graph for 2017-04-25 already exists!\n",
      "Graph for 2017-04-26 already exists!\n"
     ]
    },
    {
     "name": "stderr",
     "output_type": "stream",
     "text": [
      " 53%|█████▎    | 810/1542 [00:28<00:26, 28.03it/s]"
     ]
    },
    {
     "name": "stdout",
     "output_type": "stream",
     "text": [
      "Graph for 2017-04-27 already exists!\n",
      "Graph for 2017-04-28 already exists!\n",
      "Graph for 2017-05-01 already exists!\n",
      "Graph for 2017-05-02 already exists!\n",
      "Graph for 2017-05-03 already exists!\n",
      "Graph for 2017-05-04 already exists!\n"
     ]
    },
    {
     "name": "stderr",
     "output_type": "stream",
     "text": [
      " 53%|█████▎    | 816/1542 [00:28<00:25, 28.23it/s]"
     ]
    },
    {
     "name": "stdout",
     "output_type": "stream",
     "text": [
      "Graph for 2017-05-05 already exists!\n",
      "Graph for 2017-05-08 already exists!\n",
      "Graph for 2017-05-09 already exists!\n",
      "Graph for 2017-05-10 already exists!\n",
      "Graph for 2017-05-11 already exists!\n",
      "Graph for 2017-05-12 already exists!\n"
     ]
    },
    {
     "name": "stderr",
     "output_type": "stream",
     "text": [
      " 53%|█████▎    | 819/1542 [00:29<00:25, 28.32it/s]"
     ]
    },
    {
     "name": "stdout",
     "output_type": "stream",
     "text": [
      "Graph for 2017-05-15 already exists!\n",
      "Graph for 2017-05-16 already exists!\n",
      "Graph for 2017-05-17 already exists!\n",
      "Graph for 2017-05-18 already exists!\n",
      "Graph for 2017-05-19 already exists!\n",
      "Graph for 2017-05-22 already exists!\n"
     ]
    },
    {
     "name": "stderr",
     "output_type": "stream",
     "text": [
      " 54%|█████▎    | 825/1542 [00:29<00:25, 28.06it/s]"
     ]
    },
    {
     "name": "stdout",
     "output_type": "stream",
     "text": [
      "Graph for 2017-05-23 already exists!\n",
      "Graph for 2017-05-24 already exists!\n",
      "Graph for 2017-05-25 already exists!\n",
      "Graph for 2017-05-26 already exists!\n",
      "Graph for 2017-05-30 already exists!\n",
      "Graph for 2017-05-31 already exists!\n"
     ]
    },
    {
     "name": "stderr",
     "output_type": "stream",
     "text": [
      " 54%|█████▍    | 831/1542 [00:29<00:25, 28.06it/s]"
     ]
    },
    {
     "name": "stdout",
     "output_type": "stream",
     "text": [
      "Graph for 2017-06-01 already exists!\n",
      "Graph for 2017-06-02 already exists!\n",
      "Graph for 2017-06-05 already exists!\n",
      "Graph for 2017-06-06 already exists!\n",
      "Graph for 2017-06-07 already exists!\n",
      "Graph for 2017-06-08 already exists!\n"
     ]
    },
    {
     "name": "stderr",
     "output_type": "stream",
     "text": [
      " 54%|█████▍    | 837/1542 [00:29<00:24, 28.29it/s]"
     ]
    },
    {
     "name": "stdout",
     "output_type": "stream",
     "text": [
      "Graph for 2017-06-09 already exists!\n",
      "Graph for 2017-06-12 already exists!\n",
      "Graph for 2017-06-13 already exists!\n",
      "Graph for 2017-06-14 already exists!\n",
      "Graph for 2017-06-15 already exists!\n",
      "Graph for 2017-06-16 already exists!\n"
     ]
    },
    {
     "name": "stderr",
     "output_type": "stream",
     "text": [
      " 55%|█████▍    | 843/1542 [00:29<00:24, 28.20it/s]"
     ]
    },
    {
     "name": "stdout",
     "output_type": "stream",
     "text": [
      "Graph for 2017-06-19 already exists!\n",
      "Graph for 2017-06-20 already exists!\n",
      "Graph for 2017-06-21 already exists!\n",
      "Graph for 2017-06-22 already exists!\n",
      "Graph for 2017-06-23 already exists!\n",
      "Graph for 2017-06-26 already exists!\n"
     ]
    },
    {
     "name": "stderr",
     "output_type": "stream",
     "text": [
      " 55%|█████▌    | 849/1542 [00:30<00:24, 28.43it/s]"
     ]
    },
    {
     "name": "stdout",
     "output_type": "stream",
     "text": [
      "Graph for 2017-06-27 already exists!\n",
      "Graph for 2017-06-28 already exists!\n",
      "Graph for 2017-06-29 already exists!\n",
      "Graph for 2017-06-30 already exists!\n",
      "Graph for 2017-07-03 already exists!\n",
      "Graph for 2017-07-05 already exists!\n"
     ]
    },
    {
     "name": "stderr",
     "output_type": "stream",
     "text": [
      " 55%|█████▌    | 855/1542 [00:30<00:24, 28.07it/s]"
     ]
    },
    {
     "name": "stdout",
     "output_type": "stream",
     "text": [
      "Graph for 2017-07-06 already exists!\n",
      "Graph for 2017-07-07 already exists!\n",
      "Graph for 2017-07-10 already exists!\n",
      "Graph for 2017-07-11 already exists!\n",
      "Graph for 2017-07-12 already exists!\n",
      "Graph for 2017-07-13 already exists!\n"
     ]
    },
    {
     "name": "stderr",
     "output_type": "stream",
     "text": [
      " 56%|█████▌    | 861/1542 [00:30<00:24, 28.27it/s]"
     ]
    },
    {
     "name": "stdout",
     "output_type": "stream",
     "text": [
      "Graph for 2017-07-14 already exists!\n",
      "Graph for 2017-07-17 already exists!\n",
      "Graph for 2017-07-18 already exists!\n",
      "Graph for 2017-07-19 already exists!\n",
      "Graph for 2017-07-20 already exists!\n",
      "Graph for 2017-07-21 already exists!\n"
     ]
    },
    {
     "name": "stderr",
     "output_type": "stream",
     "text": [
      " 56%|█████▌    | 867/1542 [00:30<00:24, 28.00it/s]"
     ]
    },
    {
     "name": "stdout",
     "output_type": "stream",
     "text": [
      "Graph for 2017-07-24 already exists!\n",
      "Graph for 2017-07-25 already exists!\n",
      "Graph for 2017-07-26 already exists!\n",
      "Graph for 2017-07-27 already exists!\n",
      "Graph for 2017-07-28 already exists!\n",
      "Graph for 2017-07-31 already exists!\n"
     ]
    },
    {
     "name": "stderr",
     "output_type": "stream",
     "text": [
      " 57%|█████▋    | 873/1542 [00:31<00:23, 28.09it/s]"
     ]
    },
    {
     "name": "stdout",
     "output_type": "stream",
     "text": [
      "Graph for 2017-08-01 already exists!\n",
      "Graph for 2017-08-02 already exists!\n",
      "Graph for 2017-08-03 already exists!\n",
      "Graph for 2017-08-04 already exists!\n",
      "Graph for 2017-08-07 already exists!\n",
      "Graph for 2017-08-08 already exists!\n"
     ]
    },
    {
     "name": "stderr",
     "output_type": "stream",
     "text": [
      " 57%|█████▋    | 879/1542 [00:31<00:23, 27.94it/s]"
     ]
    },
    {
     "name": "stdout",
     "output_type": "stream",
     "text": [
      "Graph for 2017-08-09 already exists!\n",
      "Graph for 2017-08-10 already exists!\n",
      "Graph for 2017-08-11 already exists!\n",
      "Graph for 2017-08-14 already exists!\n",
      "Graph for 2017-08-15 already exists!\n",
      "Graph for 2017-08-16 already exists!\n"
     ]
    },
    {
     "name": "stderr",
     "output_type": "stream",
     "text": [
      " 57%|█████▋    | 885/1542 [00:31<00:23, 28.05it/s]"
     ]
    },
    {
     "name": "stdout",
     "output_type": "stream",
     "text": [
      "Graph for 2017-08-17 already exists!\n",
      "Graph for 2017-08-18 already exists!\n",
      "Graph for 2017-08-21 already exists!\n",
      "Graph for 2017-08-22 already exists!\n",
      "Graph for 2017-08-23 already exists!\n",
      "Graph for 2017-08-24 already exists!\n"
     ]
    },
    {
     "name": "stderr",
     "output_type": "stream",
     "text": [
      " 58%|█████▊    | 891/1542 [00:31<00:23, 27.92it/s]"
     ]
    },
    {
     "name": "stdout",
     "output_type": "stream",
     "text": [
      "Graph for 2017-08-25 already exists!\n",
      "Graph for 2017-08-28 already exists!\n",
      "Graph for 2017-08-29 already exists!\n",
      "Graph for 2017-08-30 already exists!\n",
      "Graph for 2017-08-31 already exists!\n",
      "Graph for 2017-09-01 already exists!\n"
     ]
    },
    {
     "name": "stderr",
     "output_type": "stream",
     "text": [
      " 58%|█████▊    | 900/1542 [00:31<00:22, 28.17it/s]"
     ]
    },
    {
     "name": "stdout",
     "output_type": "stream",
     "text": [
      "Graph for 2017-09-05 already exists!\n",
      "Graph for 2017-09-06 already exists!\n",
      "Graph for 2017-09-07 already exists!\n",
      "Graph for 2017-09-08 already exists!\n",
      "Graph for 2017-09-11 already exists!\n",
      "Graph for 2017-09-12 already exists!\n"
     ]
    },
    {
     "name": "stderr",
     "output_type": "stream",
     "text": [
      " 59%|█████▊    | 903/1542 [00:32<00:22, 28.03it/s]"
     ]
    },
    {
     "name": "stdout",
     "output_type": "stream",
     "text": [
      "Graph for 2017-09-13 already exists!\n",
      "Graph for 2017-09-14 already exists!\n",
      "Graph for 2017-09-15 already exists!\n",
      "Graph for 2017-09-18 already exists!\n",
      "Graph for 2017-09-19 already exists!\n",
      "Graph for 2017-09-20 already exists!\n"
     ]
    },
    {
     "name": "stderr",
     "output_type": "stream",
     "text": [
      " 59%|█████▉    | 909/1542 [00:32<00:22, 28.14it/s]"
     ]
    },
    {
     "name": "stdout",
     "output_type": "stream",
     "text": [
      "Graph for 2017-09-21 already exists!\n",
      "Graph for 2017-09-22 already exists!\n",
      "Graph for 2017-09-25 already exists!\n",
      "Graph for 2017-09-26 already exists!\n",
      "Graph for 2017-09-27 already exists!\n",
      "Graph for 2017-09-28 already exists!\n"
     ]
    },
    {
     "name": "stderr",
     "output_type": "stream",
     "text": [
      " 59%|█████▉    | 915/1542 [00:32<00:22, 27.81it/s]"
     ]
    },
    {
     "name": "stdout",
     "output_type": "stream",
     "text": [
      "Graph for 2017-09-29 already exists!\n",
      "Graph for 2017-10-02 already exists!\n",
      "Graph for 2017-10-03 already exists!\n",
      "Graph for 2017-10-04 already exists!\n",
      "Graph for 2017-10-05 already exists!\n",
      "Graph for 2017-10-06 already exists!\n"
     ]
    },
    {
     "name": "stderr",
     "output_type": "stream",
     "text": [
      " 60%|█████▉    | 921/1542 [00:32<00:22, 28.19it/s]"
     ]
    },
    {
     "name": "stdout",
     "output_type": "stream",
     "text": [
      "Graph for 2017-10-09 already exists!\n",
      "Graph for 2017-10-10 already exists!\n",
      "Graph for 2017-10-11 already exists!\n",
      "Graph for 2017-10-12 already exists!\n",
      "Graph for 2017-10-13 already exists!\n",
      "Graph for 2017-10-16 already exists!\n"
     ]
    },
    {
     "name": "stderr",
     "output_type": "stream",
     "text": [
      " 60%|██████    | 930/1542 [00:33<00:21, 28.37it/s]"
     ]
    },
    {
     "name": "stdout",
     "output_type": "stream",
     "text": [
      "Graph for 2017-10-17 already exists!\n",
      "Graph for 2017-10-18 already exists!\n",
      "Graph for 2017-10-19 already exists!\n",
      "Graph for 2017-10-20 already exists!\n",
      "Graph for 2017-10-23 already exists!\n",
      "Graph for 2017-10-24 already exists!\n"
     ]
    },
    {
     "name": "stderr",
     "output_type": "stream",
     "text": [
      " 61%|██████    | 933/1542 [00:33<00:21, 28.46it/s]"
     ]
    },
    {
     "name": "stdout",
     "output_type": "stream",
     "text": [
      "Graph for 2017-10-25 already exists!\n",
      "Graph for 2017-10-26 already exists!\n",
      "Graph for 2017-10-27 already exists!\n",
      "Graph for 2017-10-30 already exists!\n",
      "Graph for 2017-10-31 already exists!\n",
      "Graph for 2017-11-01 already exists!\n"
     ]
    },
    {
     "name": "stderr",
     "output_type": "stream",
     "text": [
      " 61%|██████    | 939/1542 [00:33<00:21, 28.10it/s]"
     ]
    },
    {
     "name": "stdout",
     "output_type": "stream",
     "text": [
      "Graph for 2017-11-02 already exists!\n",
      "Graph for 2017-11-03 already exists!\n",
      "Graph for 2017-11-06 already exists!\n",
      "Graph for 2017-11-07 already exists!\n",
      "Graph for 2017-11-08 already exists!\n",
      "Graph for 2017-11-09 already exists!\n"
     ]
    },
    {
     "name": "stderr",
     "output_type": "stream",
     "text": [
      " 61%|██████▏   | 945/1542 [00:33<00:21, 28.10it/s]"
     ]
    },
    {
     "name": "stdout",
     "output_type": "stream",
     "text": [
      "Graph for 2017-11-10 already exists!\n",
      "Graph for 2017-11-13 already exists!\n",
      "Graph for 2017-11-14 already exists!\n",
      "Graph for 2017-11-15 already exists!\n",
      "Graph for 2017-11-16 already exists!\n",
      "Graph for 2017-11-17 already exists!\n"
     ]
    },
    {
     "name": "stderr",
     "output_type": "stream",
     "text": [
      " 62%|██████▏   | 951/1542 [00:33<00:21, 27.69it/s]"
     ]
    },
    {
     "name": "stdout",
     "output_type": "stream",
     "text": [
      "Graph for 2017-11-20 already exists!\n",
      "Graph for 2017-11-21 already exists!\n",
      "Graph for 2017-11-22 already exists!\n",
      "Graph for 2017-11-24 already exists!\n",
      "Graph for 2017-11-27 already exists!\n",
      "Graph for 2017-11-28 already exists!\n"
     ]
    },
    {
     "name": "stderr",
     "output_type": "stream",
     "text": [
      " 62%|██████▏   | 960/1542 [00:34<00:20, 28.10it/s]"
     ]
    },
    {
     "name": "stdout",
     "output_type": "stream",
     "text": [
      "Graph for 2017-11-29 already exists!\n",
      "Graph for 2017-11-30 already exists!\n",
      "Graph for 2017-12-01 already exists!\n",
      "Graph for 2017-12-04 already exists!\n",
      "Graph for 2017-12-05 already exists!\n",
      "Graph for 2017-12-06 already exists!\n"
     ]
    },
    {
     "name": "stderr",
     "output_type": "stream",
     "text": [
      " 62%|██████▏   | 963/1542 [00:34<00:20, 28.10it/s]"
     ]
    },
    {
     "name": "stdout",
     "output_type": "stream",
     "text": [
      "Graph for 2017-12-07 already exists!\n",
      "Graph for 2017-12-08 already exists!\n",
      "Graph for 2017-12-11 already exists!\n",
      "Graph for 2017-12-12 already exists!\n",
      "Graph for 2017-12-13 already exists!\n",
      "Graph for 2017-12-14 already exists!\n"
     ]
    },
    {
     "name": "stderr",
     "output_type": "stream",
     "text": [
      " 63%|██████▎   | 969/1542 [00:34<00:20, 27.37it/s]"
     ]
    },
    {
     "name": "stdout",
     "output_type": "stream",
     "text": [
      "Graph for 2017-12-15 already exists!\n",
      "Graph for 2017-12-18 already exists!\n",
      "Graph for 2017-12-19 already exists!\n",
      "Graph for 2017-12-20 already exists!\n",
      "Graph for 2017-12-21 already exists!\n",
      "Graph for 2017-12-22 already exists!\n"
     ]
    },
    {
     "name": "stderr",
     "output_type": "stream",
     "text": [
      " 63%|██████▎   | 978/1542 [00:34<00:20, 27.91it/s]"
     ]
    },
    {
     "name": "stdout",
     "output_type": "stream",
     "text": [
      "Graph for 2017-12-26 already exists!\n",
      "Graph for 2017-12-27 already exists!\n",
      "Graph for 2017-12-28 already exists!\n",
      "Graph for 2017-12-29 already exists!\n",
      "Graph for 2018-01-02 already exists!\n",
      "Graph for 2018-01-03 already exists!\n"
     ]
    },
    {
     "name": "stderr",
     "output_type": "stream",
     "text": [
      " 64%|██████▎   | 981/1542 [00:34<00:20, 27.98it/s]"
     ]
    },
    {
     "name": "stdout",
     "output_type": "stream",
     "text": [
      "Graph for 2018-01-04 already exists!\n",
      "Graph for 2018-01-05 already exists!\n",
      "Graph for 2018-01-08 already exists!\n",
      "Graph for 2018-01-09 already exists!\n",
      "Graph for 2018-01-10 already exists!\n",
      "Graph for 2018-01-11 already exists!\n"
     ]
    },
    {
     "name": "stderr",
     "output_type": "stream",
     "text": [
      " 64%|██████▍   | 987/1542 [00:35<00:19, 27.92it/s]"
     ]
    },
    {
     "name": "stdout",
     "output_type": "stream",
     "text": [
      "Graph for 2018-01-12 already exists!\n",
      "Graph for 2018-01-16 already exists!\n",
      "Graph for 2018-01-17 already exists!\n",
      "Graph for 2018-01-18 already exists!\n",
      "Graph for 2018-01-19 already exists!\n",
      "Graph for 2018-01-22 already exists!\n"
     ]
    },
    {
     "name": "stderr",
     "output_type": "stream",
     "text": [
      " 64%|██████▍   | 993/1542 [00:35<00:19, 27.95it/s]"
     ]
    },
    {
     "name": "stdout",
     "output_type": "stream",
     "text": [
      "Graph for 2018-01-23 already exists!\n",
      "Graph for 2018-01-24 already exists!\n",
      "Graph for 2018-01-25 already exists!\n",
      "Graph for 2018-01-26 already exists!\n",
      "Graph for 2018-01-29 already exists!\n",
      "Graph for 2018-01-30 already exists!\n"
     ]
    },
    {
     "name": "stderr",
     "output_type": "stream",
     "text": [
      " 65%|██████▍   | 999/1542 [00:35<00:19, 27.88it/s]"
     ]
    },
    {
     "name": "stdout",
     "output_type": "stream",
     "text": [
      "Graph for 2018-01-31 already exists!\n",
      "Graph for 2018-02-01 already exists!\n",
      "Graph for 2018-02-02 already exists!\n",
      "Graph for 2018-02-05 already exists!\n",
      "Graph for 2018-02-06 already exists!\n",
      "Graph for 2018-02-07 already exists!\n"
     ]
    },
    {
     "name": "stderr",
     "output_type": "stream",
     "text": [
      " 65%|██████▌   | 1008/1542 [00:35<00:19, 27.91it/s]"
     ]
    },
    {
     "name": "stdout",
     "output_type": "stream",
     "text": [
      "Graph for 2018-02-08 already exists!\n",
      "Graph for 2018-02-09 already exists!\n",
      "Graph for 2018-02-12 already exists!\n",
      "Graph for 2018-02-13 already exists!\n",
      "Graph for 2018-02-14 already exists!\n",
      "Graph for 2018-02-15 already exists!\n"
     ]
    },
    {
     "name": "stderr",
     "output_type": "stream",
     "text": [
      " 66%|██████▌   | 1011/1542 [00:35<00:19, 27.62it/s]"
     ]
    },
    {
     "name": "stdout",
     "output_type": "stream",
     "text": [
      "Graph for 2018-02-16 already exists!\n",
      "Graph for 2018-02-20 already exists!\n",
      "Graph for 2018-02-21 already exists!\n",
      "Graph for 2018-02-22 already exists!\n",
      "Graph for 2018-02-23 already exists!\n",
      "Graph for 2018-02-26 already exists!\n"
     ]
    },
    {
     "name": "stderr",
     "output_type": "stream",
     "text": [
      " 66%|██████▌   | 1017/1542 [00:36<00:18, 27.95it/s]"
     ]
    },
    {
     "name": "stdout",
     "output_type": "stream",
     "text": [
      "Graph for 2018-02-27 already exists!\n",
      "Graph for 2018-02-28 already exists!\n",
      "Graph for 2018-03-01 already exists!\n",
      "Graph for 2018-03-02 already exists!\n",
      "Graph for 2018-03-05 already exists!\n",
      "Graph for 2018-03-06 already exists!\n"
     ]
    },
    {
     "name": "stderr",
     "output_type": "stream",
     "text": [
      " 66%|██████▋   | 1023/1542 [00:36<00:18, 27.62it/s]"
     ]
    },
    {
     "name": "stdout",
     "output_type": "stream",
     "text": [
      "Graph for 2018-03-07 already exists!\n",
      "Graph for 2018-03-08 already exists!\n",
      "Graph for 2018-03-09 already exists!\n",
      "Graph for 2018-03-12 already exists!\n",
      "Graph for 2018-03-13 already exists!\n",
      "Graph for 2018-03-14 already exists!\n"
     ]
    },
    {
     "name": "stderr",
     "output_type": "stream",
     "text": [
      " 67%|██████▋   | 1029/1542 [00:36<00:18, 27.80it/s]"
     ]
    },
    {
     "name": "stdout",
     "output_type": "stream",
     "text": [
      "Graph for 2018-03-15 already exists!\n",
      "Graph for 2018-03-16 already exists!\n",
      "Graph for 2018-03-19 already exists!\n",
      "Graph for 2018-03-20 already exists!\n",
      "Graph for 2018-03-21 already exists!\n",
      "Graph for 2018-03-22 already exists!\n"
     ]
    },
    {
     "name": "stderr",
     "output_type": "stream",
     "text": [
      " 67%|██████▋   | 1035/1542 [00:36<00:18, 27.72it/s]"
     ]
    },
    {
     "name": "stdout",
     "output_type": "stream",
     "text": [
      "Graph for 2018-03-23 already exists!\n",
      "Graph for 2018-03-26 already exists!\n",
      "Graph for 2018-03-27 already exists!\n",
      "Graph for 2018-03-28 already exists!\n",
      "Graph for 2018-03-29 already exists!\n",
      "Graph for 2018-04-02 already exists!\n"
     ]
    },
    {
     "name": "stderr",
     "output_type": "stream",
     "text": [
      " 68%|██████▊   | 1044/1542 [00:37<00:17, 28.11it/s]"
     ]
    },
    {
     "name": "stdout",
     "output_type": "stream",
     "text": [
      "Graph for 2018-04-03 already exists!\n",
      "Graph for 2018-04-04 already exists!\n",
      "Graph for 2018-04-05 already exists!\n",
      "Graph for 2018-04-06 already exists!\n",
      "Graph for 2018-04-09 already exists!\n",
      "Graph for 2018-04-10 already exists!\n"
     ]
    },
    {
     "name": "stderr",
     "output_type": "stream",
     "text": [
      " 68%|██████▊   | 1047/1542 [00:37<00:17, 28.11it/s]"
     ]
    },
    {
     "name": "stdout",
     "output_type": "stream",
     "text": [
      "Graph for 2018-04-11 already exists!\n",
      "Graph for 2018-04-12 already exists!\n",
      "Graph for 2018-04-13 already exists!\n",
      "Graph for 2018-04-16 already exists!\n",
      "Graph for 2018-04-17 already exists!\n",
      "Graph for 2018-04-18 already exists!\n"
     ]
    },
    {
     "name": "stderr",
     "output_type": "stream",
     "text": [
      " 68%|██████▊   | 1053/1542 [00:37<00:17, 28.03it/s]"
     ]
    },
    {
     "name": "stdout",
     "output_type": "stream",
     "text": [
      "Graph for 2018-04-19 already exists!\n",
      "Graph for 2018-04-20 already exists!\n",
      "Graph for 2018-04-23 already exists!\n",
      "Graph for 2018-04-24 already exists!\n",
      "Graph for 2018-04-25 already exists!\n",
      "Graph for 2018-04-26 already exists!\n"
     ]
    },
    {
     "name": "stderr",
     "output_type": "stream",
     "text": [
      " 69%|██████▊   | 1059/1542 [00:37<00:17, 27.84it/s]"
     ]
    },
    {
     "name": "stdout",
     "output_type": "stream",
     "text": [
      "Graph for 2018-04-27 already exists!\n",
      "Graph for 2018-04-30 already exists!\n",
      "Graph for 2018-05-01 already exists!\n",
      "Graph for 2018-05-02 already exists!\n",
      "Graph for 2018-05-03 already exists!\n",
      "Graph for 2018-05-04 already exists!\n"
     ]
    },
    {
     "name": "stderr",
     "output_type": "stream",
     "text": [
      " 69%|██████▉   | 1065/1542 [00:37<00:17, 28.02it/s]"
     ]
    },
    {
     "name": "stdout",
     "output_type": "stream",
     "text": [
      "Graph for 2018-05-07 already exists!\n",
      "Graph for 2018-05-08 already exists!\n",
      "Graph for 2018-05-09 already exists!\n",
      "Graph for 2018-05-10 already exists!\n",
      "Graph for 2018-05-11 already exists!\n",
      "Graph for 2018-05-14 already exists!\n"
     ]
    },
    {
     "name": "stderr",
     "output_type": "stream",
     "text": [
      " 69%|██████▉   | 1071/1542 [00:38<00:16, 27.78it/s]"
     ]
    },
    {
     "name": "stdout",
     "output_type": "stream",
     "text": [
      "Graph for 2018-05-15 already exists!\n",
      "Graph for 2018-05-16 already exists!\n",
      "Graph for 2018-05-17 already exists!\n",
      "Graph for 2018-05-18 already exists!\n",
      "Graph for 2018-05-21 already exists!\n",
      "Graph for 2018-05-22 already exists!\n"
     ]
    },
    {
     "name": "stderr",
     "output_type": "stream",
     "text": [
      " 70%|██████▉   | 1077/1542 [00:38<00:16, 27.99it/s]"
     ]
    },
    {
     "name": "stdout",
     "output_type": "stream",
     "text": [
      "Graph for 2018-05-23 already exists!\n",
      "Graph for 2018-05-24 already exists!\n",
      "Graph for 2018-05-25 already exists!\n",
      "Graph for 2018-05-29 already exists!\n",
      "Graph for 2018-05-30 already exists!\n",
      "Graph for 2018-05-31 already exists!\n"
     ]
    },
    {
     "name": "stderr",
     "output_type": "stream",
     "text": [
      " 70%|███████   | 1083/1542 [00:38<00:16, 27.40it/s]"
     ]
    },
    {
     "name": "stdout",
     "output_type": "stream",
     "text": [
      "Graph for 2018-06-01 already exists!\n",
      "Graph for 2018-06-04 already exists!\n",
      "Graph for 2018-06-05 already exists!\n",
      "Graph for 2018-06-06 already exists!\n",
      "Graph for 2018-06-07 already exists!\n",
      "Graph for 2018-06-08 already exists!\n"
     ]
    },
    {
     "name": "stderr",
     "output_type": "stream",
     "text": [
      " 71%|███████   | 1089/1542 [00:38<00:16, 27.54it/s]"
     ]
    },
    {
     "name": "stdout",
     "output_type": "stream",
     "text": [
      "Graph for 2018-06-11 already exists!\n",
      "Graph for 2018-06-12 already exists!\n",
      "Graph for 2018-06-13 already exists!\n",
      "Graph for 2018-06-14 already exists!\n",
      "Graph for 2018-06-15 already exists!\n",
      "Graph for 2018-06-18 already exists!\n"
     ]
    },
    {
     "name": "stderr",
     "output_type": "stream",
     "text": [
      " 71%|███████   | 1098/1542 [00:39<00:15, 27.98it/s]"
     ]
    },
    {
     "name": "stdout",
     "output_type": "stream",
     "text": [
      "Graph for 2018-06-19 already exists!\n",
      "Graph for 2018-06-20 already exists!\n",
      "Graph for 2018-06-21 already exists!\n",
      "Graph for 2018-06-22 already exists!\n",
      "Graph for 2018-06-25 already exists!\n",
      "Graph for 2018-06-26 already exists!\n"
     ]
    },
    {
     "name": "stderr",
     "output_type": "stream",
     "text": [
      " 71%|███████▏  | 1101/1542 [00:39<00:15, 28.22it/s]"
     ]
    },
    {
     "name": "stdout",
     "output_type": "stream",
     "text": [
      "Graph for 2018-06-27 already exists!\n",
      "Graph for 2018-06-28 already exists!\n",
      "Graph for 2018-06-29 already exists!\n",
      "Graph for 2018-07-02 already exists!\n",
      "Graph for 2018-07-03 already exists!\n",
      "Graph for 2018-07-05 already exists!\n"
     ]
    },
    {
     "name": "stderr",
     "output_type": "stream",
     "text": [
      " 72%|███████▏  | 1107/1542 [00:39<00:15, 27.77it/s]"
     ]
    },
    {
     "name": "stdout",
     "output_type": "stream",
     "text": [
      "Graph for 2018-07-06 already exists!\n",
      "Graph for 2018-07-09 already exists!\n",
      "Graph for 2018-07-10 already exists!\n",
      "Graph for 2018-07-11 already exists!\n",
      "Graph for 2018-07-12 already exists!\n",
      "Graph for 2018-07-13 already exists!\n"
     ]
    },
    {
     "name": "stderr",
     "output_type": "stream",
     "text": [
      " 72%|███████▏  | 1113/1542 [00:39<00:15, 28.15it/s]"
     ]
    },
    {
     "name": "stdout",
     "output_type": "stream",
     "text": [
      "Graph for 2018-07-16 already exists!\n",
      "Graph for 2018-07-17 already exists!\n",
      "Graph for 2018-07-18 already exists!\n",
      "Graph for 2018-07-19 already exists!\n",
      "Graph for 2018-07-20 already exists!\n",
      "Graph for 2018-07-23 already exists!\n"
     ]
    },
    {
     "name": "stderr",
     "output_type": "stream",
     "text": [
      " 73%|███████▎  | 1122/1542 [00:39<00:14, 28.30it/s]"
     ]
    },
    {
     "name": "stdout",
     "output_type": "stream",
     "text": [
      "Graph for 2018-07-24 already exists!\n",
      "Graph for 2018-07-25 already exists!\n",
      "Graph for 2018-07-26 already exists!\n",
      "Graph for 2018-07-27 already exists!\n",
      "Graph for 2018-07-30 already exists!\n",
      "Graph for 2018-07-31 already exists!\n"
     ]
    },
    {
     "name": "stderr",
     "output_type": "stream",
     "text": [
      " 73%|███████▎  | 1125/1542 [00:40<00:14, 28.46it/s]"
     ]
    },
    {
     "name": "stdout",
     "output_type": "stream",
     "text": [
      "Graph for 2018-08-01 already exists!\n",
      "Graph for 2018-08-02 already exists!\n",
      "Graph for 2018-08-03 already exists!\n",
      "Graph for 2018-08-06 already exists!\n",
      "Graph for 2018-08-07 already exists!\n",
      "Graph for 2018-08-08 already exists!\n"
     ]
    },
    {
     "name": "stderr",
     "output_type": "stream",
     "text": [
      " 73%|███████▎  | 1131/1542 [00:40<00:15, 27.27it/s]"
     ]
    },
    {
     "name": "stdout",
     "output_type": "stream",
     "text": [
      "Graph for 2018-08-09 already exists!\n",
      "Graph for 2018-08-10 already exists!\n",
      "Graph for 2018-08-13 already exists!\n",
      "Graph for 2018-08-14 already exists!\n",
      "Graph for 2018-08-15 already exists!\n",
      "Graph for 2018-08-16 already exists!\n"
     ]
    },
    {
     "name": "stderr",
     "output_type": "stream",
     "text": [
      " 74%|███████▎  | 1137/1542 [00:40<00:14, 27.59it/s]"
     ]
    },
    {
     "name": "stdout",
     "output_type": "stream",
     "text": [
      "Graph for 2018-08-17 already exists!\n",
      "Graph for 2018-08-20 already exists!\n",
      "Graph for 2018-08-21 already exists!\n",
      "Graph for 2018-08-22 already exists!\n",
      "Graph for 2018-08-23 already exists!\n",
      "Graph for 2018-08-24 already exists!\n"
     ]
    },
    {
     "name": "stderr",
     "output_type": "stream",
     "text": [
      " 74%|███████▍  | 1143/1542 [00:40<00:14, 27.85it/s]"
     ]
    },
    {
     "name": "stdout",
     "output_type": "stream",
     "text": [
      "Graph for 2018-08-27 already exists!\n",
      "Graph for 2018-08-28 already exists!\n",
      "Graph for 2018-08-29 already exists!\n",
      "Graph for 2018-08-30 already exists!\n",
      "Graph for 2018-08-31 already exists!\n",
      "Graph for 2018-09-04 already exists!\n"
     ]
    },
    {
     "name": "stderr",
     "output_type": "stream",
     "text": [
      " 75%|███████▍  | 1149/1542 [00:40<00:14, 28.05it/s]"
     ]
    },
    {
     "name": "stdout",
     "output_type": "stream",
     "text": [
      "Graph for 2018-09-05 already exists!\n",
      "Graph for 2018-09-06 already exists!\n",
      "Graph for 2018-09-07 already exists!\n",
      "Graph for 2018-09-10 already exists!\n",
      "Graph for 2018-09-11 already exists!\n",
      "Graph for 2018-09-12 already exists!\n"
     ]
    },
    {
     "name": "stderr",
     "output_type": "stream",
     "text": [
      " 75%|███████▍  | 1155/1542 [00:41<00:13, 28.05it/s]"
     ]
    },
    {
     "name": "stdout",
     "output_type": "stream",
     "text": [
      "Graph for 2018-09-13 already exists!\n",
      "Graph for 2018-09-14 already exists!\n",
      "Graph for 2018-09-17 already exists!\n",
      "Graph for 2018-09-18 already exists!\n",
      "Graph for 2018-09-19 already exists!\n",
      "Graph for 2018-09-20 already exists!\n"
     ]
    },
    {
     "name": "stderr",
     "output_type": "stream",
     "text": [
      " 75%|███████▌  | 1164/1542 [00:41<00:13, 28.07it/s]"
     ]
    },
    {
     "name": "stdout",
     "output_type": "stream",
     "text": [
      "Graph for 2018-09-21 already exists!\n",
      "Graph for 2018-09-24 already exists!\n",
      "Graph for 2018-09-25 already exists!\n",
      "Graph for 2018-09-26 already exists!\n",
      "Graph for 2018-09-27 already exists!\n",
      "Graph for 2018-09-28 already exists!\n"
     ]
    },
    {
     "name": "stderr",
     "output_type": "stream",
     "text": [
      " 76%|███████▌  | 1167/1542 [00:41<00:13, 27.93it/s]"
     ]
    },
    {
     "name": "stdout",
     "output_type": "stream",
     "text": [
      "Graph for 2018-10-01 already exists!\n",
      "Graph for 2018-10-02 already exists!\n",
      "Graph for 2018-10-03 already exists!\n",
      "Graph for 2018-10-04 already exists!\n",
      "Graph for 2018-10-05 already exists!\n",
      "Graph for 2018-10-08 already exists!\n"
     ]
    },
    {
     "name": "stderr",
     "output_type": "stream",
     "text": [
      " 76%|███████▌  | 1173/1542 [00:41<00:13, 28.18it/s]"
     ]
    },
    {
     "name": "stdout",
     "output_type": "stream",
     "text": [
      "Graph for 2018-10-09 already exists!\n",
      "Graph for 2018-10-10 already exists!\n",
      "Graph for 2018-10-11 already exists!\n",
      "Graph for 2018-10-12 already exists!\n",
      "Graph for 2018-10-15 already exists!\n",
      "Graph for 2018-10-16 already exists!\n"
     ]
    },
    {
     "name": "stderr",
     "output_type": "stream",
     "text": [
      " 76%|███████▋  | 1179/1542 [00:41<00:12, 28.12it/s]"
     ]
    },
    {
     "name": "stdout",
     "output_type": "stream",
     "text": [
      "Graph for 2018-10-17 already exists!\n",
      "Graph for 2018-10-18 already exists!\n",
      "Graph for 2018-10-19 already exists!\n",
      "Graph for 2018-10-22 already exists!\n",
      "Graph for 2018-10-23 already exists!\n",
      "Graph for 2018-10-24 already exists!\n"
     ]
    },
    {
     "name": "stderr",
     "output_type": "stream",
     "text": [
      " 77%|███████▋  | 1185/1542 [00:42<00:12, 28.27it/s]"
     ]
    },
    {
     "name": "stdout",
     "output_type": "stream",
     "text": [
      "Graph for 2018-10-25 already exists!\n",
      "Graph for 2018-10-26 already exists!\n",
      "Graph for 2018-10-29 already exists!\n",
      "Graph for 2018-10-30 already exists!\n",
      "Graph for 2018-10-31 already exists!\n",
      "Graph for 2018-11-01 already exists!\n"
     ]
    },
    {
     "name": "stderr",
     "output_type": "stream",
     "text": [
      " 77%|███████▋  | 1194/1542 [00:42<00:12, 28.12it/s]"
     ]
    },
    {
     "name": "stdout",
     "output_type": "stream",
     "text": [
      "Graph for 2018-11-02 already exists!\n",
      "Graph for 2018-11-05 already exists!\n",
      "Graph for 2018-11-06 already exists!\n",
      "Graph for 2018-11-07 already exists!\n",
      "Graph for 2018-11-08 already exists!\n",
      "Graph for 2018-11-09 already exists!\n"
     ]
    },
    {
     "name": "stderr",
     "output_type": "stream",
     "text": [
      " 78%|███████▊  | 1197/1542 [00:42<00:12, 28.24it/s]"
     ]
    },
    {
     "name": "stdout",
     "output_type": "stream",
     "text": [
      "Graph for 2018-11-12 already exists!\n",
      "Graph for 2018-11-13 already exists!\n",
      "Graph for 2018-11-14 already exists!\n",
      "Graph for 2018-11-15 already exists!\n",
      "Graph for 2018-11-16 already exists!\n",
      "Graph for 2018-11-19 already exists!\n"
     ]
    },
    {
     "name": "stderr",
     "output_type": "stream",
     "text": [
      " 78%|███████▊  | 1203/1542 [00:42<00:12, 28.13it/s]"
     ]
    },
    {
     "name": "stdout",
     "output_type": "stream",
     "text": [
      "Graph for 2018-11-20 already exists!\n",
      "Graph for 2018-11-21 already exists!\n",
      "Graph for 2018-11-23 already exists!\n",
      "Graph for 2018-11-26 already exists!\n",
      "Graph for 2018-11-27 already exists!\n",
      "Graph for 2018-11-28 already exists!\n"
     ]
    },
    {
     "name": "stderr",
     "output_type": "stream",
     "text": [
      " 78%|███████▊  | 1209/1542 [00:43<00:11, 28.37it/s]"
     ]
    },
    {
     "name": "stdout",
     "output_type": "stream",
     "text": [
      "Graph for 2018-11-29 already exists!\n",
      "Graph for 2018-11-30 already exists!\n",
      "Graph for 2018-12-03 already exists!\n",
      "Graph for 2018-12-04 already exists!\n",
      "Graph for 2018-12-06 already exists!\n",
      "Graph for 2018-12-07 already exists!\n"
     ]
    },
    {
     "name": "stderr",
     "output_type": "stream",
     "text": [
      " 79%|███████▉  | 1215/1542 [00:43<00:11, 28.47it/s]"
     ]
    },
    {
     "name": "stdout",
     "output_type": "stream",
     "text": [
      "Graph for 2018-12-10 already exists!\n",
      "Graph for 2018-12-11 already exists!\n",
      "Graph for 2018-12-12 already exists!\n",
      "Graph for 2018-12-13 already exists!\n",
      "Graph for 2018-12-14 already exists!\n",
      "Graph for 2018-12-17 already exists!\n"
     ]
    },
    {
     "name": "stderr",
     "output_type": "stream",
     "text": [
      " 79%|███████▉  | 1221/1542 [00:43<00:11, 28.44it/s]"
     ]
    },
    {
     "name": "stdout",
     "output_type": "stream",
     "text": [
      "Graph for 2018-12-18 already exists!\n",
      "Graph for 2018-12-19 already exists!\n",
      "Graph for 2018-12-20 already exists!\n",
      "Graph for 2018-12-21 already exists!\n",
      "Graph for 2018-12-24 already exists!\n",
      "Graph for 2018-12-26 already exists!\n"
     ]
    },
    {
     "name": "stderr",
     "output_type": "stream",
     "text": [
      " 80%|███████▉  | 1227/1542 [00:43<00:11, 28.21it/s]"
     ]
    },
    {
     "name": "stdout",
     "output_type": "stream",
     "text": [
      "Graph for 2018-12-27 already exists!\n",
      "Graph for 2018-12-28 already exists!\n",
      "Graph for 2018-12-31 already exists!\n",
      "Graph for 2019-01-02 already exists!\n"
     ]
    },
    {
     "name": "stderr",
     "output_type": "stream",
     "text": [
      " 80%|███████▉  | 1233/1542 [00:44<00:13, 22.42it/s]"
     ]
    },
    {
     "name": "stdout",
     "output_type": "stream",
     "text": [
      "Graph for 2019-01-03 already exists!\n",
      "Graph for 2019-01-04 already exists!\n",
      "Graph for 2019-01-07 already exists!\n",
      "Graph for 2019-01-08 already exists!\n",
      "Graph for 2019-01-09 already exists!\n",
      "Graph for 2019-01-10 already exists!\n"
     ]
    },
    {
     "name": "stderr",
     "output_type": "stream",
     "text": [
      " 80%|████████  | 1239/1542 [00:44<00:12, 25.06it/s]"
     ]
    },
    {
     "name": "stdout",
     "output_type": "stream",
     "text": [
      "Graph for 2019-01-11 already exists!\n",
      "Graph for 2019-01-14 already exists!\n",
      "Graph for 2019-01-15 already exists!\n",
      "Graph for 2019-01-16 already exists!\n",
      "Graph for 2019-01-17 already exists!\n"
     ]
    },
    {
     "name": "stderr",
     "output_type": "stream",
     "text": [
      " 81%|████████  | 1242/1542 [00:44<00:11, 25.97it/s]"
     ]
    },
    {
     "name": "stdout",
     "output_type": "stream",
     "text": [
      "Graph for 2019-01-18 already exists!\n",
      "Graph for 2019-01-22 already exists!\n",
      "Graph for 2019-01-23 already exists!\n",
      "Graph for 2019-01-24 already exists!\n",
      "Graph for 2019-01-25 already exists!\n",
      "Graph for 2019-01-28 already exists!\n"
     ]
    },
    {
     "name": "stderr",
     "output_type": "stream",
     "text": [
      " 81%|████████  | 1248/1542 [00:44<00:10, 27.24it/s]"
     ]
    },
    {
     "name": "stdout",
     "output_type": "stream",
     "text": [
      "Graph for 2019-01-29 already exists!\n",
      "Graph for 2019-01-30 already exists!\n",
      "Graph for 2019-01-31 already exists!\n",
      "Graph for 2019-02-01 already exists!\n",
      "Graph for 2019-02-04 already exists!\n",
      "Graph for 2019-02-05 already exists!\n"
     ]
    },
    {
     "name": "stderr",
     "output_type": "stream",
     "text": [
      " 81%|████████▏ | 1254/1542 [00:44<00:10, 27.56it/s]"
     ]
    },
    {
     "name": "stdout",
     "output_type": "stream",
     "text": [
      "Graph for 2019-02-06 already exists!\n",
      "Graph for 2019-02-07 already exists!\n",
      "Graph for 2019-02-08 already exists!\n",
      "Graph for 2019-02-11 already exists!\n",
      "Graph for 2019-02-12 already exists!\n",
      "Graph for 2019-02-13 already exists!\n"
     ]
    },
    {
     "name": "stderr",
     "output_type": "stream",
     "text": [
      " 82%|████████▏ | 1263/1542 [00:45<00:09, 28.23it/s]"
     ]
    },
    {
     "name": "stdout",
     "output_type": "stream",
     "text": [
      "Graph for 2019-02-14 already exists!\n",
      "Graph for 2019-02-15 already exists!\n",
      "Graph for 2019-02-19 already exists!\n",
      "Graph for 2019-02-20 already exists!\n",
      "Graph for 2019-02-21 already exists!\n",
      "Graph for 2019-02-22 already exists!\n"
     ]
    },
    {
     "name": "stderr",
     "output_type": "stream",
     "text": [
      " 82%|████████▏ | 1266/1542 [00:45<00:09, 28.15it/s]"
     ]
    },
    {
     "name": "stdout",
     "output_type": "stream",
     "text": [
      "Graph for 2019-02-25 already exists!\n",
      "Graph for 2019-02-26 already exists!\n",
      "Graph for 2019-02-27 already exists!\n",
      "Graph for 2019-02-28 already exists!\n",
      "Graph for 2019-03-01 already exists!\n",
      "Graph for 2019-03-04 already exists!\n"
     ]
    },
    {
     "name": "stderr",
     "output_type": "stream",
     "text": [
      " 82%|████████▏ | 1272/1542 [00:45<00:09, 27.90it/s]"
     ]
    },
    {
     "name": "stdout",
     "output_type": "stream",
     "text": [
      "Graph for 2019-03-05 already exists!\n",
      "Graph for 2019-03-06 already exists!\n",
      "Graph for 2019-03-07 already exists!\n",
      "Graph for 2019-03-08 already exists!\n",
      "Graph for 2019-03-11 already exists!\n",
      "Graph for 2019-03-12 already exists!\n"
     ]
    },
    {
     "name": "stderr",
     "output_type": "stream",
     "text": [
      " 83%|████████▎ | 1278/1542 [00:45<00:09, 28.08it/s]"
     ]
    },
    {
     "name": "stdout",
     "output_type": "stream",
     "text": [
      "Graph for 2019-03-13 already exists!\n",
      "Graph for 2019-03-14 already exists!\n",
      "Graph for 2019-03-15 already exists!\n",
      "Graph for 2019-03-18 already exists!\n",
      "Graph for 2019-03-19 already exists!\n",
      "Graph for 2019-03-20 already exists!\n"
     ]
    },
    {
     "name": "stderr",
     "output_type": "stream",
     "text": [
      " 83%|████████▎ | 1287/1542 [00:45<00:09, 28.31it/s]"
     ]
    },
    {
     "name": "stdout",
     "output_type": "stream",
     "text": [
      "Graph for 2019-03-21 already exists!\n",
      "Graph for 2019-03-22 already exists!\n",
      "Graph for 2019-03-25 already exists!\n",
      "Graph for 2019-03-26 already exists!\n",
      "Graph for 2019-03-27 already exists!\n",
      "Graph for 2019-03-28 already exists!\n"
     ]
    },
    {
     "name": "stderr",
     "output_type": "stream",
     "text": [
      " 84%|████████▎ | 1290/1542 [00:46<00:08, 28.26it/s]"
     ]
    },
    {
     "name": "stdout",
     "output_type": "stream",
     "text": [
      "Graph for 2019-03-29 already exists!\n",
      "Graph for 2019-04-01 already exists!\n",
      "Graph for 2019-04-02 already exists!\n",
      "Graph for 2019-04-03 already exists!\n",
      "Graph for 2019-04-04 already exists!\n",
      "Graph for 2019-04-05 already exists!\n"
     ]
    },
    {
     "name": "stderr",
     "output_type": "stream",
     "text": [
      " 84%|████████▍ | 1299/1542 [00:46<00:08, 28.51it/s]"
     ]
    },
    {
     "name": "stdout",
     "output_type": "stream",
     "text": [
      "Graph for 2019-04-08 already exists!\n",
      "Graph for 2019-04-09 already exists!\n",
      "Graph for 2019-04-10 already exists!\n",
      "Graph for 2019-04-11 already exists!\n",
      "Graph for 2019-04-12 already exists!\n",
      "Graph for 2019-04-15 already exists!\n"
     ]
    },
    {
     "name": "stderr",
     "output_type": "stream",
     "text": [
      " 84%|████████▍ | 1302/1542 [00:46<00:08, 28.23it/s]"
     ]
    },
    {
     "name": "stdout",
     "output_type": "stream",
     "text": [
      "Graph for 2019-04-16 already exists!\n",
      "Graph for 2019-04-17 already exists!\n",
      "Graph for 2019-04-18 already exists!\n",
      "Graph for 2019-04-22 already exists!\n",
      "Graph for 2019-04-23 already exists!\n",
      "Graph for 2019-04-24 already exists!\n"
     ]
    },
    {
     "name": "stderr",
     "output_type": "stream",
     "text": [
      " 85%|████████▍ | 1308/1542 [00:46<00:08, 28.41it/s]"
     ]
    },
    {
     "name": "stdout",
     "output_type": "stream",
     "text": [
      "Graph for 2019-04-25 already exists!\n",
      "Graph for 2019-04-26 already exists!\n",
      "Graph for 2019-04-29 already exists!\n",
      "Graph for 2019-04-30 already exists!\n",
      "Graph for 2019-05-01 already exists!\n",
      "Graph for 2019-05-02 already exists!\n"
     ]
    },
    {
     "name": "stderr",
     "output_type": "stream",
     "text": [
      " 85%|████████▌ | 1314/1542 [00:46<00:08, 28.04it/s]"
     ]
    },
    {
     "name": "stdout",
     "output_type": "stream",
     "text": [
      "Graph for 2019-05-03 already exists!\n",
      "Graph for 2019-05-06 already exists!\n",
      "Graph for 2019-05-07 already exists!\n",
      "Graph for 2019-05-08 already exists!\n",
      "Graph for 2019-05-09 already exists!\n",
      "Graph for 2019-05-10 already exists!\n"
     ]
    },
    {
     "name": "stderr",
     "output_type": "stream",
     "text": [
      " 86%|████████▌ | 1320/1542 [00:47<00:07, 28.03it/s]"
     ]
    },
    {
     "name": "stdout",
     "output_type": "stream",
     "text": [
      "Graph for 2019-05-13 already exists!\n",
      "Graph for 2019-05-14 already exists!\n",
      "Graph for 2019-05-15 already exists!\n",
      "Graph for 2019-05-16 already exists!\n",
      "Graph for 2019-05-17 already exists!\n",
      "Graph for 2019-05-20 already exists!\n"
     ]
    },
    {
     "name": "stderr",
     "output_type": "stream",
     "text": [
      " 86%|████████▌ | 1326/1542 [00:47<00:07, 28.31it/s]"
     ]
    },
    {
     "name": "stdout",
     "output_type": "stream",
     "text": [
      "Graph for 2019-05-21 already exists!\n",
      "Graph for 2019-05-22 already exists!\n",
      "Graph for 2019-05-23 already exists!\n",
      "Graph for 2019-05-24 already exists!\n",
      "Graph for 2019-05-28 already exists!\n",
      "Graph for 2019-05-29 already exists!\n"
     ]
    },
    {
     "name": "stderr",
     "output_type": "stream",
     "text": [
      " 86%|████████▋ | 1332/1542 [00:47<00:07, 28.14it/s]"
     ]
    },
    {
     "name": "stdout",
     "output_type": "stream",
     "text": [
      "Graph for 2019-05-30 already exists!\n",
      "Graph for 2019-05-31 already exists!\n",
      "Graph for 2019-06-03 already exists!\n",
      "Graph for 2019-06-04 already exists!\n",
      "Graph for 2019-06-05 already exists!\n",
      "Graph for 2019-06-06 already exists!\n"
     ]
    },
    {
     "name": "stderr",
     "output_type": "stream",
     "text": [
      " 87%|████████▋ | 1338/1542 [00:47<00:07, 28.15it/s]"
     ]
    },
    {
     "name": "stdout",
     "output_type": "stream",
     "text": [
      "Graph for 2019-06-07 already exists!\n",
      "Graph for 2019-06-10 already exists!\n",
      "Graph for 2019-06-11 already exists!\n",
      "Graph for 2019-06-12 already exists!\n",
      "Graph for 2019-06-13 already exists!\n",
      "Graph for 2019-06-14 already exists!\n"
     ]
    },
    {
     "name": "stderr",
     "output_type": "stream",
     "text": [
      " 87%|████████▋ | 1347/1542 [00:48<00:06, 28.54it/s]"
     ]
    },
    {
     "name": "stdout",
     "output_type": "stream",
     "text": [
      "Graph for 2019-06-17 already exists!\n",
      "Graph for 2019-06-18 already exists!\n",
      "Graph for 2019-06-19 already exists!\n",
      "Graph for 2019-06-20 already exists!\n",
      "Graph for 2019-06-21 already exists!\n",
      "Graph for 2019-06-24 already exists!\n"
     ]
    },
    {
     "name": "stderr",
     "output_type": "stream",
     "text": [
      " 88%|████████▊ | 1350/1542 [00:48<00:06, 28.54it/s]"
     ]
    },
    {
     "name": "stdout",
     "output_type": "stream",
     "text": [
      "Graph for 2019-06-25 already exists!\n",
      "Graph for 2019-06-26 already exists!\n",
      "Graph for 2019-06-27 already exists!\n",
      "Graph for 2019-06-28 already exists!\n",
      "Graph for 2019-07-01 already exists!\n",
      "Graph for 2019-07-02 already exists!\n"
     ]
    },
    {
     "name": "stderr",
     "output_type": "stream",
     "text": [
      " 88%|████████▊ | 1356/1542 [00:48<00:06, 28.41it/s]"
     ]
    },
    {
     "name": "stdout",
     "output_type": "stream",
     "text": [
      "Graph for 2019-07-03 already exists!\n",
      "Graph for 2019-07-05 already exists!\n",
      "Graph for 2019-07-08 already exists!\n",
      "Graph for 2019-07-09 already exists!\n",
      "Graph for 2019-07-10 already exists!\n",
      "Graph for 2019-07-11 already exists!\n"
     ]
    },
    {
     "name": "stderr",
     "output_type": "stream",
     "text": [
      " 88%|████████▊ | 1362/1542 [00:48<00:06, 28.13it/s]"
     ]
    },
    {
     "name": "stdout",
     "output_type": "stream",
     "text": [
      "Graph for 2019-07-12 already exists!\n",
      "Graph for 2019-07-15 already exists!\n",
      "Graph for 2019-07-16 already exists!\n",
      "Graph for 2019-07-17 already exists!\n",
      "Graph for 2019-07-18 already exists!\n",
      "Graph for 2019-07-19 already exists!\n"
     ]
    },
    {
     "name": "stderr",
     "output_type": "stream",
     "text": [
      " 89%|████████▉ | 1371/1542 [00:48<00:05, 28.54it/s]"
     ]
    },
    {
     "name": "stdout",
     "output_type": "stream",
     "text": [
      "Graph for 2019-07-22 already exists!\n",
      "Graph for 2019-07-23 already exists!\n",
      "Graph for 2019-07-24 already exists!\n",
      "Graph for 2019-07-25 already exists!\n",
      "Graph for 2019-07-26 already exists!\n",
      "Graph for 2019-07-29 already exists!\n"
     ]
    },
    {
     "name": "stderr",
     "output_type": "stream",
     "text": [
      " 89%|████████▉ | 1374/1542 [00:48<00:05, 28.45it/s]"
     ]
    },
    {
     "name": "stdout",
     "output_type": "stream",
     "text": [
      "Graph for 2019-07-30 already exists!\n",
      "Graph for 2019-07-31 already exists!\n",
      "Graph for 2019-08-01 already exists!\n",
      "Graph for 2019-08-02 already exists!\n",
      "Graph for 2019-08-05 already exists!\n",
      "Graph for 2019-08-06 already exists!\n"
     ]
    },
    {
     "name": "stderr",
     "output_type": "stream",
     "text": [
      " 90%|████████▉ | 1383/1542 [00:49<00:05, 28.37it/s]"
     ]
    },
    {
     "name": "stdout",
     "output_type": "stream",
     "text": [
      "Graph for 2019-08-07 already exists!\n",
      "Graph for 2019-08-08 already exists!\n",
      "Graph for 2019-08-09 already exists!\n",
      "Graph for 2019-08-12 already exists!\n",
      "Graph for 2019-08-13 already exists!\n",
      "Graph for 2019-08-14 already exists!\n"
     ]
    },
    {
     "name": "stderr",
     "output_type": "stream",
     "text": [
      " 90%|████████▉ | 1386/1542 [00:49<00:05, 28.21it/s]"
     ]
    },
    {
     "name": "stdout",
     "output_type": "stream",
     "text": [
      "Graph for 2019-08-15 already exists!\n",
      "Graph for 2019-08-16 already exists!\n",
      "Graph for 2019-08-19 already exists!\n",
      "Graph for 2019-08-20 already exists!\n",
      "Graph for 2019-08-21 already exists!\n",
      "Graph for 2019-08-22 already exists!\n"
     ]
    },
    {
     "name": "stderr",
     "output_type": "stream",
     "text": [
      " 90%|█████████ | 1395/1542 [00:49<00:05, 28.59it/s]"
     ]
    },
    {
     "name": "stdout",
     "output_type": "stream",
     "text": [
      "Graph for 2019-08-23 already exists!\n",
      "Graph for 2019-08-26 already exists!\n",
      "Graph for 2019-08-27 already exists!\n",
      "Graph for 2019-08-28 already exists!\n",
      "Graph for 2019-08-29 already exists!\n",
      "Graph for 2019-08-30 already exists!\n"
     ]
    },
    {
     "name": "stderr",
     "output_type": "stream",
     "text": [
      " 91%|█████████ | 1398/1542 [00:49<00:05, 28.44it/s]"
     ]
    },
    {
     "name": "stdout",
     "output_type": "stream",
     "text": [
      "Graph for 2019-09-03 already exists!\n",
      "Graph for 2019-09-04 already exists!\n",
      "Graph for 2019-09-05 already exists!\n",
      "Graph for 2019-09-06 already exists!\n",
      "Graph for 2019-09-09 already exists!\n",
      "Graph for 2019-09-10 already exists!\n"
     ]
    },
    {
     "name": "stderr",
     "output_type": "stream",
     "text": [
      " 91%|█████████ | 1407/1542 [00:50<00:04, 28.76it/s]"
     ]
    },
    {
     "name": "stdout",
     "output_type": "stream",
     "text": [
      "Graph for 2019-09-11 already exists!\n",
      "Graph for 2019-09-12 already exists!\n",
      "Graph for 2019-09-13 already exists!\n",
      "Graph for 2019-09-16 already exists!\n",
      "Graph for 2019-09-17 already exists!\n",
      "Graph for 2019-09-18 already exists!\n"
     ]
    },
    {
     "name": "stderr",
     "output_type": "stream",
     "text": [
      " 91%|█████████▏| 1410/1542 [00:50<00:04, 28.61it/s]"
     ]
    },
    {
     "name": "stdout",
     "output_type": "stream",
     "text": [
      "Graph for 2019-09-19 already exists!\n",
      "Graph for 2019-09-20 already exists!\n",
      "Graph for 2019-09-23 already exists!\n",
      "Graph for 2019-09-24 already exists!\n",
      "Graph for 2019-09-25 already exists!\n",
      "Graph for 2019-09-26 already exists!\n"
     ]
    },
    {
     "name": "stderr",
     "output_type": "stream",
     "text": [
      " 92%|█████████▏| 1419/1542 [00:50<00:04, 28.67it/s]"
     ]
    },
    {
     "name": "stdout",
     "output_type": "stream",
     "text": [
      "Graph for 2019-09-27 already exists!\n",
      "Graph for 2019-09-30 already exists!\n",
      "Graph for 2019-10-01 already exists!\n",
      "Graph for 2019-10-02 already exists!\n",
      "Graph for 2019-10-03 already exists!\n",
      "Graph for 2019-10-04 already exists!\n"
     ]
    },
    {
     "name": "stderr",
     "output_type": "stream",
     "text": [
      " 92%|█████████▏| 1422/1542 [00:50<00:04, 28.59it/s]"
     ]
    },
    {
     "name": "stdout",
     "output_type": "stream",
     "text": [
      "Graph for 2019-10-07 already exists!\n",
      "Graph for 2019-10-08 already exists!\n",
      "Graph for 2019-10-09 already exists!\n",
      "Graph for 2019-10-10 already exists!\n",
      "Graph for 2019-10-11 already exists!\n",
      "Graph for 2019-10-14 already exists!\n"
     ]
    },
    {
     "name": "stderr",
     "output_type": "stream",
     "text": [
      " 93%|█████████▎| 1431/1542 [00:50<00:03, 28.61it/s]"
     ]
    },
    {
     "name": "stdout",
     "output_type": "stream",
     "text": [
      "Graph for 2019-10-15 already exists!\n",
      "Graph for 2019-10-16 already exists!\n",
      "Graph for 2019-10-17 already exists!\n",
      "Graph for 2019-10-18 already exists!\n",
      "Graph for 2019-10-21 already exists!\n",
      "Graph for 2019-10-22 already exists!\n"
     ]
    },
    {
     "name": "stderr",
     "output_type": "stream",
     "text": [
      " 93%|█████████▎| 1434/1542 [00:51<00:03, 28.46it/s]"
     ]
    },
    {
     "name": "stdout",
     "output_type": "stream",
     "text": [
      "Graph for 2019-10-23 already exists!\n",
      "Graph for 2019-10-24 already exists!\n",
      "Graph for 2019-10-25 already exists!\n",
      "Graph for 2019-10-28 already exists!\n",
      "Graph for 2019-10-29 already exists!\n",
      "Graph for 2019-10-30 already exists!\n"
     ]
    },
    {
     "name": "stderr",
     "output_type": "stream",
     "text": [
      " 93%|█████████▎| 1440/1542 [00:51<00:03, 28.17it/s]"
     ]
    },
    {
     "name": "stdout",
     "output_type": "stream",
     "text": [
      "Graph for 2019-10-31 already exists!\n",
      "Graph for 2019-11-01 already exists!\n",
      "Graph for 2019-11-04 already exists!\n",
      "Graph for 2019-11-05 already exists!\n",
      "Graph for 2019-11-06 already exists!\n",
      "Graph for 2019-11-07 already exists!\n"
     ]
    },
    {
     "name": "stderr",
     "output_type": "stream",
     "text": [
      " 94%|█████████▍| 1446/1542 [00:51<00:03, 28.06it/s]"
     ]
    },
    {
     "name": "stdout",
     "output_type": "stream",
     "text": [
      "Graph for 2019-11-08 already exists!\n",
      "Graph for 2019-11-11 already exists!\n",
      "Graph for 2019-11-12 already exists!\n",
      "Graph for 2019-11-13 already exists!\n",
      "Graph for 2019-11-14 already exists!\n",
      "Graph for 2019-11-15 already exists!\n"
     ]
    },
    {
     "name": "stderr",
     "output_type": "stream",
     "text": [
      " 94%|█████████▍| 1452/1542 [00:51<00:03, 28.34it/s]"
     ]
    },
    {
     "name": "stdout",
     "output_type": "stream",
     "text": [
      "Graph for 2019-11-18 already exists!\n",
      "Graph for 2019-11-19 already exists!\n",
      "Graph for 2019-11-20 already exists!\n",
      "Graph for 2019-11-21 already exists!\n",
      "Graph for 2019-11-22 already exists!\n",
      "Graph for 2019-11-25 already exists!\n"
     ]
    },
    {
     "name": "stderr",
     "output_type": "stream",
     "text": [
      " 95%|█████████▍| 1458/1542 [00:51<00:02, 28.22it/s]"
     ]
    },
    {
     "name": "stdout",
     "output_type": "stream",
     "text": [
      "Graph for 2019-11-26 already exists!\n",
      "Graph for 2019-11-27 already exists!\n",
      "Graph for 2019-11-29 already exists!\n",
      "Graph for 2019-12-02 already exists!\n",
      "Graph for 2019-12-03 already exists!\n",
      "Graph for 2019-12-04 already exists!\n"
     ]
    },
    {
     "name": "stderr",
     "output_type": "stream",
     "text": [
      " 95%|█████████▍| 1464/1542 [00:52<00:02, 28.37it/s]"
     ]
    },
    {
     "name": "stdout",
     "output_type": "stream",
     "text": [
      "Graph for 2019-12-05 already exists!\n",
      "Graph for 2019-12-06 already exists!\n",
      "Graph for 2019-12-09 already exists!\n",
      "Graph for 2019-12-10 already exists!\n",
      "Graph for 2019-12-11 already exists!\n",
      "Graph for 2019-12-12 already exists!\n"
     ]
    },
    {
     "name": "stderr",
     "output_type": "stream",
     "text": [
      " 95%|█████████▌| 1470/1542 [00:52<00:02, 28.21it/s]"
     ]
    },
    {
     "name": "stdout",
     "output_type": "stream",
     "text": [
      "Graph for 2019-12-13 already exists!\n",
      "Graph for 2019-12-16 already exists!\n",
      "Graph for 2019-12-17 already exists!\n",
      "Graph for 2019-12-18 already exists!\n",
      "Graph for 2019-12-19 already exists!\n",
      "Graph for 2019-12-20 already exists!\n"
     ]
    },
    {
     "name": "stderr",
     "output_type": "stream",
     "text": [
      " 96%|█████████▌| 1476/1542 [00:52<00:02, 28.34it/s]"
     ]
    },
    {
     "name": "stdout",
     "output_type": "stream",
     "text": [
      "Graph for 2019-12-23 already exists!\n",
      "Graph for 2019-12-24 already exists!\n",
      "Graph for 2019-12-26 already exists!\n",
      "Graph for 2019-12-27 already exists!\n",
      "Graph for 2019-12-30 already exists!\n",
      "Graph for 2019-12-31 already exists!\n"
     ]
    },
    {
     "name": "stderr",
     "output_type": "stream",
     "text": [
      " 96%|█████████▌| 1482/1542 [00:52<00:02, 28.52it/s]"
     ]
    },
    {
     "name": "stdout",
     "output_type": "stream",
     "text": [
      "Graph for 2020-01-02 already exists!\n",
      "Graph for 2020-01-03 already exists!\n",
      "Graph for 2020-01-06 already exists!\n",
      "Graph for 2020-01-07 already exists!\n",
      "Graph for 2020-01-08 already exists!\n",
      "Graph for 2020-01-09 already exists!\n"
     ]
    },
    {
     "name": "stderr",
     "output_type": "stream",
     "text": [
      " 96%|█████████▋| 1488/1542 [00:53<00:01, 28.52it/s]"
     ]
    },
    {
     "name": "stdout",
     "output_type": "stream",
     "text": [
      "Graph for 2020-01-10 already exists!\n",
      "Graph for 2020-01-13 already exists!\n",
      "Graph for 2020-01-14 already exists!\n",
      "Graph for 2020-01-15 already exists!\n",
      "Graph for 2020-01-16 already exists!\n",
      "Graph for 2020-01-17 already exists!\n"
     ]
    },
    {
     "name": "stderr",
     "output_type": "stream",
     "text": [
      " 97%|█████████▋| 1494/1542 [00:53<00:01, 28.40it/s]"
     ]
    },
    {
     "name": "stdout",
     "output_type": "stream",
     "text": [
      "Graph for 2020-01-21 already exists!\n",
      "Graph for 2020-01-22 already exists!\n",
      "Graph for 2020-01-23 already exists!\n",
      "Graph for 2020-01-24 already exists!\n",
      "Graph for 2020-01-27 already exists!\n",
      "Graph for 2020-01-28 already exists!\n"
     ]
    },
    {
     "name": "stderr",
     "output_type": "stream",
     "text": [
      " 97%|█████████▋| 1500/1542 [00:53<00:01, 28.15it/s]"
     ]
    },
    {
     "name": "stdout",
     "output_type": "stream",
     "text": [
      "Graph for 2020-01-29 already exists!\n",
      "Graph for 2020-01-30 already exists!\n",
      "Graph for 2020-01-31 already exists!\n",
      "Graph for 2020-02-03 already exists!\n",
      "Graph for 2020-02-04 already exists!\n",
      "Graph for 2020-02-05 already exists!\n"
     ]
    },
    {
     "name": "stderr",
     "output_type": "stream",
     "text": [
      " 98%|█████████▊| 1506/1542 [00:53<00:01, 27.91it/s]"
     ]
    },
    {
     "name": "stdout",
     "output_type": "stream",
     "text": [
      "Graph for 2020-02-06 already exists!\n",
      "Graph for 2020-02-07 already exists!\n",
      "Graph for 2020-02-10 already exists!\n",
      "Graph for 2020-02-11 already exists!\n",
      "Graph for 2020-02-12 already exists!\n",
      "Graph for 2020-02-13 already exists!\n"
     ]
    },
    {
     "name": "stderr",
     "output_type": "stream",
     "text": [
      " 98%|█████████▊| 1512/1542 [00:53<00:01, 28.11it/s]"
     ]
    },
    {
     "name": "stdout",
     "output_type": "stream",
     "text": [
      "Graph for 2020-02-14 already exists!\n",
      "Graph for 2020-02-18 already exists!\n",
      "Graph for 2020-02-19 already exists!\n",
      "Graph for 2020-02-20 already exists!\n",
      "Graph for 2020-02-21 already exists!\n",
      "Graph for 2020-02-24 already exists!\n"
     ]
    },
    {
     "name": "stderr",
     "output_type": "stream",
     "text": [
      " 98%|█████████▊| 1518/1542 [00:54<00:00, 27.83it/s]"
     ]
    },
    {
     "name": "stdout",
     "output_type": "stream",
     "text": [
      "Graph for 2020-02-25 already exists!\n",
      "Graph for 2020-02-26 already exists!\n",
      "Graph for 2020-02-27 already exists!\n",
      "Graph for 2020-02-28 already exists!\n",
      "Graph for 2020-03-02 already exists!\n",
      "Graph for 2020-03-03 already exists!\n"
     ]
    },
    {
     "name": "stderr",
     "output_type": "stream",
     "text": [
      " 99%|█████████▉| 1524/1542 [00:54<00:00, 27.64it/s]"
     ]
    },
    {
     "name": "stdout",
     "output_type": "stream",
     "text": [
      "Graph for 2020-03-04 already exists!\n",
      "Graph for 2020-03-05 already exists!\n",
      "Graph for 2020-03-06 already exists!\n",
      "Graph for 2020-03-09 already exists!\n",
      "Graph for 2020-03-10 already exists!\n",
      "Graph for 2020-03-11 already exists!\n"
     ]
    },
    {
     "name": "stderr",
     "output_type": "stream",
     "text": [
      " 99%|█████████▉| 1530/1542 [00:54<00:00, 26.84it/s]"
     ]
    },
    {
     "name": "stdout",
     "output_type": "stream",
     "text": [
      "Graph for 2020-03-12 already exists!\n",
      "Graph for 2020-03-13 already exists!\n",
      "Graph for 2020-03-16 already exists!\n",
      "Graph for 2020-03-17 already exists!\n",
      "Graph for 2020-03-18 already exists!\n",
      "Graph for 2020-03-19 already exists!\n"
     ]
    },
    {
     "name": "stderr",
     "output_type": "stream",
     "text": [
      "100%|█████████▉| 1536/1542 [00:54<00:00, 27.19it/s]"
     ]
    },
    {
     "name": "stdout",
     "output_type": "stream",
     "text": [
      "Graph for 2020-03-20 already exists!\n",
      "Graph for 2020-03-23 already exists!\n",
      "Graph for 2020-03-24 already exists!\n",
      "Graph for 2020-03-25 already exists!\n",
      "Graph for 2020-03-26 already exists!\n",
      "Graph for 2020-03-27 already exists!\n"
     ]
    },
    {
     "name": "stderr",
     "output_type": "stream",
     "text": [
      "100%|██████████| 1542/1542 [00:54<00:00, 28.06it/s]"
     ]
    },
    {
     "name": "stdout",
     "output_type": "stream",
     "text": [
      "Graph for 2020-03-30 already exists!\n",
      "Graph for 2020-03-31 already exists!\n",
      "Graph for 2020-04-01 already exists!\n"
     ]
    },
    {
     "name": "stderr",
     "output_type": "stream",
     "text": [
      "\n"
     ]
    }
   ],
   "source": [
    "stock_path = 'dataset\\\\dataset\\\\stocks'\n",
    "meta_path  = 'dataset\\\\dataset\\\\symbols_valid_meta.csv'\n",
    "nasdaq100_path = 'dataset\\\\nasdaq_100.csv'\n",
    "\n",
    "stock_data = NASDAQDataset(stock_path, meta_path, nasdaq100_path, \"2014-01-01\") # Collect all data after 2014-01-01\n",
    "stock_data.read_data()\n",
    "\n",
    "# Generate graphs for each day from the 30th data point (we need a minimum of 30 days to compute correlations)\n",
    "\n",
    "for date in tqdm(stock_data.data['AAPL'].index[30:]):\n",
    "    G = stock_data.daily_graph_generator(date)\n"
   ]
  },
  {
   "cell_type": "code",
   "execution_count": 3,
   "metadata": {},
   "outputs": [
    {
     "name": "stderr",
     "output_type": "stream",
     "text": [
      "  0%|          | 0/1000 [00:00<?, ?it/s]"
     ]
    },
    {
     "name": "stderr",
     "output_type": "stream",
     "text": [
      "100%|██████████| 1000/1000 [00:30<00:00, 32.97it/s]\n",
      "100%|██████████| 542/542 [00:16<00:00, 33.00it/s]\n"
     ]
    }
   ],
   "source": [
    "import random\n",
    "\n",
    "# Read the gml files and create PyG data objects (required only once)\n",
    "\n",
    "data_path = 'dataset\\\\graphs'\n",
    "data_list = [os.path.join(data_path, file) for file in os.listdir(data_path)]\n",
    "\n",
    "# Select 1000 random elements from data_list\n",
    "\n",
    "train_list = random.sample(data_list, 1000)\n",
    "test_list = [file for file in data_list if file not in train_list]\n",
    "\n",
    "train_loader = gnn_data_obj(train_list) # train on first 1000 graphs\n",
    "test_loader = gnn_data_obj(test_list) # test on remaining graphs\n",
    "\n",
    "# Save the train and test datasets\n",
    "\n",
    "save_path = 'dataset\\\\processed_dir'\n",
    "torch.save(test_loader, os.path.join(save_path, 'test_98.pt'))"
   ]
  },
  {
   "cell_type": "code",
   "execution_count": 4,
   "metadata": {},
   "outputs": [
    {
     "name": "stderr",
     "output_type": "stream",
     "text": [
      "C:\\Users\\wyatt\\AppData\\Local\\Temp\\ipykernel_20492\\966676984.py:8: FutureWarning: You are using `torch.load` with `weights_only=False` (the current default value), which uses the default pickle module implicitly. It is possible to construct malicious pickle data which will execute arbitrary code during unpickling (See https://github.com/pytorch/pytorch/blob/main/SECURITY.md#untrusted-models for more details). In a future release, the default value for `weights_only` will be flipped to `True`. This limits the functions that could be executed during unpickling. Arbitrary objects will no longer be allowed to be loaded via this mode unless they are explicitly allowlisted by the user via `torch.serialization.add_safe_globals`. We recommend you start setting `weights_only=True` for any use case where you don't have full control of the loaded file. Please open an issue on GitHub for any issues related to this experimental feature.\n",
      "  train_loader = torch.load(load_train_path)\n",
      "C:\\Users\\wyatt\\AppData\\Local\\Temp\\ipykernel_20492\\966676984.py:9: FutureWarning: You are using `torch.load` with `weights_only=False` (the current default value), which uses the default pickle module implicitly. It is possible to construct malicious pickle data which will execute arbitrary code during unpickling (See https://github.com/pytorch/pytorch/blob/main/SECURITY.md#untrusted-models for more details). In a future release, the default value for `weights_only` will be flipped to `True`. This limits the functions that could be executed during unpickling. Arbitrary objects will no longer be allowed to be loaded via this mode unless they are explicitly allowlisted by the user via `torch.serialization.add_safe_globals`. We recommend you start setting `weights_only=True` for any use case where you don't have full control of the loaded file. Please open an issue on GitHub for any issues related to this experimental feature.\n",
      "  test_loader = torch.load(load_test_path)\n"
     ]
    }
   ],
   "source": [
    "# Load the processed data (saves time)\n",
    "\n",
    "load_train_path = 'dataset\\\\processed_dir\\\\train_98.pt'\n",
    "load_test_path = 'dataset\\\\processed_dir\\\\train_98.pt'\n",
    "\n",
    "# Load the list of Data objects\n",
    "\n",
    "train_loader = torch.load(load_train_path)\n",
    "test_loader = torch.load(load_test_path)"
   ]
  },
  {
   "cell_type": "code",
   "execution_count": 5,
   "metadata": {},
   "outputs": [],
   "source": [
    "class StockGAT(torch.nn.Module):\n",
    "\n",
    "    # A 3-layer GAT for node regression\n",
    "    \n",
    "    def __init__(self):\n",
    "        \n",
    "        super(StockGAT, self).__init__()\n",
    "\n",
    "        self.conv1 = GATConv(30, 128, heads = 2, concat= False, dropout = 0.3)\n",
    "        self.conv2 = GATConv(128, 1, heads = 2, concat = False, dropout = 0.3)\n",
    "        # self.conv3 = GATConv(32, 1, heads = 2, concat = False, dropout = 0.3, add_self_loops=True)        \n",
    "    \n",
    "    def forward(self, data):\n",
    "\n",
    "        x, edge_index, edge_attr = data.x, data.edge_index, data.edge_attr\n",
    "\n",
    "        x = self.conv1(x, edge_index)\n",
    "        x = torch.relu(x)\n",
    "        x = F.dropout(x, p = 0.3, training=self.training)\n",
    "        \n",
    "        # x = self.conv2(x, edge_index)\n",
    "        # x = torch.relu(x)\n",
    "        # x = F.dropout(x, p = 0.3, training=self.training)\n",
    "        \n",
    "        x = self.conv2(x, edge_index)\n",
    "\n",
    "        return x"
   ]
  },
  {
   "cell_type": "code",
   "execution_count": 6,
   "metadata": {},
   "outputs": [],
   "source": [
    "# # Check if there are edges other than self loops\n",
    "\n",
    "# count = 0\n",
    "\n",
    "# for data in train_loader:\n",
    "    \n",
    "#     G = nx.read_gml(data)\n",
    "\n",
    "#     if len(G.edges) > len(G.nodes):\n",
    "#         print(data)\n",
    "#         count += 1"
   ]
  },
  {
   "cell_type": "markdown",
   "metadata": {},
   "source": [
    "### Training"
   ]
  },
  {
   "cell_type": "code",
   "execution_count": 7,
   "metadata": {},
   "outputs": [],
   "source": [
    "# Initialize the StockGNN model and optimizer\n",
    "\n",
    "device = torch.device('cuda' if torch.cuda.is_available() else 'cpu')\n",
    "\n",
    "stock_gcn_model = StockGCN().to(device)\n",
    "gcn_optimizer = torch.optim.Adam(stock_gcn_model.parameters(), lr=0.001, weight_decay=1e-5)\n",
    "\n",
    "stock_gat_model = StockGAT().to(device)\n",
    "gat_optimizer = torch.optim.Adam(stock_gat_model.parameters(), lr=0.0008, weight_decay=1e-5)\n",
    "\n",
    "graph_sage_model = StockGraphSAGE().to(device)\n",
    "sage_optimizer = torch.optim.Adam(graph_sage_model.parameters(), lr=0.0001, weight_decay=1e-5)"
   ]
  },
  {
   "cell_type": "code",
   "execution_count": 8,
   "metadata": {},
   "outputs": [
    {
     "name": "stdout",
     "output_type": "stream",
     "text": [
      "MAPE Linear Regression: 0.028885844497941435\n",
      "MAPE Moving Average: 0.019437339208088815\n",
      "MAPE Exponential Smoothing: 0.018369649408385157\n",
      "MAPE Holt Winters: 0.014053557375911623\n"
     ]
    }
   ],
   "source": [
    "def eval_baseline(test_loader):\n",
    "\n",
    "    total_mape_linr = 0\n",
    "    total_mape_mov_avg = 0\n",
    "    total_mape_exp_smoothing = 0\n",
    "    total_mape_holt_winters = 0\n",
    "    \n",
    "    for data in test_loader:\n",
    "\n",
    "        y = data.y\n",
    "\n",
    "        # Compute the Mean Absolute Percentage Error\n",
    "\n",
    "        mape_linr = float(torch.mean(torch.abs((y - data.linr_regr) / (y + 1e-7))))\n",
    "        mape_mov_avg = float(torch.mean(torch.abs((y - data.mov_avg) / (y + 1e-7))))\n",
    "        mape_exp_smoothing = float(torch.mean(torch.abs((y - data.exp_smoothing) / (y + 1e-7))))\n",
    "        mape_holt_winters = float(torch.mean(torch.abs((y - data.holt_winters) / (y + 1e-7))))\n",
    "\n",
    "        total_mape_linr += mape_linr\n",
    "        total_mape_mov_avg += mape_mov_avg\n",
    "        total_mape_exp_smoothing += mape_exp_smoothing\n",
    "        total_mape_holt_winters += mape_holt_winters\n",
    "\n",
    "    return total_mape_linr/len(test_loader), total_mape_mov_avg/len(test_loader), total_mape_exp_smoothing/len(test_loader), total_mape_holt_winters/len(test_loader)\n",
    "\n",
    "mape_linr, mape_mov_avg, mape_exp_smoothing, mape_holt_winters = eval_baseline(test_loader)\n",
    "\n",
    "print(f'MAPE Linear Regression: {mape_linr}')\n",
    "print(f'MAPE Moving Average: {mape_mov_avg}')\n",
    "print(f'MAPE Exponential Smoothing: {mape_exp_smoothing}')\n",
    "print(f'MAPE Holt Winters: {mape_holt_winters}')"
   ]
  },
  {
   "cell_type": "code",
   "execution_count": 9,
   "metadata": {},
   "outputs": [
    {
     "name": "stderr",
     "output_type": "stream",
     "text": [
      "  0%|          | 1/200 [00:06<20:59,  6.33s/it]"
     ]
    },
    {
     "name": "stdout",
     "output_type": "stream",
     "text": [
      "Epoch 000, Train Loss: 2653.7436, Val MAPE: 0.3753\n"
     ]
    },
    {
     "name": "stderr",
     "output_type": "stream",
     "text": [
      "  6%|▌         | 11/200 [01:01<17:11,  5.46s/it]"
     ]
    },
    {
     "name": "stdout",
     "output_type": "stream",
     "text": [
      "Epoch 010, Train Loss: 87.0456, Val MAPE: 0.0337\n"
     ]
    },
    {
     "name": "stderr",
     "output_type": "stream",
     "text": [
      " 10%|█         | 21/200 [01:56<16:21,  5.48s/it]"
     ]
    },
    {
     "name": "stdout",
     "output_type": "stream",
     "text": [
      "Epoch 020, Train Loss: 73.5720, Val MAPE: 0.0232\n"
     ]
    },
    {
     "name": "stderr",
     "output_type": "stream",
     "text": [
      " 16%|█▌        | 31/200 [02:51<15:46,  5.60s/it]"
     ]
    },
    {
     "name": "stdout",
     "output_type": "stream",
     "text": [
      "Epoch 030, Train Loss: 67.2561, Val MAPE: 0.0177\n"
     ]
    },
    {
     "name": "stderr",
     "output_type": "stream",
     "text": [
      " 20%|██        | 41/200 [03:49<15:03,  5.68s/it]"
     ]
    },
    {
     "name": "stdout",
     "output_type": "stream",
     "text": [
      "Epoch 040, Train Loss: 64.0850, Val MAPE: 0.0159\n"
     ]
    },
    {
     "name": "stderr",
     "output_type": "stream",
     "text": [
      " 26%|██▌       | 51/200 [04:44<13:44,  5.53s/it]"
     ]
    },
    {
     "name": "stdout",
     "output_type": "stream",
     "text": [
      "Epoch 050, Train Loss: 61.5977, Val MAPE: 0.0146\n"
     ]
    },
    {
     "name": "stderr",
     "output_type": "stream",
     "text": [
      " 30%|███       | 61/200 [05:42<13:08,  5.67s/it]"
     ]
    },
    {
     "name": "stdout",
     "output_type": "stream",
     "text": [
      "Epoch 060, Train Loss: 59.7183, Val MAPE: 0.0150\n"
     ]
    },
    {
     "name": "stderr",
     "output_type": "stream",
     "text": [
      " 36%|███▌      | 71/200 [06:39<12:06,  5.63s/it]"
     ]
    },
    {
     "name": "stdout",
     "output_type": "stream",
     "text": [
      "Epoch 070, Train Loss: 56.8222, Val MAPE: 0.0152\n"
     ]
    },
    {
     "name": "stderr",
     "output_type": "stream",
     "text": [
      " 40%|████      | 81/200 [07:35<11:03,  5.57s/it]"
     ]
    },
    {
     "name": "stdout",
     "output_type": "stream",
     "text": [
      "Epoch 080, Train Loss: 56.4126, Val MAPE: 0.0153\n"
     ]
    },
    {
     "name": "stderr",
     "output_type": "stream",
     "text": [
      " 46%|████▌     | 91/200 [08:30<09:58,  5.49s/it]"
     ]
    },
    {
     "name": "stdout",
     "output_type": "stream",
     "text": [
      "Epoch 090, Train Loss: 54.8871, Val MAPE: 0.0157\n"
     ]
    },
    {
     "name": "stderr",
     "output_type": "stream",
     "text": [
      " 50%|█████     | 101/200 [09:25<09:05,  5.51s/it]"
     ]
    },
    {
     "name": "stdout",
     "output_type": "stream",
     "text": [
      "Epoch 100, Train Loss: 53.5548, Val MAPE: 0.0158\n"
     ]
    },
    {
     "name": "stderr",
     "output_type": "stream",
     "text": [
      " 56%|█████▌    | 111/200 [10:20<08:11,  5.53s/it]"
     ]
    },
    {
     "name": "stdout",
     "output_type": "stream",
     "text": [
      "Epoch 110, Train Loss: 52.4596, Val MAPE: 0.0158\n"
     ]
    },
    {
     "name": "stderr",
     "output_type": "stream",
     "text": [
      " 60%|██████    | 121/200 [11:17<07:29,  5.69s/it]"
     ]
    },
    {
     "name": "stdout",
     "output_type": "stream",
     "text": [
      "Epoch 120, Train Loss: 51.5848, Val MAPE: 0.0170\n"
     ]
    },
    {
     "name": "stderr",
     "output_type": "stream",
     "text": [
      " 64%|██████▍   | 128/200 [12:02<06:46,  5.64s/it]\n"
     ]
    },
    {
     "ename": "KeyboardInterrupt",
     "evalue": "",
     "output_type": "error",
     "traceback": [
      "\u001b[1;31m---------------------------------------------------------------------------\u001b[0m",
      "\u001b[1;31mKeyboardInterrupt\u001b[0m                         Traceback (most recent call last)",
      "Cell \u001b[1;32mIn[9], line 7\u001b[0m\n\u001b[0;32m      1\u001b[0m \u001b[38;5;66;03m# TRAIN!\u001b[39;00m\n\u001b[0;32m      2\u001b[0m \n\u001b[0;32m      3\u001b[0m \u001b[38;5;66;03m# train_loss, test_mape = train(stock_gcn_model, gcn_optimizer, train_loader, train_loader, num_epochs=200)\u001b[39;00m\n\u001b[0;32m      4\u001b[0m \n\u001b[0;32m      5\u001b[0m \u001b[38;5;66;03m# train_loss_gat, test_mape_gat = train(stock_gat_model, gat_optimizer, train_loader, test_loader, num_epochs=200)\u001b[39;00m\n\u001b[1;32m----> 7\u001b[0m train_loss, test_mape \u001b[38;5;241m=\u001b[39m \u001b[43mtrain\u001b[49m\u001b[43m(\u001b[49m\u001b[43mgraph_sage_model\u001b[49m\u001b[43m,\u001b[49m\u001b[43m \u001b[49m\u001b[43msage_optimizer\u001b[49m\u001b[43m,\u001b[49m\u001b[43m \u001b[49m\u001b[43mtrain_loader\u001b[49m\u001b[43m,\u001b[49m\u001b[43m \u001b[49m\u001b[43mtest_loader\u001b[49m\u001b[43m,\u001b[49m\u001b[43m \u001b[49m\u001b[43mnum_epochs\u001b[49m\u001b[38;5;241;43m=\u001b[39;49m\u001b[38;5;241;43m200\u001b[39;49m\u001b[43m)\u001b[49m\n",
      "File \u001b[1;32mc:\\Users\\wyatt\\csgraphs\\GNN-Stock-Market-Prediction\\models\\gnn.py:227\u001b[0m, in \u001b[0;36mtrain\u001b[1;34m(model, optimizer, train_loader, test_loader, num_epochs)\u001b[0m\n\u001b[0;32m    225\u001b[0m average_loss \u001b[38;5;241m=\u001b[39m total_train_loss\u001b[38;5;241m/\u001b[39m\u001b[38;5;28mlen\u001b[39m(train_loader)\n\u001b[0;32m    226\u001b[0m average_train_loss\u001b[38;5;241m.\u001b[39mappend(average_loss)\n\u001b[1;32m--> 227\u001b[0m test_mape \u001b[38;5;241m=\u001b[39m \u001b[38;5;28;43meval\u001b[39;49m\u001b[43m(\u001b[49m\u001b[43mmodel\u001b[49m\u001b[43m,\u001b[49m\u001b[43m \u001b[49m\u001b[43mtest_loader\u001b[49m\u001b[43m)\u001b[49m\n\u001b[0;32m    228\u001b[0m average_test_mape\u001b[38;5;241m.\u001b[39mappend(test_mape)\n\u001b[0;32m    230\u001b[0m \u001b[38;5;28;01mif\u001b[39;00m epoch \u001b[38;5;241m%\u001b[39m \u001b[38;5;241m10\u001b[39m \u001b[38;5;241m==\u001b[39m \u001b[38;5;241m0\u001b[39m:\n",
      "File \u001b[1;32mc:\\Users\\wyatt\\csgraphs\\GNN-Stock-Market-Prediction\\models\\gnn.py:245\u001b[0m, in \u001b[0;36meval\u001b[1;34m(model, test_loader)\u001b[0m\n\u001b[0;32m    241\u001b[0m \u001b[38;5;28;01mwith\u001b[39;00m torch\u001b[38;5;241m.\u001b[39mno_grad():\n\u001b[0;32m    243\u001b[0m     \u001b[38;5;28;01mfor\u001b[39;00m data \u001b[38;5;129;01min\u001b[39;00m test_loader:\n\u001b[1;32m--> 245\u001b[0m         out \u001b[38;5;241m=\u001b[39m \u001b[43mmodel\u001b[49m\u001b[43m(\u001b[49m\u001b[43mdata\u001b[49m\u001b[43m)\u001b[49m\n\u001b[0;32m    246\u001b[0m         out \u001b[38;5;241m=\u001b[39m out\u001b[38;5;241m.\u001b[39mto(\u001b[38;5;124m'\u001b[39m\u001b[38;5;124mcuda\u001b[39m\u001b[38;5;124m'\u001b[39m)\n\u001b[0;32m    247\u001b[0m         \u001b[38;5;66;03m# Compute the Mean Absolute Percentage Error\u001b[39;00m\n",
      "File \u001b[1;32mc:\\Users\\wyatt\\.conda\\envs\\Python38\\lib\\site-packages\\torch\\nn\\modules\\module.py:1553\u001b[0m, in \u001b[0;36mModule._wrapped_call_impl\u001b[1;34m(self, *args, **kwargs)\u001b[0m\n\u001b[0;32m   1551\u001b[0m     \u001b[38;5;28;01mreturn\u001b[39;00m \u001b[38;5;28mself\u001b[39m\u001b[38;5;241m.\u001b[39m_compiled_call_impl(\u001b[38;5;241m*\u001b[39margs, \u001b[38;5;241m*\u001b[39m\u001b[38;5;241m*\u001b[39mkwargs)  \u001b[38;5;66;03m# type: ignore[misc]\u001b[39;00m\n\u001b[0;32m   1552\u001b[0m \u001b[38;5;28;01melse\u001b[39;00m:\n\u001b[1;32m-> 1553\u001b[0m     \u001b[38;5;28;01mreturn\u001b[39;00m \u001b[38;5;28;43mself\u001b[39;49m\u001b[38;5;241;43m.\u001b[39;49m\u001b[43m_call_impl\u001b[49m\u001b[43m(\u001b[49m\u001b[38;5;241;43m*\u001b[39;49m\u001b[43margs\u001b[49m\u001b[43m,\u001b[49m\u001b[43m \u001b[49m\u001b[38;5;241;43m*\u001b[39;49m\u001b[38;5;241;43m*\u001b[39;49m\u001b[43mkwargs\u001b[49m\u001b[43m)\u001b[49m\n",
      "File \u001b[1;32mc:\\Users\\wyatt\\.conda\\envs\\Python38\\lib\\site-packages\\torch\\nn\\modules\\module.py:1562\u001b[0m, in \u001b[0;36mModule._call_impl\u001b[1;34m(self, *args, **kwargs)\u001b[0m\n\u001b[0;32m   1557\u001b[0m \u001b[38;5;66;03m# If we don't have any hooks, we want to skip the rest of the logic in\u001b[39;00m\n\u001b[0;32m   1558\u001b[0m \u001b[38;5;66;03m# this function, and just call forward.\u001b[39;00m\n\u001b[0;32m   1559\u001b[0m \u001b[38;5;28;01mif\u001b[39;00m \u001b[38;5;129;01mnot\u001b[39;00m (\u001b[38;5;28mself\u001b[39m\u001b[38;5;241m.\u001b[39m_backward_hooks \u001b[38;5;129;01mor\u001b[39;00m \u001b[38;5;28mself\u001b[39m\u001b[38;5;241m.\u001b[39m_backward_pre_hooks \u001b[38;5;129;01mor\u001b[39;00m \u001b[38;5;28mself\u001b[39m\u001b[38;5;241m.\u001b[39m_forward_hooks \u001b[38;5;129;01mor\u001b[39;00m \u001b[38;5;28mself\u001b[39m\u001b[38;5;241m.\u001b[39m_forward_pre_hooks\n\u001b[0;32m   1560\u001b[0m         \u001b[38;5;129;01mor\u001b[39;00m _global_backward_pre_hooks \u001b[38;5;129;01mor\u001b[39;00m _global_backward_hooks\n\u001b[0;32m   1561\u001b[0m         \u001b[38;5;129;01mor\u001b[39;00m _global_forward_hooks \u001b[38;5;129;01mor\u001b[39;00m _global_forward_pre_hooks):\n\u001b[1;32m-> 1562\u001b[0m     \u001b[38;5;28;01mreturn\u001b[39;00m \u001b[43mforward_call\u001b[49m\u001b[43m(\u001b[49m\u001b[38;5;241;43m*\u001b[39;49m\u001b[43margs\u001b[49m\u001b[43m,\u001b[49m\u001b[43m \u001b[49m\u001b[38;5;241;43m*\u001b[39;49m\u001b[38;5;241;43m*\u001b[39;49m\u001b[43mkwargs\u001b[49m\u001b[43m)\u001b[49m\n\u001b[0;32m   1564\u001b[0m \u001b[38;5;28;01mtry\u001b[39;00m:\n\u001b[0;32m   1565\u001b[0m     result \u001b[38;5;241m=\u001b[39m \u001b[38;5;28;01mNone\u001b[39;00m\n",
      "File \u001b[1;32mc:\\Users\\wyatt\\csgraphs\\GNN-Stock-Market-Prediction\\models\\gnn.py:184\u001b[0m, in \u001b[0;36mStockGraphSAGE.forward\u001b[1;34m(self, data)\u001b[0m\n\u001b[0;32m    181\u001b[0m x \u001b[38;5;241m=\u001b[39m torch\u001b[38;5;241m.\u001b[39mrelu(x)\n\u001b[0;32m    182\u001b[0m x \u001b[38;5;241m=\u001b[39m F\u001b[38;5;241m.\u001b[39mdropout(x, p\u001b[38;5;241m=\u001b[39m\u001b[38;5;241m0.3\u001b[39m, training\u001b[38;5;241m=\u001b[39m\u001b[38;5;28mself\u001b[39m\u001b[38;5;241m.\u001b[39mtraining)\n\u001b[1;32m--> 184\u001b[0m x \u001b[38;5;241m=\u001b[39m \u001b[38;5;28;43mself\u001b[39;49m\u001b[38;5;241;43m.\u001b[39;49m\u001b[43mconv2\u001b[49m\u001b[43m(\u001b[49m\u001b[43mx\u001b[49m\u001b[43m,\u001b[49m\u001b[43m \u001b[49m\u001b[43medge_index\u001b[49m\u001b[43m)\u001b[49m\n\u001b[0;32m    185\u001b[0m x \u001b[38;5;241m=\u001b[39m torch\u001b[38;5;241m.\u001b[39mrelu(x)\n\u001b[0;32m    186\u001b[0m x \u001b[38;5;241m=\u001b[39m F\u001b[38;5;241m.\u001b[39mdropout(x, p\u001b[38;5;241m=\u001b[39m\u001b[38;5;241m0.3\u001b[39m, training\u001b[38;5;241m=\u001b[39m\u001b[38;5;28mself\u001b[39m\u001b[38;5;241m.\u001b[39mtraining)\n",
      "File \u001b[1;32mc:\\Users\\wyatt\\.conda\\envs\\Python38\\lib\\site-packages\\torch\\nn\\modules\\module.py:1553\u001b[0m, in \u001b[0;36mModule._wrapped_call_impl\u001b[1;34m(self, *args, **kwargs)\u001b[0m\n\u001b[0;32m   1551\u001b[0m     \u001b[38;5;28;01mreturn\u001b[39;00m \u001b[38;5;28mself\u001b[39m\u001b[38;5;241m.\u001b[39m_compiled_call_impl(\u001b[38;5;241m*\u001b[39margs, \u001b[38;5;241m*\u001b[39m\u001b[38;5;241m*\u001b[39mkwargs)  \u001b[38;5;66;03m# type: ignore[misc]\u001b[39;00m\n\u001b[0;32m   1552\u001b[0m \u001b[38;5;28;01melse\u001b[39;00m:\n\u001b[1;32m-> 1553\u001b[0m     \u001b[38;5;28;01mreturn\u001b[39;00m \u001b[38;5;28;43mself\u001b[39;49m\u001b[38;5;241;43m.\u001b[39;49m\u001b[43m_call_impl\u001b[49m\u001b[43m(\u001b[49m\u001b[38;5;241;43m*\u001b[39;49m\u001b[43margs\u001b[49m\u001b[43m,\u001b[49m\u001b[43m \u001b[49m\u001b[38;5;241;43m*\u001b[39;49m\u001b[38;5;241;43m*\u001b[39;49m\u001b[43mkwargs\u001b[49m\u001b[43m)\u001b[49m\n",
      "File \u001b[1;32mc:\\Users\\wyatt\\.conda\\envs\\Python38\\lib\\site-packages\\torch\\nn\\modules\\module.py:1562\u001b[0m, in \u001b[0;36mModule._call_impl\u001b[1;34m(self, *args, **kwargs)\u001b[0m\n\u001b[0;32m   1557\u001b[0m \u001b[38;5;66;03m# If we don't have any hooks, we want to skip the rest of the logic in\u001b[39;00m\n\u001b[0;32m   1558\u001b[0m \u001b[38;5;66;03m# this function, and just call forward.\u001b[39;00m\n\u001b[0;32m   1559\u001b[0m \u001b[38;5;28;01mif\u001b[39;00m \u001b[38;5;129;01mnot\u001b[39;00m (\u001b[38;5;28mself\u001b[39m\u001b[38;5;241m.\u001b[39m_backward_hooks \u001b[38;5;129;01mor\u001b[39;00m \u001b[38;5;28mself\u001b[39m\u001b[38;5;241m.\u001b[39m_backward_pre_hooks \u001b[38;5;129;01mor\u001b[39;00m \u001b[38;5;28mself\u001b[39m\u001b[38;5;241m.\u001b[39m_forward_hooks \u001b[38;5;129;01mor\u001b[39;00m \u001b[38;5;28mself\u001b[39m\u001b[38;5;241m.\u001b[39m_forward_pre_hooks\n\u001b[0;32m   1560\u001b[0m         \u001b[38;5;129;01mor\u001b[39;00m _global_backward_pre_hooks \u001b[38;5;129;01mor\u001b[39;00m _global_backward_hooks\n\u001b[0;32m   1561\u001b[0m         \u001b[38;5;129;01mor\u001b[39;00m _global_forward_hooks \u001b[38;5;129;01mor\u001b[39;00m _global_forward_pre_hooks):\n\u001b[1;32m-> 1562\u001b[0m     \u001b[38;5;28;01mreturn\u001b[39;00m \u001b[43mforward_call\u001b[49m\u001b[43m(\u001b[49m\u001b[38;5;241;43m*\u001b[39;49m\u001b[43margs\u001b[49m\u001b[43m,\u001b[49m\u001b[43m \u001b[49m\u001b[38;5;241;43m*\u001b[39;49m\u001b[38;5;241;43m*\u001b[39;49m\u001b[43mkwargs\u001b[49m\u001b[43m)\u001b[49m\n\u001b[0;32m   1564\u001b[0m \u001b[38;5;28;01mtry\u001b[39;00m:\n\u001b[0;32m   1565\u001b[0m     result \u001b[38;5;241m=\u001b[39m \u001b[38;5;28;01mNone\u001b[39;00m\n",
      "File \u001b[1;32mc:\\Users\\wyatt\\.conda\\envs\\Python38\\lib\\site-packages\\torch_geometric\\nn\\conv\\sage_conv.py:131\u001b[0m, in \u001b[0;36mSAGEConv.forward\u001b[1;34m(self, x, edge_index, size)\u001b[0m\n\u001b[0;32m    129\u001b[0m \u001b[38;5;66;03m# propagate_type: (x: OptPairTensor)\u001b[39;00m\n\u001b[0;32m    130\u001b[0m out \u001b[38;5;241m=\u001b[39m \u001b[38;5;28mself\u001b[39m\u001b[38;5;241m.\u001b[39mpropagate(edge_index, x\u001b[38;5;241m=\u001b[39mx, size\u001b[38;5;241m=\u001b[39msize)\n\u001b[1;32m--> 131\u001b[0m out \u001b[38;5;241m=\u001b[39m \u001b[38;5;28;43mself\u001b[39;49m\u001b[38;5;241;43m.\u001b[39;49m\u001b[43mlin_l\u001b[49m\u001b[43m(\u001b[49m\u001b[43mout\u001b[49m\u001b[43m)\u001b[49m\n\u001b[0;32m    133\u001b[0m x_r \u001b[38;5;241m=\u001b[39m x[\u001b[38;5;241m1\u001b[39m]\n\u001b[0;32m    134\u001b[0m \u001b[38;5;28;01mif\u001b[39;00m \u001b[38;5;28mself\u001b[39m\u001b[38;5;241m.\u001b[39mroot_weight \u001b[38;5;129;01mand\u001b[39;00m x_r \u001b[38;5;129;01mis\u001b[39;00m \u001b[38;5;129;01mnot\u001b[39;00m \u001b[38;5;28;01mNone\u001b[39;00m:\n",
      "File \u001b[1;32mc:\\Users\\wyatt\\.conda\\envs\\Python38\\lib\\site-packages\\torch\\nn\\modules\\module.py:1553\u001b[0m, in \u001b[0;36mModule._wrapped_call_impl\u001b[1;34m(self, *args, **kwargs)\u001b[0m\n\u001b[0;32m   1551\u001b[0m     \u001b[38;5;28;01mreturn\u001b[39;00m \u001b[38;5;28mself\u001b[39m\u001b[38;5;241m.\u001b[39m_compiled_call_impl(\u001b[38;5;241m*\u001b[39margs, \u001b[38;5;241m*\u001b[39m\u001b[38;5;241m*\u001b[39mkwargs)  \u001b[38;5;66;03m# type: ignore[misc]\u001b[39;00m\n\u001b[0;32m   1552\u001b[0m \u001b[38;5;28;01melse\u001b[39;00m:\n\u001b[1;32m-> 1553\u001b[0m     \u001b[38;5;28;01mreturn\u001b[39;00m \u001b[38;5;28;43mself\u001b[39;49m\u001b[38;5;241;43m.\u001b[39;49m\u001b[43m_call_impl\u001b[49m\u001b[43m(\u001b[49m\u001b[38;5;241;43m*\u001b[39;49m\u001b[43margs\u001b[49m\u001b[43m,\u001b[49m\u001b[43m \u001b[49m\u001b[38;5;241;43m*\u001b[39;49m\u001b[38;5;241;43m*\u001b[39;49m\u001b[43mkwargs\u001b[49m\u001b[43m)\u001b[49m\n",
      "File \u001b[1;32mc:\\Users\\wyatt\\.conda\\envs\\Python38\\lib\\site-packages\\torch\\nn\\modules\\module.py:1562\u001b[0m, in \u001b[0;36mModule._call_impl\u001b[1;34m(self, *args, **kwargs)\u001b[0m\n\u001b[0;32m   1557\u001b[0m \u001b[38;5;66;03m# If we don't have any hooks, we want to skip the rest of the logic in\u001b[39;00m\n\u001b[0;32m   1558\u001b[0m \u001b[38;5;66;03m# this function, and just call forward.\u001b[39;00m\n\u001b[0;32m   1559\u001b[0m \u001b[38;5;28;01mif\u001b[39;00m \u001b[38;5;129;01mnot\u001b[39;00m (\u001b[38;5;28mself\u001b[39m\u001b[38;5;241m.\u001b[39m_backward_hooks \u001b[38;5;129;01mor\u001b[39;00m \u001b[38;5;28mself\u001b[39m\u001b[38;5;241m.\u001b[39m_backward_pre_hooks \u001b[38;5;129;01mor\u001b[39;00m \u001b[38;5;28mself\u001b[39m\u001b[38;5;241m.\u001b[39m_forward_hooks \u001b[38;5;129;01mor\u001b[39;00m \u001b[38;5;28mself\u001b[39m\u001b[38;5;241m.\u001b[39m_forward_pre_hooks\n\u001b[0;32m   1560\u001b[0m         \u001b[38;5;129;01mor\u001b[39;00m _global_backward_pre_hooks \u001b[38;5;129;01mor\u001b[39;00m _global_backward_hooks\n\u001b[0;32m   1561\u001b[0m         \u001b[38;5;129;01mor\u001b[39;00m _global_forward_hooks \u001b[38;5;129;01mor\u001b[39;00m _global_forward_pre_hooks):\n\u001b[1;32m-> 1562\u001b[0m     \u001b[38;5;28;01mreturn\u001b[39;00m \u001b[43mforward_call\u001b[49m\u001b[43m(\u001b[49m\u001b[38;5;241;43m*\u001b[39;49m\u001b[43margs\u001b[49m\u001b[43m,\u001b[49m\u001b[43m \u001b[49m\u001b[38;5;241;43m*\u001b[39;49m\u001b[38;5;241;43m*\u001b[39;49m\u001b[43mkwargs\u001b[49m\u001b[43m)\u001b[49m\n\u001b[0;32m   1564\u001b[0m \u001b[38;5;28;01mtry\u001b[39;00m:\n\u001b[0;32m   1565\u001b[0m     result \u001b[38;5;241m=\u001b[39m \u001b[38;5;28;01mNone\u001b[39;00m\n",
      "File \u001b[1;32mc:\\Users\\wyatt\\.conda\\envs\\Python38\\lib\\site-packages\\torch_geometric\\nn\\dense\\linear.py:130\u001b[0m, in \u001b[0;36mLinear.forward\u001b[1;34m(self, x)\u001b[0m\n\u001b[0;32m    125\u001b[0m \u001b[38;5;28;01mdef\u001b[39;00m \u001b[38;5;21mforward\u001b[39m(\u001b[38;5;28mself\u001b[39m, x: Tensor) \u001b[38;5;241m-\u001b[39m\u001b[38;5;241m>\u001b[39m Tensor:\n\u001b[0;32m    126\u001b[0m \u001b[38;5;250m    \u001b[39m\u001b[38;5;124mr\u001b[39m\u001b[38;5;124;03m\"\"\"\u001b[39;00m\n\u001b[0;32m    127\u001b[0m \u001b[38;5;124;03m    Args:\u001b[39;00m\n\u001b[0;32m    128\u001b[0m \u001b[38;5;124;03m        x (torch.Tensor): The input features.\u001b[39;00m\n\u001b[0;32m    129\u001b[0m \u001b[38;5;124;03m    \"\"\"\u001b[39;00m\n\u001b[1;32m--> 130\u001b[0m     \u001b[38;5;28;01mreturn\u001b[39;00m \u001b[43mF\u001b[49m\u001b[38;5;241;43m.\u001b[39;49m\u001b[43mlinear\u001b[49m\u001b[43m(\u001b[49m\u001b[43mx\u001b[49m\u001b[43m,\u001b[49m\u001b[43m \u001b[49m\u001b[38;5;28;43mself\u001b[39;49m\u001b[38;5;241;43m.\u001b[39;49m\u001b[43mweight\u001b[49m\u001b[43m,\u001b[49m\u001b[43m \u001b[49m\u001b[38;5;28;43mself\u001b[39;49m\u001b[38;5;241;43m.\u001b[39;49m\u001b[43mbias\u001b[49m\u001b[43m)\u001b[49m\n",
      "\u001b[1;31mKeyboardInterrupt\u001b[0m: "
     ]
    }
   ],
   "source": [
    "# TRAIN!\n",
    "\n",
    "# train_loss, test_mape = train(stock_gcn_model, gcn_optimizer, train_loader, train_loader, num_epochs=200)\n",
    "\n",
    "# train_loss_gat, test_mape_gat = train(stock_gat_model, gat_optimizer, train_loader, test_loader, num_epochs=200)\n",
    "\n",
    "train_loss, test_mape = train(graph_sage_model, sage_optimizer, train_loader, test_loader, num_epochs=200)"
   ]
  },
  {
   "cell_type": "code",
   "execution_count": null,
   "metadata": {},
   "outputs": [],
   "source": [
    "# Plot the validation MAPE\n",
    "\n",
    "plt.title('Validation MAPE')\n",
    "#plt.plot(test_mape, label = 'GCN')\n",
    "#plt.plot(test_mape_gat, label = 'GAT')\n",
    "plt.plot(test_mape, label = 'GraphSAGE')\n",
    "plt.legend()\n",
    "plt.xlabel('Epochs')\n",
    "plt.ylabel('Mean Absolute Percentage Error')\n",
    "plt.show()"
   ]
  }
 ],
 "metadata": {
  "kernelspec": {
   "display_name": "Python38",
   "language": "python",
   "name": "python3"
  },
  "language_info": {
   "codemirror_mode": {
    "name": "ipython",
    "version": 3
   },
   "file_extension": ".py",
   "mimetype": "text/x-python",
   "name": "python",
   "nbconvert_exporter": "python",
   "pygments_lexer": "ipython3",
   "version": "3.8.19"
  }
 },
 "nbformat": 4,
 "nbformat_minor": 2
}
