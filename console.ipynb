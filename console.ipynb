{
 "cells": [
  {
   "cell_type": "markdown",
   "metadata": {},
   "source": [
    "### Stock Market Prediction using Graph Neural Networks"
   ]
  },
  {
   "cell_type": "code",
   "execution_count": 1,
   "metadata": {},
   "outputs": [],
   "source": [
    "from dataset.data import *\n",
    "from models.gnn import *\n",
    "from datetime import datetime"
   ]
  },
  {
   "cell_type": "markdown",
   "metadata": {},
   "source": [
    "### Data Collection"
   ]
  },
  {
   "cell_type": "code",
   "execution_count": null,
   "metadata": {},
   "outputs": [],
   "source": [
    "stock_path = '/Users/vivek/.cache/kagglehub/datasets/jacksoncrow/stock-market-dataset/versions/2/stocks'\n",
    "meta_path  = '/Users/vivek/.cache/kagglehub/datasets/jacksoncrow/stock-market-dataset/versions/2/symbols_valid_meta.csv'\n",
    "nasdaq100_path = '/Users/vivek/.cache/kagglehub/datasets/jacksoncrow/stock-market-dataset/versions/2/nasdaq_100.csv'\n",
    "\n",
    "stock_data = NASDAQDataset(stock_path, meta_path, nasdaq100_path, \"2014-01-01\") # Collect all data after 2014-01-01\n",
    "stock_data.read_data()\n",
    "\n",
    "# Generate graphs for each day from the 30th data point (we need a minimum of 30 days to compute correlations)\n",
    "\n",
    "for date in tqdm(stock_data.data['AAPL'].index[30:]):\n",
    "    G = stock_data.daily_graph_generator(date, threshold = 1, window_size = 10)\n"
   ]
  },
  {
   "cell_type": "code",
   "execution_count": 3,
   "metadata": {},
   "outputs": [
    {
     "name": "stderr",
     "output_type": "stream",
     "text": [
      "100%|██████████| 1000/1000 [00:13<00:00, 71.71it/s]\n",
      "100%|██████████| 541/541 [00:07<00:00, 73.02it/s]\n"
     ]
    }
   ],
   "source": [
    "import random\n",
    "\n",
    "# Read the gml files and create PyG data objects (required only once)\n",
    "\n",
    "data_path = '/Users/vivek/Documents/PhD/UIUC/Fall24/CS598/Project/GNN-Stock-Market-Prediction/dataset/graphs'\n",
    "data_list = [os.path.join(data_path, file) for file in os.listdir(data_path)]\n",
    "\n",
    "# Select 1000 random elements from data_list\n",
    "\n",
    "train_list = random.sample(data_list, 1000)\n",
    "test_list = [file for file in data_list if file not in train_list]\n",
    "\n",
    "train_loader = gnn_data_obj(train_list) # train on first 1000 graphs\n",
    "test_loader = gnn_data_obj(test_list) # test on remaining graphs"
   ]
  },
  {
   "cell_type": "code",
   "execution_count": null,
   "metadata": {},
   "outputs": [],
   "source": [
    "# # Save the train and test datasets\n",
    "\n",
    "# save_path = '/Users/vivek/Documents/PhD/UIUC/Fall24/CS598/Project/GNN-Stock-Market-Prediction/dataset/processed_dir/10/'\n",
    "# torch.save(train_loader, os.path.join(save_path, 'train_10_1.pt'))\n",
    "# torch.save(test_loader, os.path.join(save_path, 'test_10_1.pt'))"
   ]
  },
  {
   "cell_type": "code",
   "execution_count": 9,
   "metadata": {},
   "outputs": [],
   "source": [
    "# Load the processed data (saves time)\n",
    "\n",
    "load_train_path = '/Users/vivek/Documents/PhD/UIUC/Fall24/CS598/Project/GNN-Stock-Market-Prediction/dataset/processed_dir/10/train_10_1.pt'\n",
    "load_test_path = '/Users/vivek/Documents/PhD/UIUC/Fall24/CS598/Project/GNN-Stock-Market-Prediction/dataset/processed_dir/10/test_10_1.pt'\n",
    "\n",
    "# Load the list of Data objects\n",
    "\n",
    "train_loader = torch.load(load_train_path)\n",
    "test_loader = torch.load(load_test_path)"
   ]
  },
  {
   "cell_type": "code",
   "execution_count": 10,
   "metadata": {},
   "outputs": [],
   "source": [
    "class StockGAT(torch.nn.Module):\n",
    "\n",
    "    # A 3-layer GAT for node regression\n",
    "    \n",
    "    def __init__(self):\n",
    "        \n",
    "        super(StockGAT, self).__init__()\n",
    "\n",
    "        self.conv1 = GATConv(20, 64, heads = 2, concat= False, dropout = 0.3)\n",
    "        self.conv2 = GATConv(64, 1, heads = 2, concat = False, dropout = 0.3)\n",
    "        # self.conv3 = GATConv(32, 1, heads = 2, concat = False, dropout = 0.3)        \n",
    "    \n",
    "    def forward(self, data):\n",
    "\n",
    "        x, edge_index, edge_attr = data.x, data.edge_index, data.edge_attr\n",
    "\n",
    "        x = self.conv1(x, edge_index)\n",
    "        x = torch.relu(x)\n",
    "        x = F.dropout(x, p = 0.3, training=self.training)\n",
    "        \n",
    "        x = self.conv2(x, edge_index)\n",
    "        # x = torch.relu(x)\n",
    "        # x = F.dropout(x, p = 0.3, training=self.training)\n",
    "        \n",
    "        # x = self.conv3(x, edge_index)\n",
    "\n",
    "        return x"
   ]
  },
  {
   "cell_type": "code",
   "execution_count": 11,
   "metadata": {},
   "outputs": [],
   "source": [
    "# # Check if there are edges other than self loops\n",
    "\n",
    "# count = 0\n",
    "\n",
    "# for data in train_loader:\n",
    "    \n",
    "#     G = nx.read_gml(data)\n",
    "\n",
    "#     if len(G.edges) > len(G.nodes):\n",
    "#         print(data)\n",
    "#         count += 1"
   ]
  },
  {
   "cell_type": "markdown",
   "metadata": {},
   "source": [
    "### Training"
   ]
  },
  {
   "cell_type": "code",
   "execution_count": 12,
   "metadata": {},
   "outputs": [],
   "source": [
    "# Initialize the StockGNN model and optimizer\n",
    "\n",
    "device = torch.device('cuda' if torch.cuda.is_available() else 'cpu')\n",
    "\n",
    "stock_gcn_model = StockGCN().to(device)\n",
    "gcn_optimizer = torch.optim.Adam(stock_gcn_model.parameters(), lr=0.001, weight_decay = 1e-4)\n",
    "\n",
    "stock_gat_model = StockGAT().to(device)\n",
    "gat_optimizer = torch.optim.Adam(stock_gat_model.parameters(), lr=0.0008, weight_decay =1e-4)\n",
    "\n",
    "stock_graph_sage_model = StockGraphSAGE().to(device)\n",
    "graph_sage_optimizer = torch.optim.Adam(stock_graph_sage_model.parameters(), lr=0.001, weight_decay = 1e-4)"
   ]
  },
  {
   "cell_type": "code",
   "execution_count": 13,
   "metadata": {},
   "outputs": [
    {
     "name": "stdout",
     "output_type": "stream",
     "text": [
      "MAPE Linear Regression: 1.9765061990817572\n",
      "MAPE Moving Average: 1.999117126395709\n",
      "MAPE Exponential Smoothing: 1.8946309610960281\n",
      "MAPE Holt-Winters: 1.844034975053753\n",
      "**************************************************\n",
      "RMSE Linear Regression: 6.757386684417725\n",
      "RMSE Moving Average: 6.753388404846191\n",
      "RMSE Exponential Smoothing: 6.342061996459961\n",
      "RMSE Holt-Winters: 6.2757368087768555\n"
     ]
    }
   ],
   "source": [
    "\n",
    "mape, rmse = eval_baseline(test_loader)\n",
    "\n",
    "\n",
    "\n",
    "print(f'MAPE Linear Regression: {mape[0] * 100}')\n",
    "print(f'MAPE Moving Average: {mape[1] * 100}')\n",
    "print(f'MAPE Exponential Smoothing: {mape[2] * 100}')\n",
    "print(f'MAPE Holt-Winters: {mape[3] * 100}')\n",
    "\n",
    "print(\"*\"*50)\n",
    "\n",
    "print(f'RMSE Linear Regression: {rmse[0]}')\n",
    "print(f'RMSE Moving Average: {rmse[1]}')\n",
    "print(f'RMSE Exponential Smoothing: {rmse[2]}')\n",
    "print(f'RMSE Holt-Winters: {rmse[3]}')"
   ]
  },
  {
   "cell_type": "code",
   "execution_count": null,
   "metadata": {},
   "outputs": [],
   "source": [
    "# TRAIN!\n",
    "\n",
    "train_loss, test_mape, test_rmse = train(stock_gcn_model, gcn_optimizer, train_loader, test_loader, 300)"
   ]
  },
  {
   "cell_type": "code",
   "execution_count": null,
   "metadata": {},
   "outputs": [],
   "source": [
    "train_loss_gat, test_mape_gat, test_rmse_gat = train(stock_gat_model, gat_optimizer, train_loader, test_loader, 300)\n",
    "\n"
   ]
  },
  {
   "cell_type": "code",
   "execution_count": null,
   "metadata": {},
   "outputs": [],
   "source": [
    "train_loss_graph_sage, test_mape_graph_sage, test_rmse_graph_sage = train(stock_graph_sage_model, graph_sage_optimizer, train_loader, test_loader, 300)"
   ]
  },
  {
   "cell_type": "code",
   "execution_count": null,
   "metadata": {},
   "outputs": [],
   "source": [
    "# Plot the validation MAPE\n",
    "\n",
    "plt.title('Validation MAPE')\n",
    "# plt.plot(test_mape, label = 'GCN')\n",
    "plt.plot(test_mape_gat, label = 'GAT')\n",
    "plt.legend()\n",
    "plt.xlabel('Epochs')\n",
    "plt.ylabel('Mean Absolute Percentage Error')\n",
    "plt.show()"
   ]
  }
 ],
 "metadata": {
  "kernelspec": {
   "display_name": "base",
   "language": "python",
   "name": "python3"
  },
  "language_info": {
   "codemirror_mode": {
    "name": "ipython",
    "version": 3
   },
   "file_extension": ".py",
   "mimetype": "text/x-python",
   "name": "python",
   "nbconvert_exporter": "python",
   "pygments_lexer": "ipython3",
   "version": "3.9.13"
  }
 },
 "nbformat": 4,
 "nbformat_minor": 2
}
