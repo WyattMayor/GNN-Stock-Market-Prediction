{
 "cells": [
  {
   "cell_type": "markdown",
   "metadata": {},
   "source": [
    "A front-end to collect data, train and test the GNN for NASDAQ100 stock predictions"
   ]
  },
  {
   "cell_type": "code",
   "execution_count": null,
   "metadata": {},
   "outputs": [],
   "source": [
    "from dataset.data import *\n",
    "from models.gnn import *"
   ]
  },
  {
   "cell_type": "markdown",
   "metadata": {},
   "source": [
    "Data Collection"
   ]
  },
  {
   "cell_type": "code",
   "execution_count": null,
   "metadata": {},
   "outputs": [],
   "source": [
    "stock_path = '/Users/vivek/.cache/kagglehub/datasets/jacksoncrow/stock-market-dataset/versions/2/stocks'\n",
    "meta_path  = '/Users/vivek/.cache/kagglehub/datasets/jacksoncrow/stock-market-dataset/versions/2/symbols_valid_meta.csv'\n",
    "nasdaq100_path = '/Users/vivek/.cache/kagglehub/datasets/jacksoncrow/stock-market-dataset/versions/2/nasdaq_100.csv'\n",
    "\n",
    "stock_data = NASDAQDataset(stock_path, meta_path, nasdaq100_path, \"2014-01-01\") # Collect all data after 2014-01-01\n",
    "stock_data.read_data()\n",
    "\n",
    "# Generate graphs for each day (from 2014-01-01 onwards)\n",
    "\n",
    "for date in stock_data.data:\n",
    "    G = stock_data.daily_graph_generator(date)"
   ]
  },
  {
   "cell_type": "code",
   "execution_count": null,
   "metadata": {},
   "outputs": [],
   "source": [
    "# Read the gml files and create PyG data objects\n",
    "\n",
    "data_path = '/Users/vivek/Documents/PhD/UIUC/Fall24/CS598/Project/GNN-Stock-Market-Prediction/dataset/graphs'\n",
    "data_list = [os.path.join(data_path, file) for file in os.listdir(data_path)]\n",
    "\n",
    "train_loader = gnn_data_obj(data_list[0:1000]) # train on first 1000 graphs\n",
    "test_loader = gnn_data_obj(data_list[1000:]) # test on remaining graphs"
   ]
  },
  {
   "cell_type": "markdown",
   "metadata": {},
   "source": [
    "Training"
   ]
  },
  {
   "cell_type": "code",
   "execution_count": null,
   "metadata": {},
   "outputs": [],
   "source": [
    "# Initialize the StockGNN model and optimizer\n",
    "\n",
    "device = torch.device('cuda' if torch.cuda.is_available() else 'cpu')\n",
    "stock_model = StockGNN().to(device)\n",
    "optimizer = torch.optim.Adam(stock_model.parameters(), lr=0.005, weight_decay=1e-5)"
   ]
  },
  {
   "cell_type": "code",
   "execution_count": null,
   "metadata": {},
   "outputs": [],
   "source": [
    "# TRAIN!\n",
    "\n",
    "train_loss, test_loss = train_gnn(stock_model, optimizer, train_loader, test_loader, 10)"
   ]
  },
  {
   "cell_type": "code",
   "execution_count": null,
   "metadata": {},
   "outputs": [],
   "source": [
    "# Plot the validation MAPE\n",
    "\n",
    "# plt.plot(train_loss, label = 'Training Loss')\n",
    "\n",
    "plt.plot(test_loss, label = 'Test Loss')\n",
    "plt.xlabel('Epochs')\n",
    "plt.ylabel('Mean Absolute Percentage Error')\n",
    "plt.show()"
   ]
  }
 ],
 "metadata": {
  "kernelspec": {
   "display_name": "base",
   "language": "python",
   "name": "python3"
  },
  "language_info": {
   "codemirror_mode": {
    "name": "ipython",
    "version": 3
   },
   "file_extension": ".py",
   "mimetype": "text/x-python",
   "name": "python",
   "nbconvert_exporter": "python",
   "pygments_lexer": "ipython3",
   "version": "3.9.13"
  }
 },
 "nbformat": 4,
 "nbformat_minor": 2
}
