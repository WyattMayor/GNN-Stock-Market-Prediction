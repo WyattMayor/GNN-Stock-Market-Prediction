{
 "cells": [
  {
   "cell_type": "markdown",
   "metadata": {},
   "source": [
    "### Stock Market Prediction using Graph Neural Networks"
   ]
  },
  {
   "cell_type": "code",
   "execution_count": 1,
   "metadata": {},
   "outputs": [],
   "source": [
    "from dataset.data import *\n",
    "from models.gnn import *\n",
    "from datetime import datetime"
   ]
  },
  {
   "cell_type": "markdown",
   "metadata": {},
   "source": [
    "### Data Collection"
   ]
  },
  {
   "cell_type": "code",
   "execution_count": null,
   "metadata": {},
   "outputs": [],
   "source": [
    "stock_path = '/Users/vivek/.cache/kagglehub/datasets/jacksoncrow/stock-market-dataset/versions/2/stocks'\n",
    "meta_path  = '/Users/vivek/.cache/kagglehub/datasets/jacksoncrow/stock-market-dataset/versions/2/symbols_valid_meta.csv'\n",
    "nasdaq100_path = '/Users/vivek/.cache/kagglehub/datasets/jacksoncrow/stock-market-dataset/versions/2/nasdaq_100.csv'\n",
    "\n",
    "stock_data = NASDAQDataset(stock_path, meta_path, nasdaq100_path, \"2014-01-01\") # Collect all data after 2014-01-01\n",
    "stock_data.read_data()\n",
    "\n",
    "# Generate graphs for each day from the 30th data point (we need a minimum of 30 days to compute correlations)\n",
    "\n",
    "for date in tqdm(stock_data.data['AAPL'].index[30:]):\n",
    "    G = stock_data.daily_graph_generator(date)\n"
   ]
  },
  {
   "cell_type": "code",
   "execution_count": null,
   "metadata": {},
   "outputs": [],
   "source": [
    "import random\n",
    "\n",
    "# Read the gml files and create PyG data objects (required only once)\n",
    "\n",
    "data_path = '/Users/vivek/Documents/PhD/UIUC/Fall24/CS598/Project/GNN-Stock-Market-Prediction/dataset/graphs'\n",
    "data_list = [os.path.join(data_path, file) for file in os.listdir(data_path)]\n",
    "\n",
    "# Select 1000 random elements from data_list\n",
    "\n",
    "train_list = random.sample(data_list, 1000)\n",
    "test_list = [file for file in data_list if file not in train_list]\n",
    "\n",
    "train_loader = gnn_data_obj(train_list) # train on first 1000 graphs\n",
    "test_loader = gnn_data_obj(test_list) # test on remaining graphs\n",
    "\n",
    "# Save the train and test datasets\n",
    "\n",
    "save_path = '/Users/vivek/Documents/PhD/UIUC/Fall24/CS598/Project/GNN-Stock-Market-Prediction/dataset/processed_dir/'\n",
    "torch.save(test_loader, os.path.join(save_path, 'test_98.pt'))"
   ]
  },
  {
   "cell_type": "code",
   "execution_count": 4,
   "metadata": {},
   "outputs": [],
   "source": [
    "# Load the processed data (saves time)\n",
    "\n",
    "load_train_path = '/Users/vivek/Documents/PhD/UIUC/Fall24/CS598/Project/GNN-Stock-Market-Prediction/dataset/processed_dir/train_98.pt'\n",
    "load_test_path = '/Users/vivek/Documents/PhD/UIUC/Fall24/CS598/Project/GNN-Stock-Market-Prediction/dataset/processed_dir/train_98.pt'\n",
    "\n",
    "# Load the list of Data objects\n",
    "\n",
    "train_loader = torch.load(load_train_path)\n",
    "test_loader = torch.load(load_test_path)"
   ]
  },
  {
   "cell_type": "code",
   "execution_count": 5,
   "metadata": {},
   "outputs": [],
   "source": [
    "class StockGAT(torch.nn.Module):\n",
    "\n",
    "    # A 3-layer GAT for node regression\n",
    "    \n",
    "    def __init__(self):\n",
    "        \n",
    "        super(StockGAT, self).__init__()\n",
    "\n",
    "        self.conv1 = GATConv(30, 128, heads = 2, concat= False, dropout = 0.3)\n",
    "        self.conv2 = GATConv(128, 1, heads = 2, concat = False, dropout = 0.3)\n",
    "        # self.conv3 = GATConv(32, 1, heads = 2, concat = False, dropout = 0.3, add_self_loops=True)        \n",
    "    \n",
    "    def forward(self, data):\n",
    "\n",
    "        x, edge_index, edge_attr = data.x, data.edge_index, data.edge_attr\n",
    "\n",
    "        x = self.conv1(x, edge_index)\n",
    "        x = torch.relu(x)\n",
    "        x = F.dropout(x, p = 0.3, training=self.training)\n",
    "        \n",
    "        # x = self.conv2(x, edge_index)\n",
    "        # x = torch.relu(x)\n",
    "        # x = F.dropout(x, p = 0.3, training=self.training)\n",
    "        \n",
    "        x = self.conv2(x, edge_index)\n",
    "\n",
    "        return x"
   ]
  },
  {
   "cell_type": "code",
   "execution_count": 8,
   "metadata": {},
   "outputs": [],
   "source": [
    "# # Check if there are edges other than self loops\n",
    "\n",
    "# count = 0\n",
    "\n",
    "# for data in train_loader:\n",
    "    \n",
    "#     G = nx.read_gml(data)\n",
    "\n",
    "#     if len(G.edges) > len(G.nodes):\n",
    "#         print(data)\n",
    "#         count += 1"
   ]
  },
  {
   "cell_type": "markdown",
   "metadata": {},
   "source": [
    "### Training"
   ]
  },
  {
   "cell_type": "code",
   "execution_count": 9,
   "metadata": {},
   "outputs": [],
   "source": [
    "# Initialize the StockGNN model and optimizer\n",
    "\n",
    "device = torch.device('cuda' if torch.cuda.is_available() else 'cpu')\n",
    "\n",
    "stock_gcn_model = StockGCN().to(device)\n",
    "gcn_optimizer = torch.optim.Adam(stock_gcn_model.parameters(), lr=0.001, weight_decay=1e-5)\n",
    "\n",
    "stock_gat_model = StockGAT().to(device)\n",
    "gat_optimizer = torch.optim.Adam(stock_gat_model.parameters(), lr=0.0008, weight_decay=1e-5)"
   ]
  },
  {
   "cell_type": "code",
   "execution_count": 13,
   "metadata": {},
   "outputs": [
    {
     "name": "stdout",
     "output_type": "stream",
     "text": [
      "MAPE Linear Regression: 0.028885844497941435\n",
      "MAPE Moving Average: 0.019437339208088815\n",
      "MAPE Exponential Smoothing: 0.018369649408385157\n",
      "MAPE Holt Winters: 0.014053557375911623\n"
     ]
    }
   ],
   "source": [
    "def eval_baseline(test_loader):\n",
    "\n",
    "    total_mape_linr = 0\n",
    "    total_mape_mov_avg = 0\n",
    "    total_mape_exp_smoothing = 0\n",
    "    total_mape_holt_winters = 0\n",
    "    \n",
    "    for data in test_loader:\n",
    "\n",
    "        y = data.y\n",
    "\n",
    "        # Compute the Mean Absolute Percentage Error\n",
    "\n",
    "        mape_linr = float(torch.mean(torch.abs((y - data.linr_regr) / (y + 1e-7))))\n",
    "        mape_mov_avg = float(torch.mean(torch.abs((y - data.mov_avg) / (y + 1e-7))))\n",
    "        mape_exp_smoothing = float(torch.mean(torch.abs((y - data.exp_smoothing) / (y + 1e-7))))\n",
    "        mape_holt_winters = float(torch.mean(torch.abs((y - data.holt_winters) / (y + 1e-7))))\n",
    "\n",
    "        total_mape_linr += mape_linr\n",
    "        total_mape_mov_avg += mape_mov_avg\n",
    "        total_mape_exp_smoothing += mape_exp_smoothing\n",
    "        total_mape_holt_winters += mape_holt_winters\n",
    "\n",
    "    return total_mape_linr/len(test_loader), total_mape_mov_avg/len(test_loader), total_mape_exp_smoothing/len(test_loader), total_mape_holt_winters/len(test_loader)\n",
    "\n",
    "mape_linr, mape_mov_avg, mape_exp_smoothing, mape_holt_winters = eval_baseline(test_loader)\n",
    "\n",
    "print(f'MAPE Linear Regression: {mape_linr}')\n",
    "print(f'MAPE Moving Average: {mape_mov_avg}')\n",
    "print(f'MAPE Exponential Smoothing: {mape_exp_smoothing}')\n",
    "print(f'MAPE Holt Winters: {mape_holt_winters}')"
   ]
  },
  {
   "cell_type": "code",
   "execution_count": 14,
   "metadata": {},
   "outputs": [
    {
     "name": "stderr",
     "output_type": "stream",
     "text": [
      "  0%|          | 1/200 [00:02<08:20,  2.51s/it]"
     ]
    },
    {
     "name": "stdout",
     "output_type": "stream",
     "text": [
      "Epoch 000, Train Loss: 24543.4019, Val MAPE: 0.4139\n"
     ]
    },
    {
     "name": "stderr",
     "output_type": "stream",
     "text": [
      "  6%|▌         | 11/200 [00:27<07:08,  2.27s/it]"
     ]
    },
    {
     "name": "stdout",
     "output_type": "stream",
     "text": [
      "Epoch 010, Train Loss: 100.7195, Val MAPE: 0.0370\n"
     ]
    },
    {
     "name": "stderr",
     "output_type": "stream",
     "text": [
      " 10%|█         | 21/200 [00:48<06:17,  2.11s/it]"
     ]
    },
    {
     "name": "stdout",
     "output_type": "stream",
     "text": [
      "Epoch 020, Train Loss: 82.0322, Val MAPE: 0.0219\n"
     ]
    },
    {
     "name": "stderr",
     "output_type": "stream",
     "text": [
      " 16%|█▌        | 31/200 [01:11<06:11,  2.20s/it]"
     ]
    },
    {
     "name": "stdout",
     "output_type": "stream",
     "text": [
      "Epoch 030, Train Loss: 72.2193, Val MAPE: 0.0168\n"
     ]
    },
    {
     "name": "stderr",
     "output_type": "stream",
     "text": [
      " 20%|██        | 41/200 [01:31<05:23,  2.03s/it]"
     ]
    },
    {
     "name": "stdout",
     "output_type": "stream",
     "text": [
      "Epoch 040, Train Loss: 69.0580, Val MAPE: 0.0156\n"
     ]
    },
    {
     "name": "stderr",
     "output_type": "stream",
     "text": [
      " 26%|██▌       | 51/200 [01:52<05:03,  2.04s/it]"
     ]
    },
    {
     "name": "stdout",
     "output_type": "stream",
     "text": [
      "Epoch 050, Train Loss: 64.6979, Val MAPE: 0.0155\n"
     ]
    },
    {
     "name": "stderr",
     "output_type": "stream",
     "text": [
      " 30%|███       | 61/200 [02:12<04:41,  2.03s/it]"
     ]
    },
    {
     "name": "stdout",
     "output_type": "stream",
     "text": [
      "Epoch 060, Train Loss: 60.9714, Val MAPE: 0.0156\n"
     ]
    },
    {
     "name": "stderr",
     "output_type": "stream",
     "text": [
      " 36%|███▌      | 71/200 [02:34<04:51,  2.26s/it]"
     ]
    },
    {
     "name": "stdout",
     "output_type": "stream",
     "text": [
      "Epoch 070, Train Loss: 58.3972, Val MAPE: 0.0158\n"
     ]
    },
    {
     "name": "stderr",
     "output_type": "stream",
     "text": [
      " 40%|████      | 81/200 [02:56<04:26,  2.24s/it]"
     ]
    },
    {
     "name": "stdout",
     "output_type": "stream",
     "text": [
      "Epoch 080, Train Loss: 56.1990, Val MAPE: 0.0159\n"
     ]
    },
    {
     "name": "stderr",
     "output_type": "stream",
     "text": [
      " 46%|████▌     | 91/200 [03:18<04:03,  2.23s/it]"
     ]
    },
    {
     "name": "stdout",
     "output_type": "stream",
     "text": [
      "Epoch 090, Train Loss: 54.8592, Val MAPE: 0.0162\n"
     ]
    },
    {
     "name": "stderr",
     "output_type": "stream",
     "text": [
      " 50%|█████     | 101/200 [03:40<03:39,  2.22s/it]"
     ]
    },
    {
     "name": "stdout",
     "output_type": "stream",
     "text": [
      "Epoch 100, Train Loss: 52.9819, Val MAPE: 0.0162\n"
     ]
    },
    {
     "name": "stderr",
     "output_type": "stream",
     "text": [
      " 56%|█████▌    | 111/200 [04:01<03:02,  2.06s/it]"
     ]
    },
    {
     "name": "stdout",
     "output_type": "stream",
     "text": [
      "Epoch 110, Train Loss: 51.8000, Val MAPE: 0.0163\n"
     ]
    },
    {
     "name": "stderr",
     "output_type": "stream",
     "text": [
      " 60%|██████    | 121/200 [04:24<03:10,  2.41s/it]"
     ]
    },
    {
     "name": "stdout",
     "output_type": "stream",
     "text": [
      "Epoch 120, Train Loss: 49.6450, Val MAPE: 0.0164\n"
     ]
    },
    {
     "name": "stderr",
     "output_type": "stream",
     "text": [
      " 66%|██████▌   | 131/200 [04:46<02:26,  2.13s/it]"
     ]
    },
    {
     "name": "stdout",
     "output_type": "stream",
     "text": [
      "Epoch 130, Train Loss: 50.1073, Val MAPE: 0.0165\n"
     ]
    },
    {
     "name": "stderr",
     "output_type": "stream",
     "text": [
      " 70%|███████   | 141/200 [05:11<02:30,  2.55s/it]"
     ]
    },
    {
     "name": "stdout",
     "output_type": "stream",
     "text": [
      "Epoch 140, Train Loss: 49.4193, Val MAPE: 0.0165\n"
     ]
    },
    {
     "name": "stderr",
     "output_type": "stream",
     "text": [
      " 76%|███████▌  | 151/200 [05:32<01:44,  2.14s/it]"
     ]
    },
    {
     "name": "stdout",
     "output_type": "stream",
     "text": [
      "Epoch 150, Train Loss: 48.9712, Val MAPE: 0.0166\n"
     ]
    },
    {
     "name": "stderr",
     "output_type": "stream",
     "text": [
      " 80%|████████  | 161/200 [05:56<01:29,  2.30s/it]"
     ]
    },
    {
     "name": "stdout",
     "output_type": "stream",
     "text": [
      "Epoch 160, Train Loss: 48.5776, Val MAPE: 0.0138\n"
     ]
    },
    {
     "name": "stderr",
     "output_type": "stream",
     "text": [
      " 86%|████████▌ | 171/200 [06:18<01:01,  2.11s/it]"
     ]
    },
    {
     "name": "stdout",
     "output_type": "stream",
     "text": [
      "Epoch 170, Train Loss: 48.1965, Val MAPE: 0.0166\n"
     ]
    },
    {
     "name": "stderr",
     "output_type": "stream",
     "text": [
      " 90%|█████████ | 181/200 [06:39<00:40,  2.13s/it]"
     ]
    },
    {
     "name": "stdout",
     "output_type": "stream",
     "text": [
      "Epoch 180, Train Loss: 48.7180, Val MAPE: 0.0182\n"
     ]
    },
    {
     "name": "stderr",
     "output_type": "stream",
     "text": [
      " 96%|█████████▌| 191/200 [07:00<00:18,  2.05s/it]"
     ]
    },
    {
     "name": "stdout",
     "output_type": "stream",
     "text": [
      "Epoch 190, Train Loss: 47.0853, Val MAPE: 0.0172\n"
     ]
    },
    {
     "name": "stderr",
     "output_type": "stream",
     "text": [
      "100%|██████████| 200/200 [07:19<00:00,  2.20s/it]\n"
     ]
    }
   ],
   "source": [
    "# TRAIN!\n",
    "\n",
    "# train_loss, test_mape = train(stock_gcn_model, gcn_optimizer, train_loader, train_loader, 200)\n",
    "\n",
    "train_loss_gat, test_mape_gat = train(stock_gat_model, gat_optimizer, train_loader, test_loader, 200)"
   ]
  },
  {
   "cell_type": "code",
   "execution_count": 15,
   "metadata": {},
   "outputs": [
    {
     "data": {
      "image/png": "[encoded data removed]",
      "text/plain": [
       "<Figure size 640x480 with 1 Axes>"
      ]
     },
     "metadata": {},
     "output_type": "display_data"
    }
   ],
   "source": [
    "# Plot the validation MAPE\n",
    "\n",
    "plt.title('Validation MAPE')\n",
    "# plt.plot(test_mape, label = 'GCN')\n",
    "plt.plot(test_mape_gat, label = 'GAT')\n",
    "plt.legend()\n",
    "plt.xlabel('Epochs')\n",
    "plt.ylabel('Mean Absolute Percentage Error')\n",
    "plt.show()"
   ]
  }
 ],
 "metadata": {
  "kernelspec": {
   "display_name": "base",
   "language": "python",
   "name": "python3"
  },
  "language_info": {
   "codemirror_mode": {
    "name": "ipython",
    "version": 3
   },
   "file_extension": ".py",
   "mimetype": "text/x-python",
   "name": "python",
   "nbconvert_exporter": "python",
   "pygments_lexer": "ipython3",
   "version": "3.9.13"
  }
 },
 "nbformat": 4,
 "nbformat_minor": 2
}
